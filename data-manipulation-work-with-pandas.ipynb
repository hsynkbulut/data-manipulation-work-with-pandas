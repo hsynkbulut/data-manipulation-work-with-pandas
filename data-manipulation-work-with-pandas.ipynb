{
 "cells": [
  {
   "cell_type": "markdown",
   "id": "d7680845",
   "metadata": {
    "papermill": {
     "duration": 0.024982,
     "end_time": "2022-09-06T06:52:41.940817",
     "exception": false,
     "start_time": "2022-09-06T06:52:41.915835",
     "status": "completed"
    },
    "tags": []
   },
   "source": [
    "# Data Manipulation work with pandas\n",
    "---\n",
    "## Öğreneceğimiz Alt Başlıklar\n",
    "1. Transforming DataFrames\n",
    "2. Aggregating DataFrames\n",
    "3. Slicing and Indexing DataFrames\n",
    "4. Creating and Visualizing DataFrames\n",
    "---\n",
    "## Veri Setlerini Tanıyalım\n",
    "- avocado: Yıllara göre satılan avokado sayılarını içeren bir veri setidir.\n",
    "- homelessness: Her ABD eyaletindeki evsizlik tahminlerini içeren bir veri setidir.\n",
    "- temperatures: Dünyanın dört bir yanındaki şehirlerdeki ortalama sıcaklıkları içeren bir veri setidir. \n",
    "- walmart: Her mağaza türünde yapılan toplam benzin satışları içeren bir veri setidir.\n",
    "---\n",
    "### *homelessness veri setini tanıyalım*\n",
    "> *Sütun isimlerine ve bunları ne için kullanacağımıza bakalım*\n",
    "* region: bölge\n",
    "* state: eyalet\n",
    "* individuals: bireysel, çocuklu bir ailenin parçası olmayan evsiz bireylerin sayısıdır.\n",
    "* family_members: çocuklu bir ailenin parçası olan evsiz bireylerin sayısıdır.\n",
    "* state_pop: eyaletin toplam nüfusu\n",
    "---\n",
    "### *walmart veri setini tanıyalım*\n",
    "> *Sütun isimlerine ve bunları ne için kullanacağımıza bakalım*\n",
    "* store: mağaza \n",
    "* type: tür, tip\n",
    "* department: departman, bölüm\n",
    "* date: tarih\n",
    "* weekly_sales: haftalık satışlar\n",
    "* is_holiday: tatil mi? durumu\n",
    "* temperature_c: sıcaklık (santigrat)\n",
    "* fuel_price_usd_per_l: litre başına benzin fiyatları\n",
    "* unemployment: işsizlik\n",
    "---\n",
    "### *avocado veri setini tanıyalım*\n",
    "> *Sütun isimlerine ve bunları ne için kullanacağımıza bakalım*\n",
    "* date: tarih\n",
    "* type: tür\n",
    "* year: yıl\n",
    "* avg_price: ortalama fiyat\n",
    "* size: boyutu\n",
    "* nb_sold: satılan avokado sayısı\n",
    "---\n",
    "### *temperatures veri setini tanıyalım*\n",
    "> *Sütun isimlerine ve bunları ne için kullanacağımıza bakalım*\n",
    "* date: tarih\n",
    "* city: şehir\n",
    "* country: ülke\n",
    "* avg_temp_c: ortalama sıcaklık (santigrat)\n",
    "---"
   ]
  },
  {
   "cell_type": "code",
   "execution_count": 1,
   "id": "48461888",
   "metadata": {
    "_cell_guid": "b1076dfc-b9ad-4769-8c92-a6c4dae69d19",
    "_uuid": "8f2839f25d086af736a60e9eeb907d3b93b6e0e5",
    "execution": {
     "iopub.execute_input": "2022-09-06T06:52:41.989239Z",
     "iopub.status.busy": "2022-09-06T06:52:41.988165Z",
     "iopub.status.idle": "2022-09-06T06:52:42.005682Z",
     "shell.execute_reply": "2022-09-06T06:52:42.004731Z"
    },
    "papermill": {
     "duration": 0.045278,
     "end_time": "2022-09-06T06:52:42.008730",
     "exception": false,
     "start_time": "2022-09-06T06:52:41.963452",
     "status": "completed"
    },
    "tags": []
   },
   "outputs": [],
   "source": [
    "import numpy as np\n",
    "import pandas as pd\n",
    "import matplotlib.pyplot as plt"
   ]
  },
  {
   "cell_type": "code",
   "execution_count": 2,
   "id": "8aa99db3",
   "metadata": {
    "execution": {
     "iopub.execute_input": "2022-09-06T06:52:42.058570Z",
     "iopub.status.busy": "2022-09-06T06:52:42.057795Z",
     "iopub.status.idle": "2022-09-06T06:52:42.146135Z",
     "shell.execute_reply": "2022-09-06T06:52:42.144695Z"
    },
    "papermill": {
     "duration": 0.116305,
     "end_time": "2022-09-06T06:52:42.149126",
     "exception": false,
     "start_time": "2022-09-06T06:52:42.032821",
     "status": "completed"
    },
    "tags": []
   },
   "outputs": [],
   "source": [
    "avocado = pd.read_pickle(\"../input/datamanipulationwithpandas/avoplotto.pkl\")\n",
    "homelessness = pd.read_csv(\"../input/datamanipulationwithpandas/homelessness.csv\")\n",
    "temperatures = pd.read_csv(\"../input/datamanipulationwithpandas/temperatures.csv\")\n",
    "walmart = pd.read_csv(\"../input/datamanipulationwithpandas/sales_subset.csv\")"
   ]
  },
  {
   "cell_type": "markdown",
   "id": "70a7f53c",
   "metadata": {
    "papermill": {
     "duration": 0.023261,
     "end_time": "2022-09-06T06:52:42.195432",
     "exception": false,
     "start_time": "2022-09-06T06:52:42.172171",
     "status": "completed"
    },
    "tags": []
   },
   "source": [
    "---\n",
    "#### *Evet ilk alt başlığımız olan \"Transforming DataFrames\" ile başlayalım. Bu konu için \"homelessness\" adlı veri setini kullanacağız. Hazırsanız başlıyoruz.*\n",
    "---"
   ]
  },
  {
   "cell_type": "code",
   "execution_count": 3,
   "id": "631d0fd9",
   "metadata": {
    "execution": {
     "iopub.execute_input": "2022-09-06T06:52:42.242836Z",
     "iopub.status.busy": "2022-09-06T06:52:42.242092Z",
     "iopub.status.idle": "2022-09-06T06:52:42.269955Z",
     "shell.execute_reply": "2022-09-06T06:52:42.268716Z"
    },
    "papermill": {
     "duration": 0.054606,
     "end_time": "2022-09-06T06:52:42.272728",
     "exception": false,
     "start_time": "2022-09-06T06:52:42.218122",
     "status": "completed"
    },
    "tags": []
   },
   "outputs": [
    {
     "data": {
      "text/html": [
       "<div>\n",
       "<style scoped>\n",
       "    .dataframe tbody tr th:only-of-type {\n",
       "        vertical-align: middle;\n",
       "    }\n",
       "\n",
       "    .dataframe tbody tr th {\n",
       "        vertical-align: top;\n",
       "    }\n",
       "\n",
       "    .dataframe thead th {\n",
       "        text-align: right;\n",
       "    }\n",
       "</style>\n",
       "<table border=\"1\" class=\"dataframe\">\n",
       "  <thead>\n",
       "    <tr style=\"text-align: right;\">\n",
       "      <th></th>\n",
       "      <th>region</th>\n",
       "      <th>state</th>\n",
       "      <th>individuals</th>\n",
       "      <th>family_members</th>\n",
       "      <th>state_pop</th>\n",
       "    </tr>\n",
       "  </thead>\n",
       "  <tbody>\n",
       "    <tr>\n",
       "      <th>0</th>\n",
       "      <td>East South Central</td>\n",
       "      <td>Alabama</td>\n",
       "      <td>2570.0</td>\n",
       "      <td>864.0</td>\n",
       "      <td>4887681</td>\n",
       "    </tr>\n",
       "    <tr>\n",
       "      <th>1</th>\n",
       "      <td>Pacific</td>\n",
       "      <td>Alaska</td>\n",
       "      <td>1434.0</td>\n",
       "      <td>582.0</td>\n",
       "      <td>735139</td>\n",
       "    </tr>\n",
       "    <tr>\n",
       "      <th>2</th>\n",
       "      <td>Mountain</td>\n",
       "      <td>Arizona</td>\n",
       "      <td>7259.0</td>\n",
       "      <td>2606.0</td>\n",
       "      <td>7158024</td>\n",
       "    </tr>\n",
       "    <tr>\n",
       "      <th>3</th>\n",
       "      <td>West South Central</td>\n",
       "      <td>Arkansas</td>\n",
       "      <td>2280.0</td>\n",
       "      <td>432.0</td>\n",
       "      <td>3009733</td>\n",
       "    </tr>\n",
       "    <tr>\n",
       "      <th>4</th>\n",
       "      <td>Pacific</td>\n",
       "      <td>California</td>\n",
       "      <td>109008.0</td>\n",
       "      <td>20964.0</td>\n",
       "      <td>39461588</td>\n",
       "    </tr>\n",
       "  </tbody>\n",
       "</table>\n",
       "</div>"
      ],
      "text/plain": [
       "               region       state  individuals  family_members  state_pop\n",
       "0  East South Central     Alabama       2570.0           864.0    4887681\n",
       "1             Pacific      Alaska       1434.0           582.0     735139\n",
       "2            Mountain     Arizona       7259.0          2606.0    7158024\n",
       "3  West South Central    Arkansas       2280.0           432.0    3009733\n",
       "4             Pacific  California     109008.0         20964.0   39461588"
      ]
     },
     "execution_count": 3,
     "metadata": {},
     "output_type": "execute_result"
    }
   ],
   "source": [
    "# \"Unnamed: 0\" adlı sütunu kaldıralım, o işimize yaramayacak gereksiz bir sütun\n",
    "homelessness.drop('Unnamed: 0', inplace=True, axis=1)\n",
    "\n",
    "# Evsizlik (homelessness) verisinin ilk 5 verisine bakalım\n",
    "homelessness.head()"
   ]
  },
  {
   "cell_type": "code",
   "execution_count": 4,
   "id": "477c51ff",
   "metadata": {
    "execution": {
     "iopub.execute_input": "2022-09-06T06:52:42.323088Z",
     "iopub.status.busy": "2022-09-06T06:52:42.322272Z",
     "iopub.status.idle": "2022-09-06T06:52:42.342543Z",
     "shell.execute_reply": "2022-09-06T06:52:42.340756Z"
    },
    "papermill": {
     "duration": 0.048554,
     "end_time": "2022-09-06T06:52:42.345069",
     "exception": false,
     "start_time": "2022-09-06T06:52:42.296515",
     "status": "completed"
    },
    "tags": []
   },
   "outputs": [
    {
     "name": "stdout",
     "output_type": "stream",
     "text": [
      "<class 'pandas.core.frame.DataFrame'>\n",
      "RangeIndex: 51 entries, 0 to 50\n",
      "Data columns (total 5 columns):\n",
      " #   Column          Non-Null Count  Dtype  \n",
      "---  ------          --------------  -----  \n",
      " 0   region          51 non-null     object \n",
      " 1   state           51 non-null     object \n",
      " 2   individuals     51 non-null     float64\n",
      " 3   family_members  51 non-null     float64\n",
      " 4   state_pop       51 non-null     int64  \n",
      "dtypes: float64(2), int64(1), object(2)\n",
      "memory usage: 2.1+ KB\n"
     ]
    }
   ],
   "source": [
    "# homelessness verisi hakkında bilgi edinelim biraz\n",
    "homelessness.info()"
   ]
  },
  {
   "cell_type": "code",
   "execution_count": 5,
   "id": "ad2c774c",
   "metadata": {
    "execution": {
     "iopub.execute_input": "2022-09-06T06:52:42.393635Z",
     "iopub.status.busy": "2022-09-06T06:52:42.392879Z",
     "iopub.status.idle": "2022-09-06T06:52:42.399639Z",
     "shell.execute_reply": "2022-09-06T06:52:42.398574Z"
    },
    "papermill": {
     "duration": 0.033534,
     "end_time": "2022-09-06T06:52:42.401813",
     "exception": false,
     "start_time": "2022-09-06T06:52:42.368279",
     "status": "completed"
    },
    "tags": []
   },
   "outputs": [
    {
     "data": {
      "text/plain": [
       "(51, 5)"
      ]
     },
     "execution_count": 5,
     "metadata": {},
     "output_type": "execute_result"
    }
   ],
   "source": [
    "# homelessness verisinin shape'ine (boyut bilgisine) bakalım. \n",
    "homelessness.shape"
   ]
  },
  {
   "cell_type": "code",
   "execution_count": 6,
   "id": "657b92a3",
   "metadata": {
    "execution": {
     "iopub.execute_input": "2022-09-06T06:52:42.450076Z",
     "iopub.status.busy": "2022-09-06T06:52:42.449632Z",
     "iopub.status.idle": "2022-09-06T06:52:42.476828Z",
     "shell.execute_reply": "2022-09-06T06:52:42.475943Z"
    },
    "papermill": {
     "duration": 0.054135,
     "end_time": "2022-09-06T06:52:42.478989",
     "exception": false,
     "start_time": "2022-09-06T06:52:42.424854",
     "status": "completed"
    },
    "tags": []
   },
   "outputs": [
    {
     "data": {
      "text/html": [
       "<div>\n",
       "<style scoped>\n",
       "    .dataframe tbody tr th:only-of-type {\n",
       "        vertical-align: middle;\n",
       "    }\n",
       "\n",
       "    .dataframe tbody tr th {\n",
       "        vertical-align: top;\n",
       "    }\n",
       "\n",
       "    .dataframe thead th {\n",
       "        text-align: right;\n",
       "    }\n",
       "</style>\n",
       "<table border=\"1\" class=\"dataframe\">\n",
       "  <thead>\n",
       "    <tr style=\"text-align: right;\">\n",
       "      <th></th>\n",
       "      <th>count</th>\n",
       "      <th>mean</th>\n",
       "      <th>std</th>\n",
       "      <th>min</th>\n",
       "      <th>25%</th>\n",
       "      <th>50%</th>\n",
       "      <th>75%</th>\n",
       "      <th>max</th>\n",
       "    </tr>\n",
       "  </thead>\n",
       "  <tbody>\n",
       "    <tr>\n",
       "      <th>individuals</th>\n",
       "      <td>51.0</td>\n",
       "      <td>7.225784e+03</td>\n",
       "      <td>1.599103e+04</td>\n",
       "      <td>434.0</td>\n",
       "      <td>1446.5</td>\n",
       "      <td>3082.0</td>\n",
       "      <td>6781.5</td>\n",
       "      <td>109008.0</td>\n",
       "    </tr>\n",
       "    <tr>\n",
       "      <th>family_members</th>\n",
       "      <td>51.0</td>\n",
       "      <td>3.504882e+03</td>\n",
       "      <td>7.805412e+03</td>\n",
       "      <td>75.0</td>\n",
       "      <td>592.0</td>\n",
       "      <td>1482.0</td>\n",
       "      <td>3196.0</td>\n",
       "      <td>52070.0</td>\n",
       "    </tr>\n",
       "    <tr>\n",
       "      <th>state_pop</th>\n",
       "      <td>51.0</td>\n",
       "      <td>6.405637e+06</td>\n",
       "      <td>7.327258e+06</td>\n",
       "      <td>577601.0</td>\n",
       "      <td>1777413.5</td>\n",
       "      <td>4461153.0</td>\n",
       "      <td>7340946.5</td>\n",
       "      <td>39461588.0</td>\n",
       "    </tr>\n",
       "  </tbody>\n",
       "</table>\n",
       "</div>"
      ],
      "text/plain": [
       "                count          mean           std       min        25%  \\\n",
       "individuals      51.0  7.225784e+03  1.599103e+04     434.0     1446.5   \n",
       "family_members   51.0  3.504882e+03  7.805412e+03      75.0      592.0   \n",
       "state_pop        51.0  6.405637e+06  7.327258e+06  577601.0  1777413.5   \n",
       "\n",
       "                      50%        75%         max  \n",
       "individuals        3082.0     6781.5    109008.0  \n",
       "family_members     1482.0     3196.0     52070.0  \n",
       "state_pop       4461153.0  7340946.5  39461588.0  "
      ]
     },
     "execution_count": 6,
     "metadata": {},
     "output_type": "execute_result"
    }
   ],
   "source": [
    "# describe() ile Elimizdeki homelessness verisinin hızlı bir şekilde özet istatistiksel bilgilerine erişelim\n",
    "# .T ile transpozunu alalım (yani satır ve sütunları yer değiştirelim) ve böylece daha rahat okuyabilelim\n",
    "homelessness.describe().T"
   ]
  },
  {
   "cell_type": "code",
   "execution_count": 7,
   "id": "de887fe3",
   "metadata": {
    "execution": {
     "iopub.execute_input": "2022-09-06T06:52:42.528720Z",
     "iopub.status.busy": "2022-09-06T06:52:42.527991Z",
     "iopub.status.idle": "2022-09-06T06:52:42.535048Z",
     "shell.execute_reply": "2022-09-06T06:52:42.534224Z"
    },
    "papermill": {
     "duration": 0.034489,
     "end_time": "2022-09-06T06:52:42.537093",
     "exception": false,
     "start_time": "2022-09-06T06:52:42.502604",
     "status": "completed"
    },
    "tags": []
   },
   "outputs": [
    {
     "data": {
      "text/plain": [
       "array([['East South Central', 'Alabama', 2570.0, 864.0, 4887681],\n",
       "       ['Pacific', 'Alaska', 1434.0, 582.0, 735139],\n",
       "       ['Mountain', 'Arizona', 7259.0, 2606.0, 7158024],\n",
       "       ['West South Central', 'Arkansas', 2280.0, 432.0, 3009733],\n",
       "       ['Pacific', 'California', 109008.0, 20964.0, 39461588],\n",
       "       ['Mountain', 'Colorado', 7607.0, 3250.0, 5691287],\n",
       "       ['New England', 'Connecticut', 2280.0, 1696.0, 3571520],\n",
       "       ['South Atlantic', 'Delaware', 708.0, 374.0, 965479],\n",
       "       ['South Atlantic', 'District of Columbia', 3770.0, 3134.0, 701547],\n",
       "       ['South Atlantic', 'Florida', 21443.0, 9587.0, 21244317],\n",
       "       ['South Atlantic', 'Georgia', 6943.0, 2556.0, 10511131],\n",
       "       ['Pacific', 'Hawaii', 4131.0, 2399.0, 1420593],\n",
       "       ['Mountain', 'Idaho', 1297.0, 715.0, 1750536],\n",
       "       ['East North Central', 'Illinois', 6752.0, 3891.0, 12723071],\n",
       "       ['East North Central', 'Indiana', 3776.0, 1482.0, 6695497],\n",
       "       ['West North Central', 'Iowa', 1711.0, 1038.0, 3148618],\n",
       "       ['West North Central', 'Kansas', 1443.0, 773.0, 2911359],\n",
       "       ['East South Central', 'Kentucky', 2735.0, 953.0, 4461153],\n",
       "       ['West South Central', 'Louisiana', 2540.0, 519.0, 4659690],\n",
       "       ['New England', 'Maine', 1450.0, 1066.0, 1339057],\n",
       "       ['South Atlantic', 'Maryland', 4914.0, 2230.0, 6035802],\n",
       "       ['New England', 'Massachusetts', 6811.0, 13257.0, 6882635],\n",
       "       ['East North Central', 'Michigan', 5209.0, 3142.0, 9984072],\n",
       "       ['West North Central', 'Minnesota', 3993.0, 3250.0, 5606249],\n",
       "       ['East South Central', 'Mississippi', 1024.0, 328.0, 2981020],\n",
       "       ['West North Central', 'Missouri', 3776.0, 2107.0, 6121623],\n",
       "       ['Mountain', 'Montana', 983.0, 422.0, 1060665],\n",
       "       ['West North Central', 'Nebraska', 1745.0, 676.0, 1925614],\n",
       "       ['Mountain', 'Nevada', 7058.0, 486.0, 3027341],\n",
       "       ['New England', 'New Hampshire', 835.0, 615.0, 1353465],\n",
       "       ['Mid-Atlantic', 'New Jersey', 6048.0, 3350.0, 8886025],\n",
       "       ['Mountain', 'New Mexico', 1949.0, 602.0, 2092741],\n",
       "       ['Mid-Atlantic', 'New York', 39827.0, 52070.0, 19530351],\n",
       "       ['South Atlantic', 'North Carolina', 6451.0, 2817.0, 10381615],\n",
       "       ['West North Central', 'North Dakota', 467.0, 75.0, 758080],\n",
       "       ['East North Central', 'Ohio', 6929.0, 3320.0, 11676341],\n",
       "       ['West South Central', 'Oklahoma', 2823.0, 1048.0, 3940235],\n",
       "       ['Pacific', 'Oregon', 11139.0, 3337.0, 4181886],\n",
       "       ['Mid-Atlantic', 'Pennsylvania', 8163.0, 5349.0, 12800922],\n",
       "       ['New England', 'Rhode Island', 747.0, 354.0, 1058287],\n",
       "       ['South Atlantic', 'South Carolina', 3082.0, 851.0, 5084156],\n",
       "       ['West North Central', 'South Dakota', 836.0, 323.0, 878698],\n",
       "       ['East South Central', 'Tennessee', 6139.0, 1744.0, 6771631],\n",
       "       ['West South Central', 'Texas', 19199.0, 6111.0, 28628666],\n",
       "       ['Mountain', 'Utah', 1904.0, 972.0, 3153550],\n",
       "       ['New England', 'Vermont', 780.0, 511.0, 624358],\n",
       "       ['South Atlantic', 'Virginia', 3928.0, 2047.0, 8501286],\n",
       "       ['Pacific', 'Washington', 16424.0, 5880.0, 7523869],\n",
       "       ['South Atlantic', 'West Virginia', 1021.0, 222.0, 1804291],\n",
       "       ['East North Central', 'Wisconsin', 2740.0, 2167.0, 5807406],\n",
       "       ['Mountain', 'Wyoming', 434.0, 205.0, 577601]], dtype=object)"
      ]
     },
     "execution_count": 7,
     "metadata": {},
     "output_type": "execute_result"
    }
   ],
   "source": [
    "# homelessness veri setindeki değerlere bakalım\n",
    "homelessness.values"
   ]
  },
  {
   "cell_type": "code",
   "execution_count": 8,
   "id": "f8ad5de0",
   "metadata": {
    "execution": {
     "iopub.execute_input": "2022-09-06T06:52:42.587349Z",
     "iopub.status.busy": "2022-09-06T06:52:42.586929Z",
     "iopub.status.idle": "2022-09-06T06:52:42.592702Z",
     "shell.execute_reply": "2022-09-06T06:52:42.591952Z"
    },
    "papermill": {
     "duration": 0.033309,
     "end_time": "2022-09-06T06:52:42.594700",
     "exception": false,
     "start_time": "2022-09-06T06:52:42.561391",
     "status": "completed"
    },
    "tags": []
   },
   "outputs": [
    {
     "data": {
      "text/plain": [
       "Index(['region', 'state', 'individuals', 'family_members', 'state_pop'], dtype='object')"
      ]
     },
     "execution_count": 8,
     "metadata": {},
     "output_type": "execute_result"
    }
   ],
   "source": [
    "# homelessness veri setindeki sütun isimlerine bakalım\n",
    "homelessness.columns"
   ]
  },
  {
   "cell_type": "code",
   "execution_count": 9,
   "id": "cfea345a",
   "metadata": {
    "execution": {
     "iopub.execute_input": "2022-09-06T06:52:42.644077Z",
     "iopub.status.busy": "2022-09-06T06:52:42.643322Z",
     "iopub.status.idle": "2022-09-06T06:52:42.649337Z",
     "shell.execute_reply": "2022-09-06T06:52:42.648305Z"
    },
    "papermill": {
     "duration": 0.033336,
     "end_time": "2022-09-06T06:52:42.651557",
     "exception": false,
     "start_time": "2022-09-06T06:52:42.618221",
     "status": "completed"
    },
    "tags": []
   },
   "outputs": [
    {
     "data": {
      "text/plain": [
       "RangeIndex(start=0, stop=51, step=1)"
      ]
     },
     "execution_count": 9,
     "metadata": {},
     "output_type": "execute_result"
    }
   ],
   "source": [
    "# homelessness veri setindeki index bilgisine bakalım\n",
    "homelessness.index"
   ]
  },
  {
   "cell_type": "code",
   "execution_count": 10,
   "id": "dc832ad1",
   "metadata": {
    "execution": {
     "iopub.execute_input": "2022-09-06T06:52:42.701355Z",
     "iopub.status.busy": "2022-09-06T06:52:42.700767Z",
     "iopub.status.idle": "2022-09-06T06:52:42.714700Z",
     "shell.execute_reply": "2022-09-06T06:52:42.713872Z"
    },
    "papermill": {
     "duration": 0.041386,
     "end_time": "2022-09-06T06:52:42.716672",
     "exception": false,
     "start_time": "2022-09-06T06:52:42.675286",
     "status": "completed"
    },
    "tags": []
   },
   "outputs": [
    {
     "data": {
      "text/html": [
       "<div>\n",
       "<style scoped>\n",
       "    .dataframe tbody tr th:only-of-type {\n",
       "        vertical-align: middle;\n",
       "    }\n",
       "\n",
       "    .dataframe tbody tr th {\n",
       "        vertical-align: top;\n",
       "    }\n",
       "\n",
       "    .dataframe thead th {\n",
       "        text-align: right;\n",
       "    }\n",
       "</style>\n",
       "<table border=\"1\" class=\"dataframe\">\n",
       "  <thead>\n",
       "    <tr style=\"text-align: right;\">\n",
       "      <th></th>\n",
       "      <th>region</th>\n",
       "      <th>state</th>\n",
       "      <th>individuals</th>\n",
       "      <th>family_members</th>\n",
       "      <th>state_pop</th>\n",
       "    </tr>\n",
       "  </thead>\n",
       "  <tbody>\n",
       "    <tr>\n",
       "      <th>50</th>\n",
       "      <td>Mountain</td>\n",
       "      <td>Wyoming</td>\n",
       "      <td>434.0</td>\n",
       "      <td>205.0</td>\n",
       "      <td>577601</td>\n",
       "    </tr>\n",
       "    <tr>\n",
       "      <th>34</th>\n",
       "      <td>West North Central</td>\n",
       "      <td>North Dakota</td>\n",
       "      <td>467.0</td>\n",
       "      <td>75.0</td>\n",
       "      <td>758080</td>\n",
       "    </tr>\n",
       "    <tr>\n",
       "      <th>7</th>\n",
       "      <td>South Atlantic</td>\n",
       "      <td>Delaware</td>\n",
       "      <td>708.0</td>\n",
       "      <td>374.0</td>\n",
       "      <td>965479</td>\n",
       "    </tr>\n",
       "    <tr>\n",
       "      <th>39</th>\n",
       "      <td>New England</td>\n",
       "      <td>Rhode Island</td>\n",
       "      <td>747.0</td>\n",
       "      <td>354.0</td>\n",
       "      <td>1058287</td>\n",
       "    </tr>\n",
       "    <tr>\n",
       "      <th>45</th>\n",
       "      <td>New England</td>\n",
       "      <td>Vermont</td>\n",
       "      <td>780.0</td>\n",
       "      <td>511.0</td>\n",
       "      <td>624358</td>\n",
       "    </tr>\n",
       "  </tbody>\n",
       "</table>\n",
       "</div>"
      ],
      "text/plain": [
       "                region         state  individuals  family_members  state_pop\n",
       "50            Mountain       Wyoming        434.0           205.0     577601\n",
       "34  West North Central  North Dakota        467.0            75.0     758080\n",
       "7       South Atlantic      Delaware        708.0           374.0     965479\n",
       "39         New England  Rhode Island        747.0           354.0    1058287\n",
       "45         New England       Vermont        780.0           511.0     624358"
      ]
     },
     "execution_count": 10,
     "metadata": {},
     "output_type": "execute_result"
    }
   ],
   "source": [
    "# Verimizi ailesi olmayan evsiz bireye (individuals) göre sıralayalım\n",
    "homelessness_ind = homelessness.sort_values(\"individuals\")\n",
    "\n",
    "# Çıktıya dikkat ettiyseniz individuals sütunundaki değerler artan olacak şekilde sıralandı\n",
    "homelessness_ind.head()"
   ]
  },
  {
   "cell_type": "code",
   "execution_count": 11,
   "id": "a9dcb375",
   "metadata": {
    "execution": {
     "iopub.execute_input": "2022-09-06T06:52:42.767312Z",
     "iopub.status.busy": "2022-09-06T06:52:42.766111Z",
     "iopub.status.idle": "2022-09-06T06:52:42.781172Z",
     "shell.execute_reply": "2022-09-06T06:52:42.780069Z"
    },
    "papermill": {
     "duration": 0.042893,
     "end_time": "2022-09-06T06:52:42.783434",
     "exception": false,
     "start_time": "2022-09-06T06:52:42.740541",
     "status": "completed"
    },
    "tags": []
   },
   "outputs": [
    {
     "data": {
      "text/html": [
       "<div>\n",
       "<style scoped>\n",
       "    .dataframe tbody tr th:only-of-type {\n",
       "        vertical-align: middle;\n",
       "    }\n",
       "\n",
       "    .dataframe tbody tr th {\n",
       "        vertical-align: top;\n",
       "    }\n",
       "\n",
       "    .dataframe thead th {\n",
       "        text-align: right;\n",
       "    }\n",
       "</style>\n",
       "<table border=\"1\" class=\"dataframe\">\n",
       "  <thead>\n",
       "    <tr style=\"text-align: right;\">\n",
       "      <th></th>\n",
       "      <th>region</th>\n",
       "      <th>state</th>\n",
       "      <th>individuals</th>\n",
       "      <th>family_members</th>\n",
       "      <th>state_pop</th>\n",
       "    </tr>\n",
       "  </thead>\n",
       "  <tbody>\n",
       "    <tr>\n",
       "      <th>32</th>\n",
       "      <td>Mid-Atlantic</td>\n",
       "      <td>New York</td>\n",
       "      <td>39827.0</td>\n",
       "      <td>52070.0</td>\n",
       "      <td>19530351</td>\n",
       "    </tr>\n",
       "    <tr>\n",
       "      <th>4</th>\n",
       "      <td>Pacific</td>\n",
       "      <td>California</td>\n",
       "      <td>109008.0</td>\n",
       "      <td>20964.0</td>\n",
       "      <td>39461588</td>\n",
       "    </tr>\n",
       "    <tr>\n",
       "      <th>21</th>\n",
       "      <td>New England</td>\n",
       "      <td>Massachusetts</td>\n",
       "      <td>6811.0</td>\n",
       "      <td>13257.0</td>\n",
       "      <td>6882635</td>\n",
       "    </tr>\n",
       "    <tr>\n",
       "      <th>9</th>\n",
       "      <td>South Atlantic</td>\n",
       "      <td>Florida</td>\n",
       "      <td>21443.0</td>\n",
       "      <td>9587.0</td>\n",
       "      <td>21244317</td>\n",
       "    </tr>\n",
       "    <tr>\n",
       "      <th>43</th>\n",
       "      <td>West South Central</td>\n",
       "      <td>Texas</td>\n",
       "      <td>19199.0</td>\n",
       "      <td>6111.0</td>\n",
       "      <td>28628666</td>\n",
       "    </tr>\n",
       "  </tbody>\n",
       "</table>\n",
       "</div>"
      ],
      "text/plain": [
       "                region          state  individuals  family_members  state_pop\n",
       "32        Mid-Atlantic       New York      39827.0         52070.0   19530351\n",
       "4              Pacific     California     109008.0         20964.0   39461588\n",
       "21         New England  Massachusetts       6811.0         13257.0    6882635\n",
       "9       South Atlantic        Florida      21443.0          9587.0   21244317\n",
       "43  West South Central          Texas      19199.0          6111.0   28628666"
      ]
     },
     "execution_count": 11,
     "metadata": {},
     "output_type": "execute_result"
    }
   ],
   "source": [
    "# Verimizi azalan aile üyelerine göre sıralayalım\n",
    "# azalan olması için ascending= False yapacağız\n",
    "homelessness_fam = homelessness.sort_values(\"family_members\",ascending=False)\n",
    "\n",
    "# Çıktıya dikkat ettiyseniz family_members sütunundaki değerler azalan olacak şekilde sıralandı\n",
    "homelessness_fam.head()"
   ]
  },
  {
   "cell_type": "code",
   "execution_count": 12,
   "id": "3a628232",
   "metadata": {
    "execution": {
     "iopub.execute_input": "2022-09-06T06:52:42.834799Z",
     "iopub.status.busy": "2022-09-06T06:52:42.834017Z",
     "iopub.status.idle": "2022-09-06T06:52:42.853760Z",
     "shell.execute_reply": "2022-09-06T06:52:42.852597Z"
    },
    "papermill": {
     "duration": 0.048439,
     "end_time": "2022-09-06T06:52:42.856203",
     "exception": false,
     "start_time": "2022-09-06T06:52:42.807764",
     "status": "completed"
    },
    "tags": []
   },
   "outputs": [
    {
     "data": {
      "text/html": [
       "<div>\n",
       "<style scoped>\n",
       "    .dataframe tbody tr th:only-of-type {\n",
       "        vertical-align: middle;\n",
       "    }\n",
       "\n",
       "    .dataframe tbody tr th {\n",
       "        vertical-align: top;\n",
       "    }\n",
       "\n",
       "    .dataframe thead th {\n",
       "        text-align: right;\n",
       "    }\n",
       "</style>\n",
       "<table border=\"1\" class=\"dataframe\">\n",
       "  <thead>\n",
       "    <tr style=\"text-align: right;\">\n",
       "      <th></th>\n",
       "      <th>region</th>\n",
       "      <th>state</th>\n",
       "      <th>individuals</th>\n",
       "      <th>family_members</th>\n",
       "      <th>state_pop</th>\n",
       "    </tr>\n",
       "  </thead>\n",
       "  <tbody>\n",
       "    <tr>\n",
       "      <th>13</th>\n",
       "      <td>East North Central</td>\n",
       "      <td>Illinois</td>\n",
       "      <td>6752.0</td>\n",
       "      <td>3891.0</td>\n",
       "      <td>12723071</td>\n",
       "    </tr>\n",
       "    <tr>\n",
       "      <th>35</th>\n",
       "      <td>East North Central</td>\n",
       "      <td>Ohio</td>\n",
       "      <td>6929.0</td>\n",
       "      <td>3320.0</td>\n",
       "      <td>11676341</td>\n",
       "    </tr>\n",
       "    <tr>\n",
       "      <th>22</th>\n",
       "      <td>East North Central</td>\n",
       "      <td>Michigan</td>\n",
       "      <td>5209.0</td>\n",
       "      <td>3142.0</td>\n",
       "      <td>9984072</td>\n",
       "    </tr>\n",
       "    <tr>\n",
       "      <th>49</th>\n",
       "      <td>East North Central</td>\n",
       "      <td>Wisconsin</td>\n",
       "      <td>2740.0</td>\n",
       "      <td>2167.0</td>\n",
       "      <td>5807406</td>\n",
       "    </tr>\n",
       "    <tr>\n",
       "      <th>14</th>\n",
       "      <td>East North Central</td>\n",
       "      <td>Indiana</td>\n",
       "      <td>3776.0</td>\n",
       "      <td>1482.0</td>\n",
       "      <td>6695497</td>\n",
       "    </tr>\n",
       "  </tbody>\n",
       "</table>\n",
       "</div>"
      ],
      "text/plain": [
       "                region      state  individuals  family_members  state_pop\n",
       "13  East North Central   Illinois       6752.0          3891.0   12723071\n",
       "35  East North Central       Ohio       6929.0          3320.0   11676341\n",
       "22  East North Central   Michigan       5209.0          3142.0    9984072\n",
       "49  East North Central  Wisconsin       2740.0          2167.0    5807406\n",
       "14  East North Central    Indiana       3776.0          1482.0    6695497"
      ]
     },
     "execution_count": 12,
     "metadata": {},
     "output_type": "execute_result"
    }
   ],
   "source": [
    "# Verimizi bölgeye göre sıralayalım, ardından family_members'i azalan şekilde sıralayalım\n",
    "homelessness_reg_fam = homelessness.sort_values([\"region\",\n",
    "\"family_members\"],ascending=[True,False])\n",
    "# ascending=[True,False] ilk ifadeyi artan şekilde, ikinci ifadeyi azalan şekilde sıralar\n",
    "\n",
    "# Çıktıya dikkat ettiyseniz family_members sütunundaki değerler azalan olacak şekilde sıralandı \n",
    "# ve bölgelerde kendi içinde artan sıralı (alfabetik olarak) bir şekilde geldi\n",
    "homelessness_reg_fam.head()"
   ]
  },
  {
   "cell_type": "markdown",
   "id": "44af0e80",
   "metadata": {
    "papermill": {
     "duration": 0.024205,
     "end_time": "2022-09-06T06:52:42.904834",
     "exception": false,
     "start_time": "2022-09-06T06:52:42.880629",
     "status": "completed"
    },
    "tags": []
   },
   "source": [
    "### *Küçük Bir Dipnot!*\n",
    "---\n",
    "```\n",
    "individuals = homelessness[['individuals']]\n",
    "```\n",
    "#### *Bu ifadede neden 2 köşeli parantez içine alıyoruz?* \n",
    "##### *Çünkü biz çıktımızın DataFrame olarak gözükmesini istiyoruz.* \n",
    "> *Tek köşeli parantez kullanırsak Pandas Series olarak gelir, çift köşeli parantez de ise Pandas DataFrame olarak geliyor.*"
   ]
  },
  {
   "cell_type": "code",
   "execution_count": 13,
   "id": "91f2dc21",
   "metadata": {
    "execution": {
     "iopub.execute_input": "2022-09-06T06:52:42.955823Z",
     "iopub.status.busy": "2022-09-06T06:52:42.955051Z",
     "iopub.status.idle": "2022-09-06T06:52:42.966477Z",
     "shell.execute_reply": "2022-09-06T06:52:42.965390Z"
    },
    "papermill": {
     "duration": 0.039632,
     "end_time": "2022-09-06T06:52:42.968664",
     "exception": false,
     "start_time": "2022-09-06T06:52:42.929032",
     "status": "completed"
    },
    "tags": []
   },
   "outputs": [
    {
     "data": {
      "text/html": [
       "<div>\n",
       "<style scoped>\n",
       "    .dataframe tbody tr th:only-of-type {\n",
       "        vertical-align: middle;\n",
       "    }\n",
       "\n",
       "    .dataframe tbody tr th {\n",
       "        vertical-align: top;\n",
       "    }\n",
       "\n",
       "    .dataframe thead th {\n",
       "        text-align: right;\n",
       "    }\n",
       "</style>\n",
       "<table border=\"1\" class=\"dataframe\">\n",
       "  <thead>\n",
       "    <tr style=\"text-align: right;\">\n",
       "      <th></th>\n",
       "      <th>individuals</th>\n",
       "    </tr>\n",
       "  </thead>\n",
       "  <tbody>\n",
       "    <tr>\n",
       "      <th>0</th>\n",
       "      <td>2570.0</td>\n",
       "    </tr>\n",
       "    <tr>\n",
       "      <th>1</th>\n",
       "      <td>1434.0</td>\n",
       "    </tr>\n",
       "    <tr>\n",
       "      <th>2</th>\n",
       "      <td>7259.0</td>\n",
       "    </tr>\n",
       "    <tr>\n",
       "      <th>3</th>\n",
       "      <td>2280.0</td>\n",
       "    </tr>\n",
       "    <tr>\n",
       "      <th>4</th>\n",
       "      <td>109008.0</td>\n",
       "    </tr>\n",
       "  </tbody>\n",
       "</table>\n",
       "</div>"
      ],
      "text/plain": [
       "   individuals\n",
       "0       2570.0\n",
       "1       1434.0\n",
       "2       7259.0\n",
       "3       2280.0\n",
       "4     109008.0"
      ]
     },
     "execution_count": 13,
     "metadata": {},
     "output_type": "execute_result"
    }
   ],
   "source": [
    "# Kişiler sütununu seçin Verimizdeki 'individuals' sütununu seçip bunu individuals adlı yeni bir değişkene atalım\n",
    "individuals = homelessness[['individuals']]\n",
    "\n",
    "# Sonucun ilk beş satırını yazdırıp bakalım\n",
    "individuals.head()"
   ]
  },
  {
   "cell_type": "code",
   "execution_count": 14,
   "id": "8578fc7b",
   "metadata": {
    "execution": {
     "iopub.execute_input": "2022-09-06T06:52:43.021243Z",
     "iopub.status.busy": "2022-09-06T06:52:43.020473Z",
     "iopub.status.idle": "2022-09-06T06:52:43.032273Z",
     "shell.execute_reply": "2022-09-06T06:52:43.031168Z"
    },
    "papermill": {
     "duration": 0.040342,
     "end_time": "2022-09-06T06:52:43.034528",
     "exception": false,
     "start_time": "2022-09-06T06:52:42.994186",
     "status": "completed"
    },
    "tags": []
   },
   "outputs": [
    {
     "data": {
      "text/html": [
       "<div>\n",
       "<style scoped>\n",
       "    .dataframe tbody tr th:only-of-type {\n",
       "        vertical-align: middle;\n",
       "    }\n",
       "\n",
       "    .dataframe tbody tr th {\n",
       "        vertical-align: top;\n",
       "    }\n",
       "\n",
       "    .dataframe thead th {\n",
       "        text-align: right;\n",
       "    }\n",
       "</style>\n",
       "<table border=\"1\" class=\"dataframe\">\n",
       "  <thead>\n",
       "    <tr style=\"text-align: right;\">\n",
       "      <th></th>\n",
       "      <th>state</th>\n",
       "      <th>family_members</th>\n",
       "    </tr>\n",
       "  </thead>\n",
       "  <tbody>\n",
       "    <tr>\n",
       "      <th>0</th>\n",
       "      <td>Alabama</td>\n",
       "      <td>864.0</td>\n",
       "    </tr>\n",
       "    <tr>\n",
       "      <th>1</th>\n",
       "      <td>Alaska</td>\n",
       "      <td>582.0</td>\n",
       "    </tr>\n",
       "    <tr>\n",
       "      <th>2</th>\n",
       "      <td>Arizona</td>\n",
       "      <td>2606.0</td>\n",
       "    </tr>\n",
       "    <tr>\n",
       "      <th>3</th>\n",
       "      <td>Arkansas</td>\n",
       "      <td>432.0</td>\n",
       "    </tr>\n",
       "    <tr>\n",
       "      <th>4</th>\n",
       "      <td>California</td>\n",
       "      <td>20964.0</td>\n",
       "    </tr>\n",
       "  </tbody>\n",
       "</table>\n",
       "</div>"
      ],
      "text/plain": [
       "        state  family_members\n",
       "0     Alabama           864.0\n",
       "1      Alaska           582.0\n",
       "2     Arizona          2606.0\n",
       "3    Arkansas           432.0\n",
       "4  California         20964.0"
      ]
     },
     "execution_count": 14,
     "metadata": {},
     "output_type": "execute_result"
    }
   ],
   "source": [
    "# state ve family_members sütunlarını seçip bunları yeni bir değişkene atalım\n",
    "state_fam = homelessness[['state','family_members']]\n",
    "\n",
    "# Sonucun ilk beş satırını yazdırıp bakalım\n",
    "state_fam.head()"
   ]
  },
  {
   "cell_type": "code",
   "execution_count": 15,
   "id": "8c59b52f",
   "metadata": {
    "execution": {
     "iopub.execute_input": "2022-09-06T06:52:43.086171Z",
     "iopub.status.busy": "2022-09-06T06:52:43.085754Z",
     "iopub.status.idle": "2022-09-06T06:52:43.098524Z",
     "shell.execute_reply": "2022-09-06T06:52:43.096766Z"
    },
    "papermill": {
     "duration": 0.041541,
     "end_time": "2022-09-06T06:52:43.101062",
     "exception": false,
     "start_time": "2022-09-06T06:52:43.059521",
     "status": "completed"
    },
    "tags": []
   },
   "outputs": [
    {
     "data": {
      "text/html": [
       "<div>\n",
       "<style scoped>\n",
       "    .dataframe tbody tr th:only-of-type {\n",
       "        vertical-align: middle;\n",
       "    }\n",
       "\n",
       "    .dataframe tbody tr th {\n",
       "        vertical-align: top;\n",
       "    }\n",
       "\n",
       "    .dataframe thead th {\n",
       "        text-align: right;\n",
       "    }\n",
       "</style>\n",
       "<table border=\"1\" class=\"dataframe\">\n",
       "  <thead>\n",
       "    <tr style=\"text-align: right;\">\n",
       "      <th></th>\n",
       "      <th>individuals</th>\n",
       "      <th>state</th>\n",
       "    </tr>\n",
       "  </thead>\n",
       "  <tbody>\n",
       "    <tr>\n",
       "      <th>46</th>\n",
       "      <td>3928.0</td>\n",
       "      <td>Virginia</td>\n",
       "    </tr>\n",
       "    <tr>\n",
       "      <th>47</th>\n",
       "      <td>16424.0</td>\n",
       "      <td>Washington</td>\n",
       "    </tr>\n",
       "    <tr>\n",
       "      <th>48</th>\n",
       "      <td>1021.0</td>\n",
       "      <td>West Virginia</td>\n",
       "    </tr>\n",
       "    <tr>\n",
       "      <th>49</th>\n",
       "      <td>2740.0</td>\n",
       "      <td>Wisconsin</td>\n",
       "    </tr>\n",
       "    <tr>\n",
       "      <th>50</th>\n",
       "      <td>434.0</td>\n",
       "      <td>Wyoming</td>\n",
       "    </tr>\n",
       "  </tbody>\n",
       "</table>\n",
       "</div>"
      ],
      "text/plain": [
       "    individuals          state\n",
       "46       3928.0       Virginia\n",
       "47      16424.0     Washington\n",
       "48       1021.0  West Virginia\n",
       "49       2740.0      Wisconsin\n",
       "50        434.0        Wyoming"
      ]
     },
     "execution_count": 15,
     "metadata": {},
     "output_type": "execute_result"
    }
   ],
   "source": [
    "# individuals ve state sütunlarını seçip bunları yeni bir değişkene atalım\n",
    "ind_state = homelessness[['individuals','state']]\n",
    "\n",
    "# Sonucun son beş satırını yazdırıp bakalım\n",
    "ind_state.tail()"
   ]
  },
  {
   "cell_type": "code",
   "execution_count": 16,
   "id": "d5fd40ae",
   "metadata": {
    "execution": {
     "iopub.execute_input": "2022-09-06T06:52:43.161322Z",
     "iopub.status.busy": "2022-09-06T06:52:43.160789Z",
     "iopub.status.idle": "2022-09-06T06:52:43.173018Z",
     "shell.execute_reply": "2022-09-06T06:52:43.171259Z"
    },
    "papermill": {
     "duration": 0.044761,
     "end_time": "2022-09-06T06:52:43.176754",
     "exception": false,
     "start_time": "2022-09-06T06:52:43.131993",
     "status": "completed"
    },
    "tags": []
   },
   "outputs": [
    {
     "name": "stdout",
     "output_type": "stream",
     "text": [
      "                region       state  individuals  family_members  state_pop\n",
      "4              Pacific  California     109008.0         20964.0   39461588\n",
      "9       South Atlantic     Florida      21443.0          9587.0   21244317\n",
      "32        Mid-Atlantic    New York      39827.0         52070.0   19530351\n",
      "37             Pacific      Oregon      11139.0          3337.0    4181886\n",
      "43  West South Central       Texas      19199.0          6111.0   28628666\n",
      "47             Pacific  Washington      16424.0          5880.0    7523869\n"
     ]
    }
   ],
   "source": [
    "# \"individuals\" değerlerinin 10000'den büyük olduğu satırları filtreleyelim ve bunu yeni bir değişkene atalım\n",
    "ind_gt_10k = homelessness[homelessness[\"individuals\"] > 10000]\n",
    "\n",
    "# Sonucu görelim\n",
    "print(ind_gt_10k)"
   ]
  },
  {
   "cell_type": "code",
   "execution_count": 17,
   "id": "354a1586",
   "metadata": {
    "execution": {
     "iopub.execute_input": "2022-09-06T06:52:43.231812Z",
     "iopub.status.busy": "2022-09-06T06:52:43.231154Z",
     "iopub.status.idle": "2022-09-06T06:52:43.247536Z",
     "shell.execute_reply": "2022-09-06T06:52:43.245982Z"
    },
    "papermill": {
     "duration": 0.046676,
     "end_time": "2022-09-06T06:52:43.250315",
     "exception": false,
     "start_time": "2022-09-06T06:52:43.203639",
     "status": "completed"
    },
    "tags": []
   },
   "outputs": [
    {
     "name": "stdout",
     "output_type": "stream",
     "text": [
      "      region       state  individuals  family_members  state_pop\n",
      "2   Mountain     Arizona       7259.0          2606.0    7158024\n",
      "5   Mountain    Colorado       7607.0          3250.0    5691287\n",
      "12  Mountain       Idaho       1297.0           715.0    1750536\n",
      "26  Mountain     Montana        983.0           422.0    1060665\n",
      "28  Mountain      Nevada       7058.0           486.0    3027341\n",
      "31  Mountain  New Mexico       1949.0           602.0    2092741\n",
      "44  Mountain        Utah       1904.0           972.0    3153550\n",
      "50  Mountain     Wyoming        434.0           205.0     577601\n"
     ]
    }
   ],
   "source": [
    "# Region sütun değerinin \"Mountain\" olduğu satırları filtreleyip bunu yeni bir değişkene atalım\n",
    "mountain_reg = homelessness[homelessness['region'] == \"Mountain\"]\n",
    "\n",
    "# Sonucu görelim\n",
    "print(mountain_reg)"
   ]
  },
  {
   "cell_type": "code",
   "execution_count": 18,
   "id": "161283aa",
   "metadata": {
    "execution": {
     "iopub.execute_input": "2022-09-06T06:52:43.304838Z",
     "iopub.status.busy": "2022-09-06T06:52:43.304136Z",
     "iopub.status.idle": "2022-09-06T06:52:43.313502Z",
     "shell.execute_reply": "2022-09-06T06:52:43.312594Z"
    },
    "papermill": {
     "duration": 0.039699,
     "end_time": "2022-09-06T06:52:43.315957",
     "exception": false,
     "start_time": "2022-09-06T06:52:43.276258",
     "status": "completed"
    },
    "tags": []
   },
   "outputs": [
    {
     "name": "stdout",
     "output_type": "stream",
     "text": [
      "    region   state  individuals  family_members  state_pop\n",
      "1  Pacific  Alaska       1434.0           582.0     735139\n"
     ]
    }
   ],
   "source": [
    "# family_members'ın 1000'den küçük olduğu ve bölgenin \"Pasific\" olduğu satırları filtreleyip bunları \n",
    "# yeni bir değişkene atalım\n",
    "fam_lt_1k_pac = homelessness[(homelessness[\"region\"] == \"Pacific\") & (homelessness[\"family_members\"] < 1000)]\n",
    "\n",
    "# Sonucu görelim\n",
    "print(fam_lt_1k_pac)"
   ]
  },
  {
   "cell_type": "markdown",
   "id": "1651b505",
   "metadata": {
    "papermill": {
     "duration": 0.024664,
     "end_time": "2022-09-06T06:52:43.365676",
     "exception": false,
     "start_time": "2022-09-06T06:52:43.341012",
     "status": "completed"
    },
    "tags": []
   },
   "source": [
    "### Bilgi Notu!\n",
    "- *isin(): Bu fonksiyon, belirli bir sütunda belirli bir değere sahip satırların seçilmesine yardımcı olur.*"
   ]
  },
  {
   "cell_type": "code",
   "execution_count": 19,
   "id": "37679bd2",
   "metadata": {
    "execution": {
     "iopub.execute_input": "2022-09-06T06:52:43.418256Z",
     "iopub.status.busy": "2022-09-06T06:52:43.417253Z",
     "iopub.status.idle": "2022-09-06T06:52:43.429024Z",
     "shell.execute_reply": "2022-09-06T06:52:43.426940Z"
    },
    "papermill": {
     "duration": 0.040668,
     "end_time": "2022-09-06T06:52:43.431476",
     "exception": false,
     "start_time": "2022-09-06T06:52:43.390808",
     "status": "completed"
    },
    "tags": []
   },
   "outputs": [
    {
     "name": "stdout",
     "output_type": "stream",
     "text": [
      "            region                 state  individuals  family_members  \\\n",
      "7   South Atlantic              Delaware        708.0           374.0   \n",
      "8   South Atlantic  District of Columbia       3770.0          3134.0   \n",
      "9   South Atlantic               Florida      21443.0          9587.0   \n",
      "10  South Atlantic               Georgia       6943.0          2556.0   \n",
      "20  South Atlantic              Maryland       4914.0          2230.0   \n",
      "30    Mid-Atlantic            New Jersey       6048.0          3350.0   \n",
      "32    Mid-Atlantic              New York      39827.0         52070.0   \n",
      "33  South Atlantic        North Carolina       6451.0          2817.0   \n",
      "38    Mid-Atlantic          Pennsylvania       8163.0          5349.0   \n",
      "40  South Atlantic        South Carolina       3082.0           851.0   \n",
      "46  South Atlantic              Virginia       3928.0          2047.0   \n",
      "48  South Atlantic         West Virginia       1021.0           222.0   \n",
      "\n",
      "    state_pop  \n",
      "7      965479  \n",
      "8      701547  \n",
      "9    21244317  \n",
      "10   10511131  \n",
      "20    6035802  \n",
      "30    8886025  \n",
      "32   19530351  \n",
      "33   10381615  \n",
      "38   12800922  \n",
      "40    5084156  \n",
      "46    8501286  \n",
      "48    1804291  \n"
     ]
    }
   ],
   "source": [
    "# South Atlantic veya Mid-Atlantic bölgelerindeki satırlar için alt küme oluşturalım. \n",
    "# Bunun için isin() ile filtreleme yapalım\n",
    "south_mid_atlantic = homelessness[homelessness[\"region\"].isin([\"South Atlantic\",\"Mid-Atlantic\"])]\n",
    "\n",
    "# Sonucu görelim\n",
    "print(south_mid_atlantic)"
   ]
  },
  {
   "cell_type": "code",
   "execution_count": 20,
   "id": "77764eea",
   "metadata": {
    "execution": {
     "iopub.execute_input": "2022-09-06T06:52:43.483681Z",
     "iopub.status.busy": "2022-09-06T06:52:43.483000Z",
     "iopub.status.idle": "2022-09-06T06:52:43.517840Z",
     "shell.execute_reply": "2022-09-06T06:52:43.516997Z"
    },
    "papermill": {
     "duration": 0.063357,
     "end_time": "2022-09-06T06:52:43.519930",
     "exception": false,
     "start_time": "2022-09-06T06:52:43.456573",
     "status": "completed"
    },
    "tags": []
   },
   "outputs": [
    {
     "data": {
      "text/html": [
       "<div>\n",
       "<style scoped>\n",
       "    .dataframe tbody tr th:only-of-type {\n",
       "        vertical-align: middle;\n",
       "    }\n",
       "\n",
       "    .dataframe tbody tr th {\n",
       "        vertical-align: top;\n",
       "    }\n",
       "\n",
       "    .dataframe thead th {\n",
       "        text-align: right;\n",
       "    }\n",
       "</style>\n",
       "<table border=\"1\" class=\"dataframe\">\n",
       "  <thead>\n",
       "    <tr style=\"text-align: right;\">\n",
       "      <th></th>\n",
       "      <th>region</th>\n",
       "      <th>state</th>\n",
       "      <th>individuals</th>\n",
       "      <th>family_members</th>\n",
       "      <th>state_pop</th>\n",
       "      <th>total</th>\n",
       "      <th>p_individuals</th>\n",
       "    </tr>\n",
       "  </thead>\n",
       "  <tbody>\n",
       "    <tr>\n",
       "      <th>0</th>\n",
       "      <td>East South Central</td>\n",
       "      <td>Alabama</td>\n",
       "      <td>2570.0</td>\n",
       "      <td>864.0</td>\n",
       "      <td>4887681</td>\n",
       "      <td>3434.0</td>\n",
       "      <td>0.748398</td>\n",
       "    </tr>\n",
       "    <tr>\n",
       "      <th>1</th>\n",
       "      <td>Pacific</td>\n",
       "      <td>Alaska</td>\n",
       "      <td>1434.0</td>\n",
       "      <td>582.0</td>\n",
       "      <td>735139</td>\n",
       "      <td>2016.0</td>\n",
       "      <td>0.711310</td>\n",
       "    </tr>\n",
       "    <tr>\n",
       "      <th>2</th>\n",
       "      <td>Mountain</td>\n",
       "      <td>Arizona</td>\n",
       "      <td>7259.0</td>\n",
       "      <td>2606.0</td>\n",
       "      <td>7158024</td>\n",
       "      <td>9865.0</td>\n",
       "      <td>0.735834</td>\n",
       "    </tr>\n",
       "    <tr>\n",
       "      <th>3</th>\n",
       "      <td>West South Central</td>\n",
       "      <td>Arkansas</td>\n",
       "      <td>2280.0</td>\n",
       "      <td>432.0</td>\n",
       "      <td>3009733</td>\n",
       "      <td>2712.0</td>\n",
       "      <td>0.840708</td>\n",
       "    </tr>\n",
       "    <tr>\n",
       "      <th>4</th>\n",
       "      <td>Pacific</td>\n",
       "      <td>California</td>\n",
       "      <td>109008.0</td>\n",
       "      <td>20964.0</td>\n",
       "      <td>39461588</td>\n",
       "      <td>129972.0</td>\n",
       "      <td>0.838704</td>\n",
       "    </tr>\n",
       "    <tr>\n",
       "      <th>5</th>\n",
       "      <td>Mountain</td>\n",
       "      <td>Colorado</td>\n",
       "      <td>7607.0</td>\n",
       "      <td>3250.0</td>\n",
       "      <td>5691287</td>\n",
       "      <td>10857.0</td>\n",
       "      <td>0.700654</td>\n",
       "    </tr>\n",
       "    <tr>\n",
       "      <th>6</th>\n",
       "      <td>New England</td>\n",
       "      <td>Connecticut</td>\n",
       "      <td>2280.0</td>\n",
       "      <td>1696.0</td>\n",
       "      <td>3571520</td>\n",
       "      <td>3976.0</td>\n",
       "      <td>0.573441</td>\n",
       "    </tr>\n",
       "    <tr>\n",
       "      <th>7</th>\n",
       "      <td>South Atlantic</td>\n",
       "      <td>Delaware</td>\n",
       "      <td>708.0</td>\n",
       "      <td>374.0</td>\n",
       "      <td>965479</td>\n",
       "      <td>1082.0</td>\n",
       "      <td>0.654344</td>\n",
       "    </tr>\n",
       "    <tr>\n",
       "      <th>8</th>\n",
       "      <td>South Atlantic</td>\n",
       "      <td>District of Columbia</td>\n",
       "      <td>3770.0</td>\n",
       "      <td>3134.0</td>\n",
       "      <td>701547</td>\n",
       "      <td>6904.0</td>\n",
       "      <td>0.546060</td>\n",
       "    </tr>\n",
       "    <tr>\n",
       "      <th>9</th>\n",
       "      <td>South Atlantic</td>\n",
       "      <td>Florida</td>\n",
       "      <td>21443.0</td>\n",
       "      <td>9587.0</td>\n",
       "      <td>21244317</td>\n",
       "      <td>31030.0</td>\n",
       "      <td>0.691041</td>\n",
       "    </tr>\n",
       "    <tr>\n",
       "      <th>10</th>\n",
       "      <td>South Atlantic</td>\n",
       "      <td>Georgia</td>\n",
       "      <td>6943.0</td>\n",
       "      <td>2556.0</td>\n",
       "      <td>10511131</td>\n",
       "      <td>9499.0</td>\n",
       "      <td>0.730919</td>\n",
       "    </tr>\n",
       "    <tr>\n",
       "      <th>11</th>\n",
       "      <td>Pacific</td>\n",
       "      <td>Hawaii</td>\n",
       "      <td>4131.0</td>\n",
       "      <td>2399.0</td>\n",
       "      <td>1420593</td>\n",
       "      <td>6530.0</td>\n",
       "      <td>0.632619</td>\n",
       "    </tr>\n",
       "    <tr>\n",
       "      <th>12</th>\n",
       "      <td>Mountain</td>\n",
       "      <td>Idaho</td>\n",
       "      <td>1297.0</td>\n",
       "      <td>715.0</td>\n",
       "      <td>1750536</td>\n",
       "      <td>2012.0</td>\n",
       "      <td>0.644632</td>\n",
       "    </tr>\n",
       "    <tr>\n",
       "      <th>13</th>\n",
       "      <td>East North Central</td>\n",
       "      <td>Illinois</td>\n",
       "      <td>6752.0</td>\n",
       "      <td>3891.0</td>\n",
       "      <td>12723071</td>\n",
       "      <td>10643.0</td>\n",
       "      <td>0.634408</td>\n",
       "    </tr>\n",
       "    <tr>\n",
       "      <th>14</th>\n",
       "      <td>East North Central</td>\n",
       "      <td>Indiana</td>\n",
       "      <td>3776.0</td>\n",
       "      <td>1482.0</td>\n",
       "      <td>6695497</td>\n",
       "      <td>5258.0</td>\n",
       "      <td>0.718144</td>\n",
       "    </tr>\n",
       "    <tr>\n",
       "      <th>15</th>\n",
       "      <td>West North Central</td>\n",
       "      <td>Iowa</td>\n",
       "      <td>1711.0</td>\n",
       "      <td>1038.0</td>\n",
       "      <td>3148618</td>\n",
       "      <td>2749.0</td>\n",
       "      <td>0.622408</td>\n",
       "    </tr>\n",
       "    <tr>\n",
       "      <th>16</th>\n",
       "      <td>West North Central</td>\n",
       "      <td>Kansas</td>\n",
       "      <td>1443.0</td>\n",
       "      <td>773.0</td>\n",
       "      <td>2911359</td>\n",
       "      <td>2216.0</td>\n",
       "      <td>0.651173</td>\n",
       "    </tr>\n",
       "    <tr>\n",
       "      <th>17</th>\n",
       "      <td>East South Central</td>\n",
       "      <td>Kentucky</td>\n",
       "      <td>2735.0</td>\n",
       "      <td>953.0</td>\n",
       "      <td>4461153</td>\n",
       "      <td>3688.0</td>\n",
       "      <td>0.741594</td>\n",
       "    </tr>\n",
       "    <tr>\n",
       "      <th>18</th>\n",
       "      <td>West South Central</td>\n",
       "      <td>Louisiana</td>\n",
       "      <td>2540.0</td>\n",
       "      <td>519.0</td>\n",
       "      <td>4659690</td>\n",
       "      <td>3059.0</td>\n",
       "      <td>0.830337</td>\n",
       "    </tr>\n",
       "    <tr>\n",
       "      <th>19</th>\n",
       "      <td>New England</td>\n",
       "      <td>Maine</td>\n",
       "      <td>1450.0</td>\n",
       "      <td>1066.0</td>\n",
       "      <td>1339057</td>\n",
       "      <td>2516.0</td>\n",
       "      <td>0.576312</td>\n",
       "    </tr>\n",
       "    <tr>\n",
       "      <th>20</th>\n",
       "      <td>South Atlantic</td>\n",
       "      <td>Maryland</td>\n",
       "      <td>4914.0</td>\n",
       "      <td>2230.0</td>\n",
       "      <td>6035802</td>\n",
       "      <td>7144.0</td>\n",
       "      <td>0.687850</td>\n",
       "    </tr>\n",
       "    <tr>\n",
       "      <th>21</th>\n",
       "      <td>New England</td>\n",
       "      <td>Massachusetts</td>\n",
       "      <td>6811.0</td>\n",
       "      <td>13257.0</td>\n",
       "      <td>6882635</td>\n",
       "      <td>20068.0</td>\n",
       "      <td>0.339396</td>\n",
       "    </tr>\n",
       "    <tr>\n",
       "      <th>22</th>\n",
       "      <td>East North Central</td>\n",
       "      <td>Michigan</td>\n",
       "      <td>5209.0</td>\n",
       "      <td>3142.0</td>\n",
       "      <td>9984072</td>\n",
       "      <td>8351.0</td>\n",
       "      <td>0.623758</td>\n",
       "    </tr>\n",
       "    <tr>\n",
       "      <th>23</th>\n",
       "      <td>West North Central</td>\n",
       "      <td>Minnesota</td>\n",
       "      <td>3993.0</td>\n",
       "      <td>3250.0</td>\n",
       "      <td>5606249</td>\n",
       "      <td>7243.0</td>\n",
       "      <td>0.551291</td>\n",
       "    </tr>\n",
       "    <tr>\n",
       "      <th>24</th>\n",
       "      <td>East South Central</td>\n",
       "      <td>Mississippi</td>\n",
       "      <td>1024.0</td>\n",
       "      <td>328.0</td>\n",
       "      <td>2981020</td>\n",
       "      <td>1352.0</td>\n",
       "      <td>0.757396</td>\n",
       "    </tr>\n",
       "    <tr>\n",
       "      <th>25</th>\n",
       "      <td>West North Central</td>\n",
       "      <td>Missouri</td>\n",
       "      <td>3776.0</td>\n",
       "      <td>2107.0</td>\n",
       "      <td>6121623</td>\n",
       "      <td>5883.0</td>\n",
       "      <td>0.641849</td>\n",
       "    </tr>\n",
       "    <tr>\n",
       "      <th>26</th>\n",
       "      <td>Mountain</td>\n",
       "      <td>Montana</td>\n",
       "      <td>983.0</td>\n",
       "      <td>422.0</td>\n",
       "      <td>1060665</td>\n",
       "      <td>1405.0</td>\n",
       "      <td>0.699644</td>\n",
       "    </tr>\n",
       "    <tr>\n",
       "      <th>27</th>\n",
       "      <td>West North Central</td>\n",
       "      <td>Nebraska</td>\n",
       "      <td>1745.0</td>\n",
       "      <td>676.0</td>\n",
       "      <td>1925614</td>\n",
       "      <td>2421.0</td>\n",
       "      <td>0.720777</td>\n",
       "    </tr>\n",
       "    <tr>\n",
       "      <th>28</th>\n",
       "      <td>Mountain</td>\n",
       "      <td>Nevada</td>\n",
       "      <td>7058.0</td>\n",
       "      <td>486.0</td>\n",
       "      <td>3027341</td>\n",
       "      <td>7544.0</td>\n",
       "      <td>0.935578</td>\n",
       "    </tr>\n",
       "    <tr>\n",
       "      <th>29</th>\n",
       "      <td>New England</td>\n",
       "      <td>New Hampshire</td>\n",
       "      <td>835.0</td>\n",
       "      <td>615.0</td>\n",
       "      <td>1353465</td>\n",
       "      <td>1450.0</td>\n",
       "      <td>0.575862</td>\n",
       "    </tr>\n",
       "    <tr>\n",
       "      <th>30</th>\n",
       "      <td>Mid-Atlantic</td>\n",
       "      <td>New Jersey</td>\n",
       "      <td>6048.0</td>\n",
       "      <td>3350.0</td>\n",
       "      <td>8886025</td>\n",
       "      <td>9398.0</td>\n",
       "      <td>0.643541</td>\n",
       "    </tr>\n",
       "    <tr>\n",
       "      <th>31</th>\n",
       "      <td>Mountain</td>\n",
       "      <td>New Mexico</td>\n",
       "      <td>1949.0</td>\n",
       "      <td>602.0</td>\n",
       "      <td>2092741</td>\n",
       "      <td>2551.0</td>\n",
       "      <td>0.764014</td>\n",
       "    </tr>\n",
       "    <tr>\n",
       "      <th>32</th>\n",
       "      <td>Mid-Atlantic</td>\n",
       "      <td>New York</td>\n",
       "      <td>39827.0</td>\n",
       "      <td>52070.0</td>\n",
       "      <td>19530351</td>\n",
       "      <td>91897.0</td>\n",
       "      <td>0.433387</td>\n",
       "    </tr>\n",
       "    <tr>\n",
       "      <th>33</th>\n",
       "      <td>South Atlantic</td>\n",
       "      <td>North Carolina</td>\n",
       "      <td>6451.0</td>\n",
       "      <td>2817.0</td>\n",
       "      <td>10381615</td>\n",
       "      <td>9268.0</td>\n",
       "      <td>0.696051</td>\n",
       "    </tr>\n",
       "    <tr>\n",
       "      <th>34</th>\n",
       "      <td>West North Central</td>\n",
       "      <td>North Dakota</td>\n",
       "      <td>467.0</td>\n",
       "      <td>75.0</td>\n",
       "      <td>758080</td>\n",
       "      <td>542.0</td>\n",
       "      <td>0.861624</td>\n",
       "    </tr>\n",
       "    <tr>\n",
       "      <th>35</th>\n",
       "      <td>East North Central</td>\n",
       "      <td>Ohio</td>\n",
       "      <td>6929.0</td>\n",
       "      <td>3320.0</td>\n",
       "      <td>11676341</td>\n",
       "      <td>10249.0</td>\n",
       "      <td>0.676066</td>\n",
       "    </tr>\n",
       "    <tr>\n",
       "      <th>36</th>\n",
       "      <td>West South Central</td>\n",
       "      <td>Oklahoma</td>\n",
       "      <td>2823.0</td>\n",
       "      <td>1048.0</td>\n",
       "      <td>3940235</td>\n",
       "      <td>3871.0</td>\n",
       "      <td>0.729269</td>\n",
       "    </tr>\n",
       "    <tr>\n",
       "      <th>37</th>\n",
       "      <td>Pacific</td>\n",
       "      <td>Oregon</td>\n",
       "      <td>11139.0</td>\n",
       "      <td>3337.0</td>\n",
       "      <td>4181886</td>\n",
       "      <td>14476.0</td>\n",
       "      <td>0.769481</td>\n",
       "    </tr>\n",
       "    <tr>\n",
       "      <th>38</th>\n",
       "      <td>Mid-Atlantic</td>\n",
       "      <td>Pennsylvania</td>\n",
       "      <td>8163.0</td>\n",
       "      <td>5349.0</td>\n",
       "      <td>12800922</td>\n",
       "      <td>13512.0</td>\n",
       "      <td>0.604130</td>\n",
       "    </tr>\n",
       "    <tr>\n",
       "      <th>39</th>\n",
       "      <td>New England</td>\n",
       "      <td>Rhode Island</td>\n",
       "      <td>747.0</td>\n",
       "      <td>354.0</td>\n",
       "      <td>1058287</td>\n",
       "      <td>1101.0</td>\n",
       "      <td>0.678474</td>\n",
       "    </tr>\n",
       "    <tr>\n",
       "      <th>40</th>\n",
       "      <td>South Atlantic</td>\n",
       "      <td>South Carolina</td>\n",
       "      <td>3082.0</td>\n",
       "      <td>851.0</td>\n",
       "      <td>5084156</td>\n",
       "      <td>3933.0</td>\n",
       "      <td>0.783626</td>\n",
       "    </tr>\n",
       "    <tr>\n",
       "      <th>41</th>\n",
       "      <td>West North Central</td>\n",
       "      <td>South Dakota</td>\n",
       "      <td>836.0</td>\n",
       "      <td>323.0</td>\n",
       "      <td>878698</td>\n",
       "      <td>1159.0</td>\n",
       "      <td>0.721311</td>\n",
       "    </tr>\n",
       "    <tr>\n",
       "      <th>42</th>\n",
       "      <td>East South Central</td>\n",
       "      <td>Tennessee</td>\n",
       "      <td>6139.0</td>\n",
       "      <td>1744.0</td>\n",
       "      <td>6771631</td>\n",
       "      <td>7883.0</td>\n",
       "      <td>0.778764</td>\n",
       "    </tr>\n",
       "    <tr>\n",
       "      <th>43</th>\n",
       "      <td>West South Central</td>\n",
       "      <td>Texas</td>\n",
       "      <td>19199.0</td>\n",
       "      <td>6111.0</td>\n",
       "      <td>28628666</td>\n",
       "      <td>25310.0</td>\n",
       "      <td>0.758554</td>\n",
       "    </tr>\n",
       "    <tr>\n",
       "      <th>44</th>\n",
       "      <td>Mountain</td>\n",
       "      <td>Utah</td>\n",
       "      <td>1904.0</td>\n",
       "      <td>972.0</td>\n",
       "      <td>3153550</td>\n",
       "      <td>2876.0</td>\n",
       "      <td>0.662031</td>\n",
       "    </tr>\n",
       "    <tr>\n",
       "      <th>45</th>\n",
       "      <td>New England</td>\n",
       "      <td>Vermont</td>\n",
       "      <td>780.0</td>\n",
       "      <td>511.0</td>\n",
       "      <td>624358</td>\n",
       "      <td>1291.0</td>\n",
       "      <td>0.604183</td>\n",
       "    </tr>\n",
       "    <tr>\n",
       "      <th>46</th>\n",
       "      <td>South Atlantic</td>\n",
       "      <td>Virginia</td>\n",
       "      <td>3928.0</td>\n",
       "      <td>2047.0</td>\n",
       "      <td>8501286</td>\n",
       "      <td>5975.0</td>\n",
       "      <td>0.657406</td>\n",
       "    </tr>\n",
       "    <tr>\n",
       "      <th>47</th>\n",
       "      <td>Pacific</td>\n",
       "      <td>Washington</td>\n",
       "      <td>16424.0</td>\n",
       "      <td>5880.0</td>\n",
       "      <td>7523869</td>\n",
       "      <td>22304.0</td>\n",
       "      <td>0.736370</td>\n",
       "    </tr>\n",
       "    <tr>\n",
       "      <th>48</th>\n",
       "      <td>South Atlantic</td>\n",
       "      <td>West Virginia</td>\n",
       "      <td>1021.0</td>\n",
       "      <td>222.0</td>\n",
       "      <td>1804291</td>\n",
       "      <td>1243.0</td>\n",
       "      <td>0.821400</td>\n",
       "    </tr>\n",
       "    <tr>\n",
       "      <th>49</th>\n",
       "      <td>East North Central</td>\n",
       "      <td>Wisconsin</td>\n",
       "      <td>2740.0</td>\n",
       "      <td>2167.0</td>\n",
       "      <td>5807406</td>\n",
       "      <td>4907.0</td>\n",
       "      <td>0.558386</td>\n",
       "    </tr>\n",
       "    <tr>\n",
       "      <th>50</th>\n",
       "      <td>Mountain</td>\n",
       "      <td>Wyoming</td>\n",
       "      <td>434.0</td>\n",
       "      <td>205.0</td>\n",
       "      <td>577601</td>\n",
       "      <td>639.0</td>\n",
       "      <td>0.679186</td>\n",
       "    </tr>\n",
       "  </tbody>\n",
       "</table>\n",
       "</div>"
      ],
      "text/plain": [
       "                region                 state  individuals  family_members  \\\n",
       "0   East South Central               Alabama       2570.0           864.0   \n",
       "1              Pacific                Alaska       1434.0           582.0   \n",
       "2             Mountain               Arizona       7259.0          2606.0   \n",
       "3   West South Central              Arkansas       2280.0           432.0   \n",
       "4              Pacific            California     109008.0         20964.0   \n",
       "5             Mountain              Colorado       7607.0          3250.0   \n",
       "6          New England           Connecticut       2280.0          1696.0   \n",
       "7       South Atlantic              Delaware        708.0           374.0   \n",
       "8       South Atlantic  District of Columbia       3770.0          3134.0   \n",
       "9       South Atlantic               Florida      21443.0          9587.0   \n",
       "10      South Atlantic               Georgia       6943.0          2556.0   \n",
       "11             Pacific                Hawaii       4131.0          2399.0   \n",
       "12            Mountain                 Idaho       1297.0           715.0   \n",
       "13  East North Central              Illinois       6752.0          3891.0   \n",
       "14  East North Central               Indiana       3776.0          1482.0   \n",
       "15  West North Central                  Iowa       1711.0          1038.0   \n",
       "16  West North Central                Kansas       1443.0           773.0   \n",
       "17  East South Central              Kentucky       2735.0           953.0   \n",
       "18  West South Central             Louisiana       2540.0           519.0   \n",
       "19         New England                 Maine       1450.0          1066.0   \n",
       "20      South Atlantic              Maryland       4914.0          2230.0   \n",
       "21         New England         Massachusetts       6811.0         13257.0   \n",
       "22  East North Central              Michigan       5209.0          3142.0   \n",
       "23  West North Central             Minnesota       3993.0          3250.0   \n",
       "24  East South Central           Mississippi       1024.0           328.0   \n",
       "25  West North Central              Missouri       3776.0          2107.0   \n",
       "26            Mountain               Montana        983.0           422.0   \n",
       "27  West North Central              Nebraska       1745.0           676.0   \n",
       "28            Mountain                Nevada       7058.0           486.0   \n",
       "29         New England         New Hampshire        835.0           615.0   \n",
       "30        Mid-Atlantic            New Jersey       6048.0          3350.0   \n",
       "31            Mountain            New Mexico       1949.0           602.0   \n",
       "32        Mid-Atlantic              New York      39827.0         52070.0   \n",
       "33      South Atlantic        North Carolina       6451.0          2817.0   \n",
       "34  West North Central          North Dakota        467.0            75.0   \n",
       "35  East North Central                  Ohio       6929.0          3320.0   \n",
       "36  West South Central              Oklahoma       2823.0          1048.0   \n",
       "37             Pacific                Oregon      11139.0          3337.0   \n",
       "38        Mid-Atlantic          Pennsylvania       8163.0          5349.0   \n",
       "39         New England          Rhode Island        747.0           354.0   \n",
       "40      South Atlantic        South Carolina       3082.0           851.0   \n",
       "41  West North Central          South Dakota        836.0           323.0   \n",
       "42  East South Central             Tennessee       6139.0          1744.0   \n",
       "43  West South Central                 Texas      19199.0          6111.0   \n",
       "44            Mountain                  Utah       1904.0           972.0   \n",
       "45         New England               Vermont        780.0           511.0   \n",
       "46      South Atlantic              Virginia       3928.0          2047.0   \n",
       "47             Pacific            Washington      16424.0          5880.0   \n",
       "48      South Atlantic         West Virginia       1021.0           222.0   \n",
       "49  East North Central             Wisconsin       2740.0          2167.0   \n",
       "50            Mountain               Wyoming        434.0           205.0   \n",
       "\n",
       "    state_pop     total  p_individuals  \n",
       "0     4887681    3434.0       0.748398  \n",
       "1      735139    2016.0       0.711310  \n",
       "2     7158024    9865.0       0.735834  \n",
       "3     3009733    2712.0       0.840708  \n",
       "4    39461588  129972.0       0.838704  \n",
       "5     5691287   10857.0       0.700654  \n",
       "6     3571520    3976.0       0.573441  \n",
       "7      965479    1082.0       0.654344  \n",
       "8      701547    6904.0       0.546060  \n",
       "9    21244317   31030.0       0.691041  \n",
       "10   10511131    9499.0       0.730919  \n",
       "11    1420593    6530.0       0.632619  \n",
       "12    1750536    2012.0       0.644632  \n",
       "13   12723071   10643.0       0.634408  \n",
       "14    6695497    5258.0       0.718144  \n",
       "15    3148618    2749.0       0.622408  \n",
       "16    2911359    2216.0       0.651173  \n",
       "17    4461153    3688.0       0.741594  \n",
       "18    4659690    3059.0       0.830337  \n",
       "19    1339057    2516.0       0.576312  \n",
       "20    6035802    7144.0       0.687850  \n",
       "21    6882635   20068.0       0.339396  \n",
       "22    9984072    8351.0       0.623758  \n",
       "23    5606249    7243.0       0.551291  \n",
       "24    2981020    1352.0       0.757396  \n",
       "25    6121623    5883.0       0.641849  \n",
       "26    1060665    1405.0       0.699644  \n",
       "27    1925614    2421.0       0.720777  \n",
       "28    3027341    7544.0       0.935578  \n",
       "29    1353465    1450.0       0.575862  \n",
       "30    8886025    9398.0       0.643541  \n",
       "31    2092741    2551.0       0.764014  \n",
       "32   19530351   91897.0       0.433387  \n",
       "33   10381615    9268.0       0.696051  \n",
       "34     758080     542.0       0.861624  \n",
       "35   11676341   10249.0       0.676066  \n",
       "36    3940235    3871.0       0.729269  \n",
       "37    4181886   14476.0       0.769481  \n",
       "38   12800922   13512.0       0.604130  \n",
       "39    1058287    1101.0       0.678474  \n",
       "40    5084156    3933.0       0.783626  \n",
       "41     878698    1159.0       0.721311  \n",
       "42    6771631    7883.0       0.778764  \n",
       "43   28628666   25310.0       0.758554  \n",
       "44    3153550    2876.0       0.662031  \n",
       "45     624358    1291.0       0.604183  \n",
       "46    8501286    5975.0       0.657406  \n",
       "47    7523869   22304.0       0.736370  \n",
       "48    1804291    1243.0       0.821400  \n",
       "49    5807406    4907.0       0.558386  \n",
       "50     577601     639.0       0.679186  "
      ]
     },
     "execution_count": 20,
     "metadata": {},
     "output_type": "execute_result"
    }
   ],
   "source": [
    "# ailesi olmayan evsizler (\"individuals\") ile ailesi olan evsizleri (\"family_members\") toplayıp bunları \n",
    "# \"total\" adındaki yeni bir sütun değişkenine atalım\n",
    "homelessness['total'] = homelessness[\"individuals\"] + homelessness[\"family_members\"]\n",
    "\n",
    "# ailesi olmayan evsizleri (\"individuals\"), toplam evsiz sayısına (\"total\") bölelim ve bu \n",
    "#yeni değerleri p_individuals adlı yeni bir sütuna ekleyelim\n",
    "homelessness['p_individuals'] = homelessness[\"individuals\"] / homelessness[\"total\"] \n",
    "\n",
    "# Artık 2 yeni sütun değerimiz var.\n",
    "# p_individuals: ailesi olmayan evsizlerin tüm evsizler içindeki oranını \n",
    "# total: tüm evsizlerin sayısını\n",
    "# bize verir.\n",
    "\n",
    "# Sonucumuzu görelim\n",
    "homelessness # print(homelessness) ile de görebilirsiniz"
   ]
  },
  {
   "cell_type": "code",
   "execution_count": 21,
   "id": "db2ff248",
   "metadata": {
    "execution": {
     "iopub.execute_input": "2022-09-06T06:52:43.581634Z",
     "iopub.status.busy": "2022-09-06T06:52:43.580768Z",
     "iopub.status.idle": "2022-09-06T06:52:43.602778Z",
     "shell.execute_reply": "2022-09-06T06:52:43.601646Z"
    },
    "papermill": {
     "duration": 0.057007,
     "end_time": "2022-09-06T06:52:43.606435",
     "exception": false,
     "start_time": "2022-09-06T06:52:43.549428",
     "status": "completed"
    },
    "tags": []
   },
   "outputs": [
    {
     "data": {
      "text/html": [
       "<div>\n",
       "<style scoped>\n",
       "    .dataframe tbody tr th:only-of-type {\n",
       "        vertical-align: middle;\n",
       "    }\n",
       "\n",
       "    .dataframe tbody tr th {\n",
       "        vertical-align: top;\n",
       "    }\n",
       "\n",
       "    .dataframe thead th {\n",
       "        text-align: right;\n",
       "    }\n",
       "</style>\n",
       "<table border=\"1\" class=\"dataframe\">\n",
       "  <thead>\n",
       "    <tr style=\"text-align: right;\">\n",
       "      <th></th>\n",
       "      <th>state</th>\n",
       "      <th>indiv_per_10k</th>\n",
       "    </tr>\n",
       "  </thead>\n",
       "  <tbody>\n",
       "    <tr>\n",
       "      <th>8</th>\n",
       "      <td>District of Columbia</td>\n",
       "      <td>53.738381</td>\n",
       "    </tr>\n",
       "    <tr>\n",
       "      <th>11</th>\n",
       "      <td>Hawaii</td>\n",
       "      <td>29.079406</td>\n",
       "    </tr>\n",
       "    <tr>\n",
       "      <th>4</th>\n",
       "      <td>California</td>\n",
       "      <td>27.623825</td>\n",
       "    </tr>\n",
       "    <tr>\n",
       "      <th>37</th>\n",
       "      <td>Oregon</td>\n",
       "      <td>26.636307</td>\n",
       "    </tr>\n",
       "    <tr>\n",
       "      <th>28</th>\n",
       "      <td>Nevada</td>\n",
       "      <td>23.314189</td>\n",
       "    </tr>\n",
       "    <tr>\n",
       "      <th>47</th>\n",
       "      <td>Washington</td>\n",
       "      <td>21.829195</td>\n",
       "    </tr>\n",
       "    <tr>\n",
       "      <th>32</th>\n",
       "      <td>New York</td>\n",
       "      <td>20.392363</td>\n",
       "    </tr>\n",
       "  </tbody>\n",
       "</table>\n",
       "</div>"
      ],
      "text/plain": [
       "                   state  indiv_per_10k\n",
       "8   District of Columbia      53.738381\n",
       "11                Hawaii      29.079406\n",
       "4             California      27.623825\n",
       "37                Oregon      26.636307\n",
       "28                Nevada      23.314189\n",
       "47            Washington      21.829195\n",
       "32              New York      20.392363"
      ]
     },
     "execution_count": 21,
     "metadata": {},
     "output_type": "execute_result"
    }
   ],
   "source": [
    "# Ailesi olmayan evsiz bireyleri ('individuals'), eyaletin toplam nüfusuna ('state_pop') bölerek onların \n",
    "# eyaletteki nüfusa göre oranlarını bulalım ve bunu \"indiv_per_10k\" adlı yeni bir sütun değişkenine atalım\n",
    "homelessness[\"indiv_per_10k\"] = 10000 * homelessness['individuals'] / homelessness['state_pop']\n",
    "\n",
    "# indiv_per_10k\" adlı yeni sütun değişkeninde 20'den büyük olan değerleri bulalım ve bunları \n",
    "# \"high_homelessness\" adlı değişkene atalım\n",
    "high_homelessness = homelessness[homelessness['indiv_per_10k'] > 20]\n",
    "\n",
    "# indiv_per_10k değerine göre yüksek evsizlik oranını kendi içinde sıralayalım ve bunu da \n",
    "# \"high_homelessness_srt\" adlı yeni bir değişkene atalım\n",
    "high_homelessness_srt = high_homelessness.sort_values(\"indiv_per_10k\",ascending=False)\n",
    "\n",
    "# high_homeless_srt'den eyalet ('state') ve indiv_per_10k sütunlarını seçip bunu \"result\" adlı değişkene atalım\n",
    "result = high_homelessness_srt[['state','indiv_per_10k']]\n",
    "\n",
    "# Sonucu görelim\n",
    "result # print(result) ifadesini de kullanabilirsiniz"
   ]
  },
  {
   "cell_type": "markdown",
   "id": "eeac37b0",
   "metadata": {
    "papermill": {
     "duration": 0.030196,
     "end_time": "2022-09-06T06:52:43.663833",
     "exception": false,
     "start_time": "2022-09-06T06:52:43.633637",
     "status": "completed"
    },
    "tags": []
   },
   "source": [
    "### *Bölgelere göre ailesi olmayan evsiz insan sayısına (\"individuals\") bir çubuk grafik (bar plot) ile bakalım*"
   ]
  },
  {
   "cell_type": "code",
   "execution_count": 22,
   "id": "99642fd6",
   "metadata": {
    "execution": {
     "iopub.execute_input": "2022-09-06T06:52:43.717736Z",
     "iopub.status.busy": "2022-09-06T06:52:43.717345Z",
     "iopub.status.idle": "2022-09-06T06:52:44.019640Z",
     "shell.execute_reply": "2022-09-06T06:52:44.018322Z"
    },
    "papermill": {
     "duration": 0.332358,
     "end_time": "2022-09-06T06:52:44.022282",
     "exception": false,
     "start_time": "2022-09-06T06:52:43.689924",
     "status": "completed"
    },
    "tags": []
   },
   "outputs": [
    {
     "data": {
      "image/png": "[encoded data removed]",
      "text/plain": [
       "<Figure size 792x576 with 1 Axes>"
      ]
     },
     "metadata": {
      "needs_background": "light"
     },
     "output_type": "display_data"
    }
   ],
   "source": [
    "plt.figure(figsize= (11, 8))\n",
    "\n",
    "# individuals: her bölge için ailesi olmayan evsiz bireylerin toplamını alıp bu değerleri sıralayalım\n",
    "# sort_values(): değerleri sıralamak için\n",
    "# sum(): toplama için\n",
    "homelessness_by_region = (\n",
    "    homelessness.groupby(\"region\")[\"individuals\"].sum().sort_values()\n",
    ")\n",
    "\n",
    "# Grafiği barplot olarak ayarlayıp h ile horizontal (yatay) yapalım --> kind= \"barh\"\n",
    "homelessness_by_region.plot(kind=\"barh\", color=\"crimson\")\n",
    "\n",
    "plt.title(\"Bölgelere Göre Toplam Evsiz Sayısı\")\n",
    "plt.xlabel(\"Sayı\")\n",
    "plt.ylabel(\"Bölge\")\n",
    "plt.show()"
   ]
  },
  {
   "cell_type": "markdown",
   "id": "6e724207",
   "metadata": {
    "papermill": {
     "duration": 0.0269,
     "end_time": "2022-09-06T06:52:44.078739",
     "exception": false,
     "start_time": "2022-09-06T06:52:44.051839",
     "status": "completed"
    },
    "tags": []
   },
   "source": [
    "---\n",
    "#### *Evet ikinci alt başlığımız olan \"Aggregating DataFrames\" ile devam edelim. Bu konu için \"walmart\" adlı veri setini kullanacağız.*\n",
    "---"
   ]
  },
  {
   "cell_type": "code",
   "execution_count": 23,
   "id": "b2fbefb4",
   "metadata": {
    "execution": {
     "iopub.execute_input": "2022-09-06T06:52:44.140672Z",
     "iopub.status.busy": "2022-09-06T06:52:44.139833Z",
     "iopub.status.idle": "2022-09-06T06:52:44.157755Z",
     "shell.execute_reply": "2022-09-06T06:52:44.156513Z"
    },
    "papermill": {
     "duration": 0.050042,
     "end_time": "2022-09-06T06:52:44.159975",
     "exception": false,
     "start_time": "2022-09-06T06:52:44.109933",
     "status": "completed"
    },
    "tags": []
   },
   "outputs": [
    {
     "data": {
      "text/html": [
       "<div>\n",
       "<style scoped>\n",
       "    .dataframe tbody tr th:only-of-type {\n",
       "        vertical-align: middle;\n",
       "    }\n",
       "\n",
       "    .dataframe tbody tr th {\n",
       "        vertical-align: top;\n",
       "    }\n",
       "\n",
       "    .dataframe thead th {\n",
       "        text-align: right;\n",
       "    }\n",
       "</style>\n",
       "<table border=\"1\" class=\"dataframe\">\n",
       "  <thead>\n",
       "    <tr style=\"text-align: right;\">\n",
       "      <th></th>\n",
       "      <th>store</th>\n",
       "      <th>type</th>\n",
       "      <th>department</th>\n",
       "      <th>date</th>\n",
       "      <th>weekly_sales</th>\n",
       "      <th>is_holiday</th>\n",
       "      <th>temperature_c</th>\n",
       "      <th>fuel_price_usd_per_l</th>\n",
       "      <th>unemployment</th>\n",
       "    </tr>\n",
       "  </thead>\n",
       "  <tbody>\n",
       "    <tr>\n",
       "      <th>10769</th>\n",
       "      <td>39</td>\n",
       "      <td>A</td>\n",
       "      <td>99</td>\n",
       "      <td>2011-12-09</td>\n",
       "      <td>895.00</td>\n",
       "      <td>False</td>\n",
       "      <td>9.644444</td>\n",
       "      <td>0.834256</td>\n",
       "      <td>7.716</td>\n",
       "    </tr>\n",
       "    <tr>\n",
       "      <th>10770</th>\n",
       "      <td>39</td>\n",
       "      <td>A</td>\n",
       "      <td>99</td>\n",
       "      <td>2012-02-03</td>\n",
       "      <td>350.00</td>\n",
       "      <td>False</td>\n",
       "      <td>15.938889</td>\n",
       "      <td>0.887619</td>\n",
       "      <td>7.244</td>\n",
       "    </tr>\n",
       "    <tr>\n",
       "      <th>10771</th>\n",
       "      <td>39</td>\n",
       "      <td>A</td>\n",
       "      <td>99</td>\n",
       "      <td>2012-06-08</td>\n",
       "      <td>450.00</td>\n",
       "      <td>False</td>\n",
       "      <td>27.288889</td>\n",
       "      <td>0.911922</td>\n",
       "      <td>6.989</td>\n",
       "    </tr>\n",
       "    <tr>\n",
       "      <th>10772</th>\n",
       "      <td>39</td>\n",
       "      <td>A</td>\n",
       "      <td>99</td>\n",
       "      <td>2012-07-13</td>\n",
       "      <td>0.06</td>\n",
       "      <td>False</td>\n",
       "      <td>25.644444</td>\n",
       "      <td>0.860145</td>\n",
       "      <td>6.623</td>\n",
       "    </tr>\n",
       "    <tr>\n",
       "      <th>10773</th>\n",
       "      <td>39</td>\n",
       "      <td>A</td>\n",
       "      <td>99</td>\n",
       "      <td>2012-10-05</td>\n",
       "      <td>915.00</td>\n",
       "      <td>False</td>\n",
       "      <td>22.250000</td>\n",
       "      <td>0.955511</td>\n",
       "      <td>6.228</td>\n",
       "    </tr>\n",
       "  </tbody>\n",
       "</table>\n",
       "</div>"
      ],
      "text/plain": [
       "       store type  department        date  weekly_sales  is_holiday  \\\n",
       "10769     39    A          99  2011-12-09        895.00       False   \n",
       "10770     39    A          99  2012-02-03        350.00       False   \n",
       "10771     39    A          99  2012-06-08        450.00       False   \n",
       "10772     39    A          99  2012-07-13          0.06       False   \n",
       "10773     39    A          99  2012-10-05        915.00       False   \n",
       "\n",
       "       temperature_c  fuel_price_usd_per_l  unemployment  \n",
       "10769       9.644444              0.834256         7.716  \n",
       "10770      15.938889              0.887619         7.244  \n",
       "10771      27.288889              0.911922         6.989  \n",
       "10772      25.644444              0.860145         6.623  \n",
       "10773      22.250000              0.955511         6.228  "
      ]
     },
     "execution_count": 23,
     "metadata": {},
     "output_type": "execute_result"
    }
   ],
   "source": [
    "# \"Unnamed: 0\" adlı sütunu kaldıralım, o işimize yaramayacak gereksiz bir sütun\n",
    "walmart.drop('Unnamed: 0', inplace=True, axis=1)\n",
    "\n",
    "# walmart verisinin son 5 verisine bakalım\n",
    "walmart.tail()"
   ]
  },
  {
   "cell_type": "code",
   "execution_count": 24,
   "id": "8c9ebf84",
   "metadata": {
    "execution": {
     "iopub.execute_input": "2022-09-06T06:52:44.216562Z",
     "iopub.status.busy": "2022-09-06T06:52:44.215474Z",
     "iopub.status.idle": "2022-09-06T06:52:44.229827Z",
     "shell.execute_reply": "2022-09-06T06:52:44.228624Z"
    },
    "papermill": {
     "duration": 0.045863,
     "end_time": "2022-09-06T06:52:44.232876",
     "exception": false,
     "start_time": "2022-09-06T06:52:44.187013",
     "status": "completed"
    },
    "tags": []
   },
   "outputs": [
    {
     "name": "stdout",
     "output_type": "stream",
     "text": [
      "<class 'pandas.core.frame.DataFrame'>\n",
      "RangeIndex: 10774 entries, 0 to 10773\n",
      "Data columns (total 9 columns):\n",
      " #   Column                Non-Null Count  Dtype  \n",
      "---  ------                --------------  -----  \n",
      " 0   store                 10774 non-null  int64  \n",
      " 1   type                  10774 non-null  object \n",
      " 2   department            10774 non-null  int64  \n",
      " 3   date                  10774 non-null  object \n",
      " 4   weekly_sales          10774 non-null  float64\n",
      " 5   is_holiday            10774 non-null  bool   \n",
      " 6   temperature_c         10774 non-null  float64\n",
      " 7   fuel_price_usd_per_l  10774 non-null  float64\n",
      " 8   unemployment          10774 non-null  float64\n",
      "dtypes: bool(1), float64(4), int64(2), object(2)\n",
      "memory usage: 684.0+ KB\n"
     ]
    }
   ],
   "source": [
    "# walmart verisi hakkında bilgi edinelim biraz\n",
    "walmart.info()"
   ]
  },
  {
   "cell_type": "code",
   "execution_count": 25,
   "id": "6afa8946",
   "metadata": {
    "execution": {
     "iopub.execute_input": "2022-09-06T06:52:44.290092Z",
     "iopub.status.busy": "2022-09-06T06:52:44.288858Z",
     "iopub.status.idle": "2022-09-06T06:52:44.295318Z",
     "shell.execute_reply": "2022-09-06T06:52:44.294119Z"
    },
    "papermill": {
     "duration": 0.036779,
     "end_time": "2022-09-06T06:52:44.297447",
     "exception": false,
     "start_time": "2022-09-06T06:52:44.260668",
     "status": "completed"
    },
    "tags": []
   },
   "outputs": [
    {
     "name": "stdout",
     "output_type": "stream",
     "text": [
      "23843.95014850566\n"
     ]
    }
   ],
   "source": [
    "# Haftalık satışların ortalamasını yazdıralım\n",
    "print(walmart[\"weekly_sales\"].mean())"
   ]
  },
  {
   "cell_type": "code",
   "execution_count": 26,
   "id": "f409b511",
   "metadata": {
    "execution": {
     "iopub.execute_input": "2022-09-06T06:52:44.353990Z",
     "iopub.status.busy": "2022-09-06T06:52:44.353313Z",
     "iopub.status.idle": "2022-09-06T06:52:44.360635Z",
     "shell.execute_reply": "2022-09-06T06:52:44.359252Z"
    },
    "papermill": {
     "duration": 0.038277,
     "end_time": "2022-09-06T06:52:44.362988",
     "exception": false,
     "start_time": "2022-09-06T06:52:44.324711",
     "status": "completed"
    },
    "tags": []
   },
   "outputs": [
    {
     "name": "stdout",
     "output_type": "stream",
     "text": [
      "12049.064999999999\n"
     ]
    }
   ],
   "source": [
    "# Haftalık satışların medyanını (ortanca sayı) yazdıralım\n",
    "print(walmart[\"weekly_sales\"].median())"
   ]
  },
  {
   "cell_type": "code",
   "execution_count": 27,
   "id": "4cd10ad4",
   "metadata": {
    "execution": {
     "iopub.execute_input": "2022-09-06T06:52:44.419793Z",
     "iopub.status.busy": "2022-09-06T06:52:44.419147Z",
     "iopub.status.idle": "2022-09-06T06:52:44.427162Z",
     "shell.execute_reply": "2022-09-06T06:52:44.425382Z"
    },
    "papermill": {
     "duration": 0.039668,
     "end_time": "2022-09-06T06:52:44.429880",
     "exception": false,
     "start_time": "2022-09-06T06:52:44.390212",
     "status": "completed"
    },
    "tags": []
   },
   "outputs": [
    {
     "name": "stdout",
     "output_type": "stream",
     "text": [
      "2012-10-26\n"
     ]
    }
   ],
   "source": [
    "# max() metodu ile \"date\" sütununun en büyük değerini yazdıralım. \n",
    "# Burada tarihler olduğu için haliyle max olarak verideki son tarihi getirecektir bize.\n",
    "print(walmart[\"date\"].max())"
   ]
  },
  {
   "cell_type": "code",
   "execution_count": 28,
   "id": "afc2ba0c",
   "metadata": {
    "execution": {
     "iopub.execute_input": "2022-09-06T06:52:44.486484Z",
     "iopub.status.busy": "2022-09-06T06:52:44.485549Z",
     "iopub.status.idle": "2022-09-06T06:52:44.492660Z",
     "shell.execute_reply": "2022-09-06T06:52:44.491785Z"
    },
    "papermill": {
     "duration": 0.038407,
     "end_time": "2022-09-06T06:52:44.495263",
     "exception": false,
     "start_time": "2022-09-06T06:52:44.456856",
     "status": "completed"
    },
    "tags": []
   },
   "outputs": [
    {
     "name": "stdout",
     "output_type": "stream",
     "text": [
      "2010-02-05\n"
     ]
    }
   ],
   "source": [
    "# min() metodu ile \"date\" sütununun en küçük değerini yazdıralım. \n",
    "# Burada tarihler olduğu için haliyle min olarak verideki ilk tarihi getirecektir bize.\n",
    "print(walmart[\"date\"].min())"
   ]
  },
  {
   "cell_type": "markdown",
   "id": "0784437b",
   "metadata": {
    "papermill": {
     "duration": 0.026916,
     "end_time": "2022-09-06T06:52:44.550281",
     "exception": false,
     "start_time": "2022-09-06T06:52:44.523365",
     "status": "completed"
    },
    "tags": []
   },
   "source": [
    "## *Kartiller (Quartiles)*\n",
    "*Kartiller, verileri çeyreklere bölen değerlerdir. Veriler, sayı doğrusunda denk geldikleri yerlere göre dört parçaya ayrılır.*\n",
    "- *N: Toplam veri noktası sayısı*\n",
    "- *Lower Quartile (Q1) = (N+1) * 1 / 4*\n",
    "- *Middle Quartile (Q2) = (N+1) * 2 / 4*\n",
    "- *Upper Quartile (Q3) = (N+1) * 3 / 4*\n",
    "- *Interquartile Range = Q3 – Q1*\n",
    "\n",
    "![Medyan ve Çeyrekler (Kartiller)](https://i.imgur.com/249348z.jpeg)"
   ]
  },
  {
   "cell_type": "markdown",
   "id": "26de86a4",
   "metadata": {
    "papermill": {
     "duration": 0.026942,
     "end_time": "2022-09-06T06:52:44.604375",
     "exception": false,
     "start_time": "2022-09-06T06:52:44.577433",
     "status": "completed"
    },
    "tags": []
   },
   "source": [
    "#### ***aggregate fonksiyonu***\n",
    "***agg(): Bir DataFrame'e kendi özel fonksiyonlarınızı uygulamanıza ve aynı anda bir DataFrame'in birden fazla sütununa fonksiyonlar uygulamanıza olanak vererek, birleştirmelerinizi ya da bir araya getirmelerinizi süper verimli hale getirir.***"
   ]
  },
  {
   "cell_type": "code",
   "execution_count": 29,
   "id": "3b91df7c",
   "metadata": {
    "execution": {
     "iopub.execute_input": "2022-09-06T06:52:44.661320Z",
     "iopub.status.busy": "2022-09-06T06:52:44.660614Z",
     "iopub.status.idle": "2022-09-06T06:52:44.670156Z",
     "shell.execute_reply": "2022-09-06T06:52:44.669096Z"
    },
    "papermill": {
     "duration": 0.040763,
     "end_time": "2022-09-06T06:52:44.672381",
     "exception": false,
     "start_time": "2022-09-06T06:52:44.631618",
     "status": "completed"
    },
    "tags": []
   },
   "outputs": [
    {
     "name": "stdout",
     "output_type": "stream",
     "text": [
      "16.583333333333336\n"
     ]
    }
   ],
   "source": [
    "# Özel bir iqr adında fonksiyon tanımlayalım\n",
    "# Bu fonksiyon ile Çeyrekler arası aralık'ı (Interquartile Range) bulalım\n",
    "def iqr(column):\n",
    "    # Çeyrekler arası aralık = 3.çeyrek - 1.çeyrek\n",
    "    return column.quantile(0.75) - column.quantile(0.25) \n",
    "\n",
    "# Pandas üzerindeki aggregate fonksiyonunu kullanarak oluşturmuş olduğumuz fonksiyonu çağıralım\n",
    "# ve \"temperature_c\" sütununun IQR'sini yazdıralım\n",
    "print(walmart[\"temperature_c\"].agg(iqr))"
   ]
  },
  {
   "cell_type": "code",
   "execution_count": 30,
   "id": "21850c9b",
   "metadata": {
    "execution": {
     "iopub.execute_input": "2022-09-06T06:52:44.730190Z",
     "iopub.status.busy": "2022-09-06T06:52:44.729411Z",
     "iopub.status.idle": "2022-09-06T06:52:44.744666Z",
     "shell.execute_reply": "2022-09-06T06:52:44.743274Z"
    },
    "papermill": {
     "duration": 0.046849,
     "end_time": "2022-09-06T06:52:44.747341",
     "exception": false,
     "start_time": "2022-09-06T06:52:44.700492",
     "status": "completed"
    },
    "tags": []
   },
   "outputs": [
    {
     "name": "stdout",
     "output_type": "stream",
     "text": [
      "temperature_c           16.583333\n",
      "fuel_price_usd_per_l     0.073176\n",
      "unemployment             0.565000\n",
      "dtype: float64\n"
     ]
    }
   ],
   "source": [
    "# Şimdi de agg() metodunun birden fazla sütuna etki ettiğini görmek için \"temperature_c\" sütununun yanına \n",
    "# \"fuel_price_usd_per_l\" ve \"unemployment\" sütunlarını da ekleyerek güncelleyelim ve öyle yazdıralım\n",
    "print(walmart[[\"temperature_c\", \"fuel_price_usd_per_l\", \"unemployment\"]].agg(iqr))"
   ]
  },
  {
   "cell_type": "code",
   "execution_count": 31,
   "id": "3b21c5e5",
   "metadata": {
    "execution": {
     "iopub.execute_input": "2022-09-06T06:52:44.805134Z",
     "iopub.status.busy": "2022-09-06T06:52:44.804393Z",
     "iopub.status.idle": "2022-09-06T06:52:44.824348Z",
     "shell.execute_reply": "2022-09-06T06:52:44.822979Z"
    },
    "papermill": {
     "duration": 0.053016,
     "end_time": "2022-09-06T06:52:44.828547",
     "exception": false,
     "start_time": "2022-09-06T06:52:44.775531",
     "status": "completed"
    },
    "tags": []
   },
   "outputs": [
    {
     "name": "stdout",
     "output_type": "stream",
     "text": [
      "        temperature_c  fuel_price_usd_per_l  unemployment\n",
      "iqr         16.583333              0.073176         0.565\n",
      "median      16.966667              0.743381         8.099\n"
     ]
    }
   ],
   "source": [
    "# Evet şimdi de bu sütunların medyanını yazdırmak için güncelleyelim\n",
    "print(walmart[[\"temperature_c\", \"fuel_price_usd_per_l\", \"unemployment\"]].agg([iqr, np.median]))\n",
    "\n",
    "# agg metodu birden fazla fonksiyon da alabiliyor gördüğünüz üzere. \n",
    "\n",
    "# Çıktıda da görüldüğü üzere üç farklı sütun değerimiz için çeyrekler arası aralığı ve o sütunların medyanlarını \n",
    "# bulduk basit bir işlevle"
   ]
  },
  {
   "cell_type": "code",
   "execution_count": 32,
   "id": "f5fb2001",
   "metadata": {
    "execution": {
     "iopub.execute_input": "2022-09-06T06:52:44.886307Z",
     "iopub.status.busy": "2022-09-06T06:52:44.885261Z",
     "iopub.status.idle": "2022-09-06T06:52:44.906837Z",
     "shell.execute_reply": "2022-09-06T06:52:44.905694Z"
    },
    "papermill": {
     "duration": 0.053285,
     "end_time": "2022-09-06T06:52:44.909637",
     "exception": false,
     "start_time": "2022-09-06T06:52:44.856352",
     "status": "completed"
    },
    "tags": []
   },
   "outputs": [
    {
     "data": {
      "text/html": [
       "<div>\n",
       "<style scoped>\n",
       "    .dataframe tbody tr th:only-of-type {\n",
       "        vertical-align: middle;\n",
       "    }\n",
       "\n",
       "    .dataframe tbody tr th {\n",
       "        vertical-align: top;\n",
       "    }\n",
       "\n",
       "    .dataframe thead th {\n",
       "        text-align: right;\n",
       "    }\n",
       "</style>\n",
       "<table border=\"1\" class=\"dataframe\">\n",
       "  <thead>\n",
       "    <tr style=\"text-align: right;\">\n",
       "      <th></th>\n",
       "      <th>store</th>\n",
       "      <th>type</th>\n",
       "      <th>department</th>\n",
       "      <th>date</th>\n",
       "      <th>weekly_sales</th>\n",
       "      <th>is_holiday</th>\n",
       "      <th>temperature_c</th>\n",
       "      <th>fuel_price_usd_per_l</th>\n",
       "      <th>unemployment</th>\n",
       "    </tr>\n",
       "  </thead>\n",
       "  <tbody>\n",
       "    <tr>\n",
       "      <th>0</th>\n",
       "      <td>1</td>\n",
       "      <td>A</td>\n",
       "      <td>1</td>\n",
       "      <td>2010-02-05</td>\n",
       "      <td>24924.50</td>\n",
       "      <td>False</td>\n",
       "      <td>5.727778</td>\n",
       "      <td>0.679451</td>\n",
       "      <td>8.106</td>\n",
       "    </tr>\n",
       "    <tr>\n",
       "      <th>1</th>\n",
       "      <td>1</td>\n",
       "      <td>A</td>\n",
       "      <td>1</td>\n",
       "      <td>2010-03-05</td>\n",
       "      <td>21827.90</td>\n",
       "      <td>False</td>\n",
       "      <td>8.055556</td>\n",
       "      <td>0.693452</td>\n",
       "      <td>8.106</td>\n",
       "    </tr>\n",
       "    <tr>\n",
       "      <th>2</th>\n",
       "      <td>1</td>\n",
       "      <td>A</td>\n",
       "      <td>1</td>\n",
       "      <td>2010-04-02</td>\n",
       "      <td>57258.43</td>\n",
       "      <td>False</td>\n",
       "      <td>16.816667</td>\n",
       "      <td>0.718284</td>\n",
       "      <td>7.808</td>\n",
       "    </tr>\n",
       "    <tr>\n",
       "      <th>3</th>\n",
       "      <td>1</td>\n",
       "      <td>A</td>\n",
       "      <td>1</td>\n",
       "      <td>2010-05-07</td>\n",
       "      <td>17413.94</td>\n",
       "      <td>False</td>\n",
       "      <td>22.527778</td>\n",
       "      <td>0.748928</td>\n",
       "      <td>7.808</td>\n",
       "    </tr>\n",
       "    <tr>\n",
       "      <th>4</th>\n",
       "      <td>1</td>\n",
       "      <td>A</td>\n",
       "      <td>1</td>\n",
       "      <td>2010-06-04</td>\n",
       "      <td>17558.09</td>\n",
       "      <td>False</td>\n",
       "      <td>27.050000</td>\n",
       "      <td>0.714586</td>\n",
       "      <td>7.808</td>\n",
       "    </tr>\n",
       "    <tr>\n",
       "      <th>5</th>\n",
       "      <td>1</td>\n",
       "      <td>A</td>\n",
       "      <td>1</td>\n",
       "      <td>2010-07-02</td>\n",
       "      <td>16333.14</td>\n",
       "      <td>False</td>\n",
       "      <td>27.172222</td>\n",
       "      <td>0.705076</td>\n",
       "      <td>7.787</td>\n",
       "    </tr>\n",
       "    <tr>\n",
       "      <th>6</th>\n",
       "      <td>1</td>\n",
       "      <td>A</td>\n",
       "      <td>1</td>\n",
       "      <td>2010-08-06</td>\n",
       "      <td>17508.41</td>\n",
       "      <td>False</td>\n",
       "      <td>30.644444</td>\n",
       "      <td>0.693980</td>\n",
       "      <td>7.787</td>\n",
       "    </tr>\n",
       "    <tr>\n",
       "      <th>7</th>\n",
       "      <td>1</td>\n",
       "      <td>A</td>\n",
       "      <td>1</td>\n",
       "      <td>2010-09-03</td>\n",
       "      <td>16241.78</td>\n",
       "      <td>False</td>\n",
       "      <td>27.338889</td>\n",
       "      <td>0.680772</td>\n",
       "      <td>7.787</td>\n",
       "    </tr>\n",
       "    <tr>\n",
       "      <th>8</th>\n",
       "      <td>1</td>\n",
       "      <td>A</td>\n",
       "      <td>1</td>\n",
       "      <td>2010-10-01</td>\n",
       "      <td>20094.19</td>\n",
       "      <td>False</td>\n",
       "      <td>22.161111</td>\n",
       "      <td>0.687640</td>\n",
       "      <td>7.838</td>\n",
       "    </tr>\n",
       "    <tr>\n",
       "      <th>9</th>\n",
       "      <td>1</td>\n",
       "      <td>A</td>\n",
       "      <td>1</td>\n",
       "      <td>2010-11-05</td>\n",
       "      <td>34238.88</td>\n",
       "      <td>False</td>\n",
       "      <td>14.855556</td>\n",
       "      <td>0.710359</td>\n",
       "      <td>7.838</td>\n",
       "    </tr>\n",
       "    <tr>\n",
       "      <th>10</th>\n",
       "      <td>1</td>\n",
       "      <td>A</td>\n",
       "      <td>1</td>\n",
       "      <td>2010-12-03</td>\n",
       "      <td>22517.56</td>\n",
       "      <td>False</td>\n",
       "      <td>9.594444</td>\n",
       "      <td>0.715378</td>\n",
       "      <td>7.838</td>\n",
       "    </tr>\n",
       "    <tr>\n",
       "      <th>11</th>\n",
       "      <td>1</td>\n",
       "      <td>A</td>\n",
       "      <td>1</td>\n",
       "      <td>2011-01-07</td>\n",
       "      <td>15984.24</td>\n",
       "      <td>False</td>\n",
       "      <td>9.038889</td>\n",
       "      <td>0.786176</td>\n",
       "      <td>7.742</td>\n",
       "    </tr>\n",
       "  </tbody>\n",
       "</table>\n",
       "</div>"
      ],
      "text/plain": [
       "    store type  department        date  weekly_sales  is_holiday  \\\n",
       "0       1    A           1  2010-02-05      24924.50       False   \n",
       "1       1    A           1  2010-03-05      21827.90       False   \n",
       "2       1    A           1  2010-04-02      57258.43       False   \n",
       "3       1    A           1  2010-05-07      17413.94       False   \n",
       "4       1    A           1  2010-06-04      17558.09       False   \n",
       "5       1    A           1  2010-07-02      16333.14       False   \n",
       "6       1    A           1  2010-08-06      17508.41       False   \n",
       "7       1    A           1  2010-09-03      16241.78       False   \n",
       "8       1    A           1  2010-10-01      20094.19       False   \n",
       "9       1    A           1  2010-11-05      34238.88       False   \n",
       "10      1    A           1  2010-12-03      22517.56       False   \n",
       "11      1    A           1  2011-01-07      15984.24       False   \n",
       "\n",
       "    temperature_c  fuel_price_usd_per_l  unemployment  \n",
       "0        5.727778              0.679451         8.106  \n",
       "1        8.055556              0.693452         8.106  \n",
       "2       16.816667              0.718284         7.808  \n",
       "3       22.527778              0.748928         7.808  \n",
       "4       27.050000              0.714586         7.808  \n",
       "5       27.172222              0.705076         7.787  \n",
       "6       30.644444              0.693980         7.787  \n",
       "7       27.338889              0.680772         7.787  \n",
       "8       22.161111              0.687640         7.838  \n",
       "9       14.855556              0.710359         7.838  \n",
       "10       9.594444              0.715378         7.838  \n",
       "11       9.038889              0.786176         7.742  "
      ]
     },
     "execution_count": 32,
     "metadata": {},
     "output_type": "execute_result"
    }
   ],
   "source": [
    "# departmanı 1 olan ve mağazası 1 olanları filtreleyip bunu \"sales_1_1\" adında yeni bir değişkene atalım\n",
    "# ve bunun üzerinden gösterelim\n",
    "sales_1_1 = walmart[(walmart[\"department\"] == 1) & (walmart[\"store\"] == 1)]\n",
    "\n",
    "# tarihe göre sıralayalım verimizi\n",
    "sales_1_1 = sales_1_1.sort_values(\"date\")\n",
    "\n",
    "# sales_1_1 = mağaza 1'in 1. departmanının satış verilerini içeren veriler\n",
    "sales_1_1 # bunun yerine print(sales_1_1) ile de yazdırabilirsiniz"
   ]
  },
  {
   "cell_type": "markdown",
   "id": "fe3058b0",
   "metadata": {
    "papermill": {
     "duration": 0.027618,
     "end_time": "2022-09-06T06:52:44.965206",
     "exception": false,
     "start_time": "2022-09-06T06:52:44.937588",
     "status": "completed"
    },
    "tags": []
   },
   "source": [
    "### ***cumsum() fonksiyonu***\n",
    "* ***Kümülatif toplam, elemanları diziye kısmen eklemek anlamına gelir.***\n",
    "* ***Örneğin. [1, 2, 3, 4]‘ün kısmi toplamı [1, 1+2, 1+2+3, 1+2+3+4] = [1, 3, 6, 10] olacaktır. cumsum() metoduyla kısmi toplama yapabiliriz.***"
   ]
  },
  {
   "cell_type": "code",
   "execution_count": 33,
   "id": "de3c268f",
   "metadata": {
    "execution": {
     "iopub.execute_input": "2022-09-06T06:52:45.023545Z",
     "iopub.status.busy": "2022-09-06T06:52:45.023131Z",
     "iopub.status.idle": "2022-09-06T06:52:45.033412Z",
     "shell.execute_reply": "2022-09-06T06:52:45.032319Z"
    },
    "papermill": {
     "duration": 0.042628,
     "end_time": "2022-09-06T06:52:45.035754",
     "exception": false,
     "start_time": "2022-09-06T06:52:44.993126",
     "status": "completed"
    },
    "tags": []
   },
   "outputs": [
    {
     "data": {
      "text/plain": [
       "0      24924.50\n",
       "1      46752.40\n",
       "2     104010.83\n",
       "3     121424.77\n",
       "4     138982.86\n",
       "5     155316.00\n",
       "6     172824.41\n",
       "7     189066.19\n",
       "8     209160.38\n",
       "9     243399.26\n",
       "10    265916.82\n",
       "11    281901.06\n",
       "Name: cum_weekly_sales, dtype: float64"
      ]
     },
     "execution_count": 33,
     "metadata": {},
     "output_type": "execute_result"
    }
   ],
   "source": [
    "# Haftalık satışların (\"weekly_sales\") kümülatif toplamını alalım ve bunu \"cum_weekly_sales\" \n",
    "# adlı yeni bir sütun değişkeninde tutalım\n",
    "sales_1_1[\"cum_weekly_sales\"] = walmart[\"weekly_sales\"].cumsum()\n",
    "\n",
    "sales_1_1[\"cum_weekly_sales\"]"
   ]
  },
  {
   "cell_type": "code",
   "execution_count": 34,
   "id": "8ec83362",
   "metadata": {
    "execution": {
     "iopub.execute_input": "2022-09-06T06:52:45.095434Z",
     "iopub.status.busy": "2022-09-06T06:52:45.094348Z",
     "iopub.status.idle": "2022-09-06T06:52:45.106024Z",
     "shell.execute_reply": "2022-09-06T06:52:45.105155Z"
    },
    "papermill": {
     "duration": 0.045314,
     "end_time": "2022-09-06T06:52:45.109304",
     "exception": false,
     "start_time": "2022-09-06T06:52:45.063990",
     "status": "completed"
    },
    "tags": []
   },
   "outputs": [
    {
     "data": {
      "text/plain": [
       "0     24924.50\n",
       "1     24924.50\n",
       "2     57258.43\n",
       "3     57258.43\n",
       "4     57258.43\n",
       "5     57258.43\n",
       "6     57258.43\n",
       "7     57258.43\n",
       "8     57258.43\n",
       "9     57258.43\n",
       "10    57258.43\n",
       "11    57258.43\n",
       "Name: cum_max_sales, dtype: float64"
      ]
     },
     "execution_count": 34,
     "metadata": {},
     "output_type": "execute_result"
    }
   ],
   "source": [
    "# Haftalık satışların kümülatif maksimumunu alalım ve bunu \"cum_max_sales\" \n",
    "# adlı yeni bir sütun değişkeninde tutalım\n",
    "sales_1_1[\"cum_max_sales\"] = walmart[\"weekly_sales\"].cummax()\n",
    "\n",
    "sales_1_1[\"cum_max_sales\"]"
   ]
  },
  {
   "cell_type": "code",
   "execution_count": 35,
   "id": "e2707725",
   "metadata": {
    "execution": {
     "iopub.execute_input": "2022-09-06T06:52:45.183056Z",
     "iopub.status.busy": "2022-09-06T06:52:45.182033Z",
     "iopub.status.idle": "2022-09-06T06:52:45.195680Z",
     "shell.execute_reply": "2022-09-06T06:52:45.194639Z"
    },
    "papermill": {
     "duration": 0.05816,
     "end_time": "2022-09-06T06:52:45.199405",
     "exception": false,
     "start_time": "2022-09-06T06:52:45.141245",
     "status": "completed"
    },
    "tags": []
   },
   "outputs": [
    {
     "name": "stdout",
     "output_type": "stream",
     "text": [
      "          date  weekly_sales  cum_weekly_sales  cum_max_sales\n",
      "0   2010-02-05      24924.50          24924.50       24924.50\n",
      "1   2010-03-05      21827.90          46752.40       24924.50\n",
      "2   2010-04-02      57258.43         104010.83       57258.43\n",
      "3   2010-05-07      17413.94         121424.77       57258.43\n",
      "4   2010-06-04      17558.09         138982.86       57258.43\n",
      "5   2010-07-02      16333.14         155316.00       57258.43\n",
      "6   2010-08-06      17508.41         172824.41       57258.43\n",
      "7   2010-09-03      16241.78         189066.19       57258.43\n",
      "8   2010-10-01      20094.19         209160.38       57258.43\n",
      "9   2010-11-05      34238.88         243399.26       57258.43\n",
      "10  2010-12-03      22517.56         265916.82       57258.43\n",
      "11  2011-01-07      15984.24         281901.06       57258.43\n"
     ]
    }
   ],
   "source": [
    "# Evet yeni oluşturduğumuz sütunları bir görelim\n",
    "print(sales_1_1[[\"date\", \"weekly_sales\", \"cum_weekly_sales\", \"cum_max_sales\"]])"
   ]
  },
  {
   "cell_type": "code",
   "execution_count": 36,
   "id": "cb6e6eb6",
   "metadata": {
    "execution": {
     "iopub.execute_input": "2022-09-06T06:52:45.268726Z",
     "iopub.status.busy": "2022-09-06T06:52:45.267694Z",
     "iopub.status.idle": "2022-09-06T06:52:45.287303Z",
     "shell.execute_reply": "2022-09-06T06:52:45.286332Z"
    },
    "papermill": {
     "duration": 0.054386,
     "end_time": "2022-09-06T06:52:45.290036",
     "exception": false,
     "start_time": "2022-09-06T06:52:45.235650",
     "status": "completed"
    },
    "tags": []
   },
   "outputs": [
    {
     "data": {
      "text/html": [
       "<div>\n",
       "<style scoped>\n",
       "    .dataframe tbody tr th:only-of-type {\n",
       "        vertical-align: middle;\n",
       "    }\n",
       "\n",
       "    .dataframe tbody tr th {\n",
       "        vertical-align: top;\n",
       "    }\n",
       "\n",
       "    .dataframe thead th {\n",
       "        text-align: right;\n",
       "    }\n",
       "</style>\n",
       "<table border=\"1\" class=\"dataframe\">\n",
       "  <thead>\n",
       "    <tr style=\"text-align: right;\">\n",
       "      <th></th>\n",
       "      <th>store</th>\n",
       "      <th>type</th>\n",
       "      <th>department</th>\n",
       "      <th>date</th>\n",
       "      <th>weekly_sales</th>\n",
       "      <th>is_holiday</th>\n",
       "      <th>temperature_c</th>\n",
       "      <th>fuel_price_usd_per_l</th>\n",
       "      <th>unemployment</th>\n",
       "    </tr>\n",
       "  </thead>\n",
       "  <tbody>\n",
       "    <tr>\n",
       "      <th>0</th>\n",
       "      <td>1</td>\n",
       "      <td>A</td>\n",
       "      <td>1</td>\n",
       "      <td>2010-02-05</td>\n",
       "      <td>24924.50</td>\n",
       "      <td>False</td>\n",
       "      <td>5.727778</td>\n",
       "      <td>0.679451</td>\n",
       "      <td>8.106</td>\n",
       "    </tr>\n",
       "    <tr>\n",
       "      <th>901</th>\n",
       "      <td>2</td>\n",
       "      <td>A</td>\n",
       "      <td>1</td>\n",
       "      <td>2010-02-05</td>\n",
       "      <td>35034.06</td>\n",
       "      <td>False</td>\n",
       "      <td>4.550000</td>\n",
       "      <td>0.679451</td>\n",
       "      <td>8.324</td>\n",
       "    </tr>\n",
       "    <tr>\n",
       "      <th>1798</th>\n",
       "      <td>4</td>\n",
       "      <td>A</td>\n",
       "      <td>1</td>\n",
       "      <td>2010-02-05</td>\n",
       "      <td>38724.42</td>\n",
       "      <td>False</td>\n",
       "      <td>6.533333</td>\n",
       "      <td>0.686319</td>\n",
       "      <td>8.623</td>\n",
       "    </tr>\n",
       "    <tr>\n",
       "      <th>2699</th>\n",
       "      <td>6</td>\n",
       "      <td>A</td>\n",
       "      <td>1</td>\n",
       "      <td>2010-02-05</td>\n",
       "      <td>25619.00</td>\n",
       "      <td>False</td>\n",
       "      <td>4.683333</td>\n",
       "      <td>0.679451</td>\n",
       "      <td>7.259</td>\n",
       "    </tr>\n",
       "    <tr>\n",
       "      <th>3593</th>\n",
       "      <td>10</td>\n",
       "      <td>B</td>\n",
       "      <td>1</td>\n",
       "      <td>2010-02-05</td>\n",
       "      <td>40212.84</td>\n",
       "      <td>False</td>\n",
       "      <td>12.411111</td>\n",
       "      <td>0.782478</td>\n",
       "      <td>9.765</td>\n",
       "    </tr>\n",
       "  </tbody>\n",
       "</table>\n",
       "</div>"
      ],
      "text/plain": [
       "      store type  department        date  weekly_sales  is_holiday  \\\n",
       "0         1    A           1  2010-02-05      24924.50       False   \n",
       "901       2    A           1  2010-02-05      35034.06       False   \n",
       "1798      4    A           1  2010-02-05      38724.42       False   \n",
       "2699      6    A           1  2010-02-05      25619.00       False   \n",
       "3593     10    B           1  2010-02-05      40212.84       False   \n",
       "\n",
       "      temperature_c  fuel_price_usd_per_l  unemployment  \n",
       "0          5.727778              0.679451         8.106  \n",
       "901        4.550000              0.679451         8.324  \n",
       "1798       6.533333              0.686319         8.623  \n",
       "2699       4.683333              0.679451         7.259  \n",
       "3593      12.411111              0.782478         9.765  "
      ]
     },
     "execution_count": 36,
     "metadata": {},
     "output_type": "execute_result"
    }
   ],
   "source": [
    "# Yinelenen store/type kombinasyonlarını kaldıralım\n",
    "store_types = walmart.drop_duplicates(subset=[\"store\", \"type\"])\n",
    "\n",
    "store_types.head()"
   ]
  },
  {
   "cell_type": "code",
   "execution_count": 37,
   "id": "9ce8b580",
   "metadata": {
    "execution": {
     "iopub.execute_input": "2022-09-06T06:52:45.349565Z",
     "iopub.status.busy": "2022-09-06T06:52:45.348861Z",
     "iopub.status.idle": "2022-09-06T06:52:45.365415Z",
     "shell.execute_reply": "2022-09-06T06:52:45.364475Z"
    },
    "papermill": {
     "duration": 0.048764,
     "end_time": "2022-09-06T06:52:45.367505",
     "exception": false,
     "start_time": "2022-09-06T06:52:45.318741",
     "status": "completed"
    },
    "tags": []
   },
   "outputs": [
    {
     "data": {
      "text/html": [
       "<div>\n",
       "<style scoped>\n",
       "    .dataframe tbody tr th:only-of-type {\n",
       "        vertical-align: middle;\n",
       "    }\n",
       "\n",
       "    .dataframe tbody tr th {\n",
       "        vertical-align: top;\n",
       "    }\n",
       "\n",
       "    .dataframe thead th {\n",
       "        text-align: right;\n",
       "    }\n",
       "</style>\n",
       "<table border=\"1\" class=\"dataframe\">\n",
       "  <thead>\n",
       "    <tr style=\"text-align: right;\">\n",
       "      <th></th>\n",
       "      <th>store</th>\n",
       "      <th>type</th>\n",
       "      <th>department</th>\n",
       "      <th>date</th>\n",
       "      <th>weekly_sales</th>\n",
       "      <th>is_holiday</th>\n",
       "      <th>temperature_c</th>\n",
       "      <th>fuel_price_usd_per_l</th>\n",
       "      <th>unemployment</th>\n",
       "    </tr>\n",
       "  </thead>\n",
       "  <tbody>\n",
       "    <tr>\n",
       "      <th>0</th>\n",
       "      <td>1</td>\n",
       "      <td>A</td>\n",
       "      <td>1</td>\n",
       "      <td>2010-02-05</td>\n",
       "      <td>24924.50</td>\n",
       "      <td>False</td>\n",
       "      <td>5.727778</td>\n",
       "      <td>0.679451</td>\n",
       "      <td>8.106</td>\n",
       "    </tr>\n",
       "    <tr>\n",
       "      <th>12</th>\n",
       "      <td>1</td>\n",
       "      <td>A</td>\n",
       "      <td>2</td>\n",
       "      <td>2010-02-05</td>\n",
       "      <td>50605.27</td>\n",
       "      <td>False</td>\n",
       "      <td>5.727778</td>\n",
       "      <td>0.679451</td>\n",
       "      <td>8.106</td>\n",
       "    </tr>\n",
       "    <tr>\n",
       "      <th>24</th>\n",
       "      <td>1</td>\n",
       "      <td>A</td>\n",
       "      <td>3</td>\n",
       "      <td>2010-02-05</td>\n",
       "      <td>13740.12</td>\n",
       "      <td>False</td>\n",
       "      <td>5.727778</td>\n",
       "      <td>0.679451</td>\n",
       "      <td>8.106</td>\n",
       "    </tr>\n",
       "    <tr>\n",
       "      <th>36</th>\n",
       "      <td>1</td>\n",
       "      <td>A</td>\n",
       "      <td>4</td>\n",
       "      <td>2010-02-05</td>\n",
       "      <td>39954.04</td>\n",
       "      <td>False</td>\n",
       "      <td>5.727778</td>\n",
       "      <td>0.679451</td>\n",
       "      <td>8.106</td>\n",
       "    </tr>\n",
       "    <tr>\n",
       "      <th>48</th>\n",
       "      <td>1</td>\n",
       "      <td>A</td>\n",
       "      <td>5</td>\n",
       "      <td>2010-02-05</td>\n",
       "      <td>32229.38</td>\n",
       "      <td>False</td>\n",
       "      <td>5.727778</td>\n",
       "      <td>0.679451</td>\n",
       "      <td>8.106</td>\n",
       "    </tr>\n",
       "  </tbody>\n",
       "</table>\n",
       "</div>"
      ],
      "text/plain": [
       "    store type  department        date  weekly_sales  is_holiday  \\\n",
       "0       1    A           1  2010-02-05      24924.50       False   \n",
       "12      1    A           2  2010-02-05      50605.27       False   \n",
       "24      1    A           3  2010-02-05      13740.12       False   \n",
       "36      1    A           4  2010-02-05      39954.04       False   \n",
       "48      1    A           5  2010-02-05      32229.38       False   \n",
       "\n",
       "    temperature_c  fuel_price_usd_per_l  unemployment  \n",
       "0        5.727778              0.679451         8.106  \n",
       "12       5.727778              0.679451         8.106  \n",
       "24       5.727778              0.679451         8.106  \n",
       "36       5.727778              0.679451         8.106  \n",
       "48       5.727778              0.679451         8.106  "
      ]
     },
     "execution_count": 37,
     "metadata": {},
     "output_type": "execute_result"
    }
   ],
   "source": [
    "# Yinelenen store/department kombinasyonlarını kaldıralım\n",
    "store_depts = walmart.drop_duplicates(subset=[\"store\", \"department\"])\n",
    "\n",
    "store_depts.head()"
   ]
  },
  {
   "cell_type": "code",
   "execution_count": 38,
   "id": "68d4e535",
   "metadata": {
    "execution": {
     "iopub.execute_input": "2022-09-06T06:52:45.427142Z",
     "iopub.status.busy": "2022-09-06T06:52:45.426519Z",
     "iopub.status.idle": "2022-09-06T06:52:45.435205Z",
     "shell.execute_reply": "2022-09-06T06:52:45.433785Z"
    },
    "papermill": {
     "duration": 0.041692,
     "end_time": "2022-09-06T06:52:45.437663",
     "exception": false,
     "start_time": "2022-09-06T06:52:45.395971",
     "status": "completed"
    },
    "tags": []
   },
   "outputs": [
    {
     "name": "stdout",
     "output_type": "stream",
     "text": [
      "498     2010-09-10\n",
      "691     2011-11-25\n",
      "2315    2010-02-12\n",
      "6735    2012-09-07\n",
      "6810    2010-12-31\n",
      "6815    2012-02-10\n",
      "6820    2011-09-09\n",
      "Name: date, dtype: object\n"
     ]
    }
   ],
   "source": [
    "# is_holiday'in True olduğu satırları alalım ve yinelenen tarihleri kaldıralım\n",
    "holiday_dates = walmart[walmart[\"is_holiday\"]].drop_duplicates(subset=\"date\")\n",
    "\n",
    "print(holiday_dates[\"date\"])"
   ]
  },
  {
   "cell_type": "code",
   "execution_count": 39,
   "id": "0c18414a",
   "metadata": {
    "execution": {
     "iopub.execute_input": "2022-09-06T06:52:45.497276Z",
     "iopub.status.busy": "2022-09-06T06:52:45.496823Z",
     "iopub.status.idle": "2022-09-06T06:52:45.506549Z",
     "shell.execute_reply": "2022-09-06T06:52:45.505310Z"
    },
    "papermill": {
     "duration": 0.042576,
     "end_time": "2022-09-06T06:52:45.509105",
     "exception": false,
     "start_time": "2022-09-06T06:52:45.466529",
     "status": "completed"
    },
    "tags": []
   },
   "outputs": [],
   "source": [
    "# Yinelenen store/type kombinasyonlarını kaldıralım\n",
    "store_types = walmart.drop_duplicates(subset=[\"store\", \"type\"])\n",
    "\n",
    "# Yinelenen store/department kombinasyonlarını kaldıralım\n",
    "store_depts = walmart.drop_duplicates(subset=[\"store\", \"department\"])"
   ]
  },
  {
   "cell_type": "code",
   "execution_count": 40,
   "id": "a553164c",
   "metadata": {
    "execution": {
     "iopub.execute_input": "2022-09-06T06:52:45.570196Z",
     "iopub.status.busy": "2022-09-06T06:52:45.569785Z",
     "iopub.status.idle": "2022-09-06T06:52:45.577144Z",
     "shell.execute_reply": "2022-09-06T06:52:45.575974Z"
    },
    "papermill": {
     "duration": 0.041203,
     "end_time": "2022-09-06T06:52:45.579724",
     "exception": false,
     "start_time": "2022-09-06T06:52:45.538521",
     "status": "completed"
    },
    "tags": []
   },
   "outputs": [
    {
     "name": "stdout",
     "output_type": "stream",
     "text": [
      "A    11\n",
      "B     1\n",
      "Name: type, dtype: int64\n"
     ]
    }
   ],
   "source": [
    "# Her türden mağaza sayısını sayalım ve bunu \"store_counts\" adlı değişkene atalım\n",
    "store_counts = store_types[\"type\"].value_counts()\n",
    "\n",
    "print(store_counts)"
   ]
  },
  {
   "cell_type": "markdown",
   "id": "1f6c8588",
   "metadata": {
    "papermill": {
     "duration": 0.028509,
     "end_time": "2022-09-06T06:52:45.636885",
     "exception": false,
     "start_time": "2022-09-06T06:52:45.608376",
     "status": "completed"
    },
    "tags": []
   },
   "source": [
    "#### ***Normalizasyon***\n",
    "***Normalleştirme operasyonu nümerik olarak çok değişkenlik gösteren değerlerin daha dar bir alana sıkıştırılmasına denir.***\n",
    "\n",
    "---\n",
    "\n",
    "***1.    Asgari – Azami Normalleştirmesi (Min-Max Normalisation)***\n",
    "\n",
    "***Bu yöntemde, bir grup verinin içerisindeki en büyük ve en küçük değerler ele alınır. Diğer bütün veriler, bu değerlere göre normalleştirilir. Buradaki amaç en küçük değeri 0 ve en büyük değeri 1 olacak şekilde normalleştirmek ve diğer bütün verileri bu 0-1 aralığına yaymaktır.***"
   ]
  },
  {
   "cell_type": "code",
   "execution_count": 41,
   "id": "9d333b77",
   "metadata": {
    "execution": {
     "iopub.execute_input": "2022-09-06T06:52:45.696497Z",
     "iopub.status.busy": "2022-09-06T06:52:45.695768Z",
     "iopub.status.idle": "2022-09-06T06:52:45.703056Z",
     "shell.execute_reply": "2022-09-06T06:52:45.701827Z"
    },
    "papermill": {
     "duration": 0.039779,
     "end_time": "2022-09-06T06:52:45.705199",
     "exception": false,
     "start_time": "2022-09-06T06:52:45.665420",
     "status": "completed"
    },
    "tags": []
   },
   "outputs": [
    {
     "name": "stdout",
     "output_type": "stream",
     "text": [
      "A    0.916667\n",
      "B    0.083333\n",
      "Name: type, dtype: float64\n"
     ]
    }
   ],
   "source": [
    "# Get the proportion of stores of each type\n",
    "# Her türden mağaza oranını alalım ve bunu \"store_props\" adlı değişkene atalım\n",
    "store_props = store_types[\"type\"].value_counts(normalize=True)\n",
    "# normalize=True diyerek normalizasyon işlemini aktif ediyoruz ve değerler 0-1 aralığında oluşuyor böylece.\n",
    "\n",
    "print(store_props)"
   ]
  },
  {
   "cell_type": "code",
   "execution_count": 42,
   "id": "5d63a5fd",
   "metadata": {
    "execution": {
     "iopub.execute_input": "2022-09-06T06:52:45.764799Z",
     "iopub.status.busy": "2022-09-06T06:52:45.763687Z",
     "iopub.status.idle": "2022-09-06T06:52:45.772803Z",
     "shell.execute_reply": "2022-09-06T06:52:45.771405Z"
    },
    "papermill": {
     "duration": 0.041381,
     "end_time": "2022-09-06T06:52:45.775083",
     "exception": false,
     "start_time": "2022-09-06T06:52:45.733702",
     "status": "completed"
    },
    "tags": []
   },
   "outputs": [
    {
     "name": "stdout",
     "output_type": "stream",
     "text": [
      "1     12\n",
      "55    12\n",
      "72    12\n",
      "71    12\n",
      "67    12\n",
      "      ..\n",
      "37    10\n",
      "48     8\n",
      "50     6\n",
      "39     4\n",
      "43     2\n",
      "Name: department, Length: 80, dtype: int64\n"
     ]
    }
   ],
   "source": [
    "# Farklı departmanların sayısını sayalım ve bunları sıralayalım\n",
    "# value_counts(): değişkendeki değerlerin sayısını verir\n",
    "# sort=True : Sıralamayı aktif eder\n",
    "dept_counts_sorted = store_depts[\"department\"].value_counts(sort=True)\n",
    "\n",
    "print(dept_counts_sorted)"
   ]
  },
  {
   "cell_type": "code",
   "execution_count": 43,
   "id": "5f2d95aa",
   "metadata": {
    "execution": {
     "iopub.execute_input": "2022-09-06T06:52:45.834425Z",
     "iopub.status.busy": "2022-09-06T06:52:45.833502Z",
     "iopub.status.idle": "2022-09-06T06:52:45.841982Z",
     "shell.execute_reply": "2022-09-06T06:52:45.840736Z"
    },
    "papermill": {
     "duration": 0.040706,
     "end_time": "2022-09-06T06:52:45.844429",
     "exception": false,
     "start_time": "2022-09-06T06:52:45.803723",
     "status": "completed"
    },
    "tags": []
   },
   "outputs": [
    {
     "name": "stdout",
     "output_type": "stream",
     "text": [
      "1     0.012917\n",
      "55    0.012917\n",
      "72    0.012917\n",
      "71    0.012917\n",
      "67    0.012917\n",
      "        ...   \n",
      "37    0.010764\n",
      "48    0.008611\n",
      "50    0.006459\n",
      "39    0.004306\n",
      "43    0.002153\n",
      "Name: department, Length: 80, dtype: float64\n"
     ]
    }
   ],
   "source": [
    "# Farklı departmanların oranını (normalleştirilmiş halini) alalım ve bunları sıralayalım\n",
    "dept_props_sorted = store_depts[\"department\"].value_counts(sort=True, normalize=True)\n",
    "print(dept_props_sorted)"
   ]
  },
  {
   "cell_type": "markdown",
   "id": "d7942b0e",
   "metadata": {
    "papermill": {
     "duration": 0.028675,
     "end_time": "2022-09-06T06:52:45.903042",
     "exception": false,
     "start_time": "2022-09-06T06:52:45.874367",
     "status": "completed"
    },
    "tags": []
   },
   "source": [
    "> ***Yukarıdaki çıktıdan anladığımız kadarıyla 43 numaralı departman sadece iki mağazada var gibi görünüyor.***"
   ]
  },
  {
   "cell_type": "code",
   "execution_count": 44,
   "id": "671e87ec",
   "metadata": {
    "execution": {
     "iopub.execute_input": "2022-09-06T06:52:45.962172Z",
     "iopub.status.busy": "2022-09-06T06:52:45.961757Z",
     "iopub.status.idle": "2022-09-06T06:52:45.976332Z",
     "shell.execute_reply": "2022-09-06T06:52:45.975104Z"
    },
    "papermill": {
     "duration": 0.046492,
     "end_time": "2022-09-06T06:52:45.978482",
     "exception": false,
     "start_time": "2022-09-06T06:52:45.931990",
     "status": "completed"
    },
    "tags": []
   },
   "outputs": [
    {
     "name": "stdout",
     "output_type": "stream",
     "text": [
      "[0.9097747 0.0902253 0.       ]\n"
     ]
    }
   ],
   "source": [
    "# Toplam haftalık satışları hesaplayıp bunu \"sales_all\" adlı değişkende tutalım\n",
    "sales_all = walmart[\"weekly_sales\"].sum()\n",
    "\n",
    "# A tipi mağazalar için haftalık toplam satışları hesaplayıp bunu \"sales_A\" adlı alt küme değişkenimizde tutalım\n",
    "sales_A = walmart[walmart[\"type\"] == \"A\"][\"weekly_sales\"].sum()\n",
    "\n",
    "# “B” tipi ve “C” tipi mağazalar için de aynısını yapalım\n",
    "sales_B = walmart[walmart[\"type\"] == \"B\"][\"weekly_sales\"].sum()\n",
    "sales_C = walmart[walmart[\"type\"] == \"C\"][\"weekly_sales\"].sum()\n",
    "\n",
    "# A/B/C sonuçlarını bir liste halinde birleştirelim ve türe göre satış oranını elde etmek için sales_all'a bölelim.\n",
    "sales_propn_by_type = [sales_A, sales_B, sales_C] / sales_all\n",
    "\n",
    "print(sales_propn_by_type) # Mağaza tiplerine göre satış oranı"
   ]
  },
  {
   "cell_type": "markdown",
   "id": "7ba7bf9a",
   "metadata": {
    "papermill": {
     "duration": 0.028872,
     "end_time": "2022-09-06T06:52:46.036858",
     "exception": false,
     "start_time": "2022-09-06T06:52:46.007986",
     "status": "completed"
    },
    "tags": []
   },
   "source": [
    "### ***Değerlendirme Yapalım***\n",
    "> ***Evet yukarıda gördüğümüz çıktıya göre; satışların yaklaşık %91'i A' tipi mağazalarda, %9'u B tipi mağazalarda gerçekleşmiş ve C tipi mağazalar için herhangi bir satış kaydı yok. Şimdi bu hesaplamayı .groupby() kullanarak yapıp yapamayacağımıza bir bakalım.***"
   ]
  },
  {
   "cell_type": "code",
   "execution_count": 45,
   "id": "db8fab18",
   "metadata": {
    "execution": {
     "iopub.execute_input": "2022-09-06T06:52:46.096631Z",
     "iopub.status.busy": "2022-09-06T06:52:46.096181Z",
     "iopub.status.idle": "2022-09-06T06:52:46.106400Z",
     "shell.execute_reply": "2022-09-06T06:52:46.104976Z"
    },
    "papermill": {
     "duration": 0.04341,
     "end_time": "2022-09-06T06:52:46.109249",
     "exception": false,
     "start_time": "2022-09-06T06:52:46.065839",
     "status": "completed"
    },
    "tags": []
   },
   "outputs": [
    {
     "name": "stdout",
     "output_type": "stream",
     "text": [
      "type\n",
      "A    0.909775\n",
      "B    0.090225\n",
      "Name: weekly_sales, dtype: float64\n"
     ]
    }
   ],
   "source": [
    "# .groupby() ile mağaza tipine göre gruplandıralım ve buna göre toplam haftalık satışları hesaplayalım\n",
    "sales_by_type = walmart.groupby(\"type\")[\"weekly_sales\"].sum()\n",
    "\n",
    "# Her mağaza tipi için oran alalım ve bunu \"sales_propn_by_type\" adlı değişkende tutalım\n",
    "sales_propn_by_type = sales_by_type / sum(sales_by_type)\n",
    "\n",
    "print(sales_propn_by_type) # Gördüğünüz üzere groupby ile de aynı sonucu elde ettik"
   ]
  },
  {
   "cell_type": "code",
   "execution_count": 46,
   "id": "3fdaffe0",
   "metadata": {
    "execution": {
     "iopub.execute_input": "2022-09-06T06:52:46.170716Z",
     "iopub.status.busy": "2022-09-06T06:52:46.169515Z",
     "iopub.status.idle": "2022-09-06T06:52:46.181194Z",
     "shell.execute_reply": "2022-09-06T06:52:46.179707Z"
    },
    "papermill": {
     "duration": 0.044603,
     "end_time": "2022-09-06T06:52:46.183606",
     "exception": false,
     "start_time": "2022-09-06T06:52:46.139003",
     "status": "completed"
    },
    "tags": []
   },
   "outputs": [
    {
     "name": "stdout",
     "output_type": "stream",
     "text": [
      "type  is_holiday\n",
      "A     False         2.336927e+08\n",
      "      True          2.360181e+04\n",
      "B     False         2.317678e+07\n",
      "      True          1.621410e+03\n",
      "Name: weekly_sales, dtype: float64\n"
     ]
    }
   ],
   "source": [
    "# .groupby() ile mağaza tipine ve \"is_holiday\"e göre gruplandıralım ve buna göre toplam haftalık satışları hesaplayalım\n",
    "sales_by_type_is_holiday = walmart.groupby([\"type\", \"is_holiday\"])[\"weekly_sales\"].sum()\n",
    "print(sales_by_type_is_holiday)"
   ]
  },
  {
   "cell_type": "code",
   "execution_count": 47,
   "id": "36eba3d1",
   "metadata": {
    "execution": {
     "iopub.execute_input": "2022-09-06T06:52:46.245071Z",
     "iopub.status.busy": "2022-09-06T06:52:46.244666Z",
     "iopub.status.idle": "2022-09-06T06:52:46.260644Z",
     "shell.execute_reply": "2022-09-06T06:52:46.259500Z"
    },
    "papermill": {
     "duration": 0.049929,
     "end_time": "2022-09-06T06:52:46.263539",
     "exception": false,
     "start_time": "2022-09-06T06:52:46.213610",
     "status": "completed"
    },
    "tags": []
   },
   "outputs": [
    {
     "name": "stdout",
     "output_type": "stream",
     "text": [
      "        amin       amax          mean    median\n",
      "type                                           \n",
      "A    -1098.0  293966.05  23674.667242  11943.92\n",
      "B     -798.0  232558.51  25696.678370  13336.08\n"
     ]
    }
   ],
   "source": [
    "# Her mağaza türü için haftalık satışların min, max, ortalama ve medyanını bulalım \n",
    "# ve bunları \"sales_stats\" adlı değişkende tutalım\n",
    "sales_stats = walmart.groupby(\"type\")[\"weekly_sales\"].agg([np.min, np.max, np.mean, np.median])\n",
    "\n",
    "print(sales_stats)"
   ]
  },
  {
   "cell_type": "markdown",
   "id": "1619c4b1",
   "metadata": {
    "papermill": {
     "duration": 0.028848,
     "end_time": "2022-09-06T06:52:46.323039",
     "exception": false,
     "start_time": "2022-09-06T06:52:46.294191",
     "status": "completed"
    },
    "tags": []
   },
   "source": [
    "> ***Müthiş hesaplama! Bazı mağazaların satışlardan daha fazla getirisi olduğundan, minimum haftalık satışların negatif olduğuna dikkat edin.***"
   ]
  },
  {
   "cell_type": "code",
   "execution_count": 48,
   "id": "9d618b7a",
   "metadata": {
    "execution": {
     "iopub.execute_input": "2022-09-06T06:52:46.382926Z",
     "iopub.status.busy": "2022-09-06T06:52:46.382460Z",
     "iopub.status.idle": "2022-09-06T06:52:46.406160Z",
     "shell.execute_reply": "2022-09-06T06:52:46.404696Z"
    },
    "papermill": {
     "duration": 0.057435,
     "end_time": "2022-09-06T06:52:46.409374",
     "exception": false,
     "start_time": "2022-09-06T06:52:46.351939",
     "status": "completed"
    },
    "tags": []
   },
   "outputs": [
    {
     "name": "stdout",
     "output_type": "stream",
     "text": [
      "     unemployment                         fuel_price_usd_per_l            \\\n",
      "             amin   amax      mean median                 amin      amax   \n",
      "type                                                                       \n",
      "A           3.879  8.992  7.972611  8.067             0.664129  1.107410   \n",
      "B           7.170  9.765  9.279323  9.199             0.760023  1.107674   \n",
      "\n",
      "                          \n",
      "          mean    median  \n",
      "type                      \n",
      "A     0.744619  0.735455  \n",
      "B     0.805858  0.803348  \n"
     ]
    }
   ],
   "source": [
    "# Her mağaza türü için işsizlik ve litre başına benzin fiyatlarının min, max, ortalama ve medyanını bulalım \n",
    "# ve bunları \"unemp_fuel_stats\" adlı değişkende tutalım\n",
    "unemp_fuel_stats = walmart.groupby(\"type\")[[\"unemployment\", \"fuel_price_usd_per_l\"]].agg([np.min, np.max, np.mean, np.median])\n",
    "\n",
    "print(unemp_fuel_stats)"
   ]
  },
  {
   "cell_type": "markdown",
   "id": "1faae4f8",
   "metadata": {
    "papermill": {
     "duration": 0.028724,
     "end_time": "2022-09-06T06:52:46.468430",
     "exception": false,
     "start_time": "2022-09-06T06:52:46.439706",
     "status": "completed"
    },
    "tags": []
   },
   "source": [
    "#### ***Pivot tables***\n",
    "- Pivot Table (Özet Tablosu), bir veri listesinde yer alan kayıtlarımızı çözümlemek, özetlemek ve raporlamak için oldukça pratik bir araçtır. Hiçbir şey belirtmezsek girdiğimiz verinin ortalamasını alır.\n",
    "\n",
    "> ***Bu alıştırmada, .groupby() kullanarak yaptığınız hesaplamaları tekrarlamak için .pivot_table() kullanarak hesaplamalar yapacağız. .pivot_table() metodu, .groupby() metoduna yalnızca bir alternatiftir.***"
   ]
  },
  {
   "cell_type": "code",
   "execution_count": 49,
   "id": "ebe86b1e",
   "metadata": {
    "execution": {
     "iopub.execute_input": "2022-09-06T06:52:46.529480Z",
     "iopub.status.busy": "2022-09-06T06:52:46.529079Z",
     "iopub.status.idle": "2022-09-06T06:52:46.542846Z",
     "shell.execute_reply": "2022-09-06T06:52:46.541486Z"
    },
    "papermill": {
     "duration": 0.047364,
     "end_time": "2022-09-06T06:52:46.544931",
     "exception": false,
     "start_time": "2022-09-06T06:52:46.497567",
     "status": "completed"
    },
    "tags": []
   },
   "outputs": [
    {
     "name": "stdout",
     "output_type": "stream",
     "text": [
      "      weekly_sales\n",
      "type              \n",
      "A     23674.667242\n",
      "B     25696.678370\n"
     ]
    }
   ],
   "source": [
    "# Her mağaza türünde ortalama haftalık_satış için pivot table oluşturalım\n",
    "mean_sales_by_type = walmart.pivot_table(values=\"weekly_sales\", index=\"type\")\n",
    "\n",
    "print(mean_sales_by_type)"
   ]
  },
  {
   "cell_type": "markdown",
   "id": "f192bf5b",
   "metadata": {
    "papermill": {
     "duration": 0.02852,
     "end_time": "2022-09-06T06:52:46.602343",
     "exception": false,
     "start_time": "2022-09-06T06:52:46.573823",
     "status": "completed"
    },
    "tags": []
   },
   "source": [
    ".pivot_table() kullanarak türe göre haftalık_satışların ortalamasını ve medyanını (NumPy işlevlerini kullanarak) alın ve ortalama_med_sales_by_type olarak saklayın."
   ]
  },
  {
   "cell_type": "code",
   "execution_count": 50,
   "id": "ef30f9bb",
   "metadata": {
    "execution": {
     "iopub.execute_input": "2022-09-06T06:52:46.663015Z",
     "iopub.status.busy": "2022-09-06T06:52:46.662334Z",
     "iopub.status.idle": "2022-09-06T06:52:46.682646Z",
     "shell.execute_reply": "2022-09-06T06:52:46.681623Z"
    },
    "papermill": {
     "duration": 0.053816,
     "end_time": "2022-09-06T06:52:46.685026",
     "exception": false,
     "start_time": "2022-09-06T06:52:46.631210",
     "status": "completed"
    },
    "tags": []
   },
   "outputs": [
    {
     "name": "stdout",
     "output_type": "stream",
     "text": [
      "              mean       median\n",
      "      weekly_sales weekly_sales\n",
      "type                           \n",
      "A     23674.667242     11943.92\n",
      "B     25696.678370     13336.08\n"
     ]
    }
   ],
   "source": [
    "# aggfunc anahtarı ile ortalama ve medyanını hesaplamak istediğimizi belirttiğimiz için pivot table onları bize verecek.\n",
    "# Eğer aggfunc anahtarını kullanmasaydık pivot table bize yine ortalamasını verecekti verinin.\n",
    "mean_med_sales_by_type = walmart.pivot_table(\"weekly_sales\", \"type\", aggfunc = [np.mean, np.median])\n",
    "\n",
    "print(mean_med_sales_by_type)"
   ]
  },
  {
   "cell_type": "code",
   "execution_count": 51,
   "id": "4b70ef8e",
   "metadata": {
    "execution": {
     "iopub.execute_input": "2022-09-06T06:52:46.745759Z",
     "iopub.status.busy": "2022-09-06T06:52:46.745364Z",
     "iopub.status.idle": "2022-09-06T06:52:46.765140Z",
     "shell.execute_reply": "2022-09-06T06:52:46.763481Z"
    },
    "papermill": {
     "duration": 0.053731,
     "end_time": "2022-09-06T06:52:46.768239",
     "exception": false,
     "start_time": "2022-09-06T06:52:46.714508",
     "status": "completed"
    },
    "tags": []
   },
   "outputs": [
    {
     "name": "stdout",
     "output_type": "stream",
     "text": [
      "is_holiday         False       True\n",
      "type                               \n",
      "A           23768.583523  590.04525\n",
      "B           25751.980533  810.70500\n"
     ]
    }
   ],
   "source": [
    "# Her mağaza türüne ve tatile göre ortalama haftalık_satış için pivot table oluşturalım\n",
    "mean_sales_by_type_holiday = walmart.pivot_table(\"weekly_sales\", \"type\", \"is_holiday\")\n",
    "\n",
    "print(mean_sales_by_type_holiday)"
   ]
  },
  {
   "cell_type": "code",
   "execution_count": 52,
   "id": "11cd2fb4",
   "metadata": {
    "execution": {
     "iopub.execute_input": "2022-09-06T06:52:46.829663Z",
     "iopub.status.busy": "2022-09-06T06:52:46.829014Z",
     "iopub.status.idle": "2022-09-06T06:52:46.848794Z",
     "shell.execute_reply": "2022-09-06T06:52:46.847474Z"
    },
    "papermill": {
     "duration": 0.054237,
     "end_time": "2022-09-06T06:52:46.852406",
     "exception": false,
     "start_time": "2022-09-06T06:52:46.798169",
     "status": "completed"
    },
    "tags": []
   },
   "outputs": [
    {
     "name": "stdout",
     "output_type": "stream",
     "text": [
      "type                    A              B\n",
      "department                              \n",
      "1            30961.725379   44050.626667\n",
      "2            67600.158788  112958.526667\n",
      "3            17160.002955   30580.655000\n",
      "4            44285.399091   51219.654167\n",
      "5            34821.011364   63236.875000\n",
      "...                   ...            ...\n",
      "95          123933.787121   77082.102500\n",
      "96           21367.042857    9528.538333\n",
      "97           28471.266970    5828.873333\n",
      "98           12875.423182     217.428333\n",
      "99             379.123659       0.000000\n",
      "\n",
      "[80 rows x 2 columns]\n"
     ]
    }
   ],
   "source": [
    "# Departmana ve türe göre ortalama haftalık_satışları yazdıralım; eksik değerleri de 0 ile dolduralım\n",
    "print(walmart.pivot_table(values=\"weekly_sales\", index=\"department\", columns=\"type\", fill_value=0))"
   ]
  },
  {
   "cell_type": "code",
   "execution_count": 53,
   "id": "f1a755e3",
   "metadata": {
    "execution": {
     "iopub.execute_input": "2022-09-06T06:52:46.914677Z",
     "iopub.status.busy": "2022-09-06T06:52:46.913390Z",
     "iopub.status.idle": "2022-09-06T06:52:46.954522Z",
     "shell.execute_reply": "2022-09-06T06:52:46.953014Z"
    },
    "papermill": {
     "duration": 0.075452,
     "end_time": "2022-09-06T06:52:46.958083",
     "exception": false,
     "start_time": "2022-09-06T06:52:46.882631",
     "status": "completed"
    },
    "tags": []
   },
   "outputs": [
    {
     "name": "stdout",
     "output_type": "stream",
     "text": [
      "type                   A              B           All\n",
      "department                                           \n",
      "1           30961.725379   44050.626667  32052.467153\n",
      "2           67600.158788  112958.526667  71380.022778\n",
      "3           17160.002955   30580.655000  18278.390625\n",
      "4           44285.399091   51219.654167  44863.253681\n",
      "5           34821.011364   63236.875000  37189.000000\n",
      "...                  ...            ...           ...\n",
      "96          21367.042857    9528.538333  20337.607681\n",
      "97          28471.266970    5828.873333  26584.400833\n",
      "98          12875.423182     217.428333  11820.590278\n",
      "99            379.123659       0.000000    379.123659\n",
      "All         23674.667242   25696.678370  23843.950149\n",
      "\n",
      "[81 rows x 3 columns]\n"
     ]
    }
   ],
   "source": [
    "# Departmana ve türe göre ortalama haftalık satışları yazdıralım; eksik değerleri 0'larla dolduralım; \n",
    "# tüm satırları ve sütunları da toplayalım\n",
    "print(walmart.pivot_table(values=\"weekly_sales\", index=\"department\", columns=\"type\", fill_value=0, margins=True))\n",
    "\n",
    "# margins=True : Tüm satırları ve sütunları toplar, False yaparsan çalışmaz"
   ]
  },
  {
   "cell_type": "code",
   "execution_count": 54,
   "id": "8f5f9505",
   "metadata": {
    "execution": {
     "iopub.execute_input": "2022-09-06T06:52:47.052614Z",
     "iopub.status.busy": "2022-09-06T06:52:47.052206Z",
     "iopub.status.idle": "2022-09-06T06:52:47.065466Z",
     "shell.execute_reply": "2022-09-06T06:52:47.064667Z"
    },
    "papermill": {
     "duration": 0.079292,
     "end_time": "2022-09-06T06:52:47.067651",
     "exception": false,
     "start_time": "2022-09-06T06:52:46.988359",
     "status": "completed"
    },
    "tags": []
   },
   "outputs": [
    {
     "data": {
      "text/html": [
       "<div>\n",
       "<style scoped>\n",
       "    .dataframe tbody tr th:only-of-type {\n",
       "        vertical-align: middle;\n",
       "    }\n",
       "\n",
       "    .dataframe tbody tr th {\n",
       "        vertical-align: top;\n",
       "    }\n",
       "\n",
       "    .dataframe thead th {\n",
       "        text-align: right;\n",
       "    }\n",
       "</style>\n",
       "<table border=\"1\" class=\"dataframe\">\n",
       "  <thead>\n",
       "    <tr style=\"text-align: right;\">\n",
       "      <th></th>\n",
       "      <th>weekly_sales</th>\n",
       "    </tr>\n",
       "    <tr>\n",
       "      <th>department</th>\n",
       "      <th></th>\n",
       "    </tr>\n",
       "  </thead>\n",
       "  <tbody>\n",
       "    <tr>\n",
       "      <th>92</th>\n",
       "      <td>293966.05</td>\n",
       "    </tr>\n",
       "    <tr>\n",
       "      <th>72</th>\n",
       "      <td>232558.51</td>\n",
       "    </tr>\n",
       "    <tr>\n",
       "      <th>95</th>\n",
       "      <td>213042.66</td>\n",
       "    </tr>\n",
       "    <tr>\n",
       "      <th>90</th>\n",
       "      <td>166263.81</td>\n",
       "    </tr>\n",
       "    <tr>\n",
       "      <th>91</th>\n",
       "      <td>162497.78</td>\n",
       "    </tr>\n",
       "  </tbody>\n",
       "</table>\n",
       "</div>"
      ],
      "text/plain": [
       "            weekly_sales\n",
       "department              \n",
       "92             293966.05\n",
       "72             232558.51\n",
       "95             213042.66\n",
       "90             166263.81\n",
       "91             162497.78"
      ]
     },
     "execution_count": 54,
     "metadata": {},
     "output_type": "execute_result"
    }
   ],
   "source": [
    "# Her departman için en yüksek haftalık satışı yazdıralım\n",
    "department_sales = walmart.groupby(\"department\")[[\"weekly_sales\"]].max()\n",
    "\n",
    "#sort_values ile sıralayalım bunları. (ascending=False: en yüksekten en düşüğe sıralar)\n",
    "best_departments = department_sales.sort_values(by=\"weekly_sales\", ascending=False) \n",
    "best_departments.head()"
   ]
  },
  {
   "cell_type": "markdown",
   "id": "e2cf098b",
   "metadata": {
    "papermill": {
     "duration": 0.029204,
     "end_time": "2022-09-06T06:52:47.126275",
     "exception": false,
     "start_time": "2022-09-06T06:52:47.097071",
     "status": "completed"
    },
    "tags": []
   },
   "source": [
    "---\n",
    "#### *Evet üçüncü alt başlığımız olan \"Slicing and Indexing DataFrames\" ile devam edelim. Bu konu için \"temperatures\" adlı veri setini kullanacağız.*\n",
    "---"
   ]
  },
  {
   "cell_type": "code",
   "execution_count": 55,
   "id": "700b8652",
   "metadata": {
    "execution": {
     "iopub.execute_input": "2022-09-06T06:52:47.188990Z",
     "iopub.status.busy": "2022-09-06T06:52:47.187925Z",
     "iopub.status.idle": "2022-09-06T06:52:47.206053Z",
     "shell.execute_reply": "2022-09-06T06:52:47.205108Z"
    },
    "papermill": {
     "duration": 0.05173,
     "end_time": "2022-09-06T06:52:47.208772",
     "exception": false,
     "start_time": "2022-09-06T06:52:47.157042",
     "status": "completed"
    },
    "tags": []
   },
   "outputs": [
    {
     "name": "stdout",
     "output_type": "stream",
     "text": [
      "       Unnamed: 0       date     city        country  avg_temp_c\n",
      "0               0 2000-01-01  Abidjan  Côte D'Ivoire      27.293\n",
      "1               1 2000-02-01  Abidjan  Côte D'Ivoire      27.685\n",
      "2               2 2000-03-01  Abidjan  Côte D'Ivoire      29.061\n",
      "3               3 2000-04-01  Abidjan  Côte D'Ivoire      28.162\n",
      "4               4 2000-05-01  Abidjan  Côte D'Ivoire      27.547\n",
      "...           ...        ...      ...            ...         ...\n",
      "16495       16495 2013-05-01     Xian          China      18.979\n",
      "16496       16496 2013-06-01     Xian          China      23.522\n",
      "16497       16497 2013-07-01     Xian          China      25.251\n",
      "16498       16498 2013-08-01     Xian          China      24.528\n",
      "16499       16499 2013-09-01     Xian          China         NaN\n",
      "\n",
      "[16500 rows x 5 columns]\n"
     ]
    }
   ],
   "source": [
    "temperatures['date'] =  pd.to_datetime(temperatures['date'], infer_datetime_format=True)\n",
    "\n",
    "print(temperatures)"
   ]
  },
  {
   "cell_type": "code",
   "execution_count": 56,
   "id": "a68d1f3f",
   "metadata": {
    "execution": {
     "iopub.execute_input": "2022-09-06T06:52:47.271588Z",
     "iopub.status.busy": "2022-09-06T06:52:47.270543Z",
     "iopub.status.idle": "2022-09-06T06:52:47.286008Z",
     "shell.execute_reply": "2022-09-06T06:52:47.285190Z"
    },
    "papermill": {
     "duration": 0.049944,
     "end_time": "2022-09-06T06:52:47.288232",
     "exception": false,
     "start_time": "2022-09-06T06:52:47.238288",
     "status": "completed"
    },
    "tags": []
   },
   "outputs": [
    {
     "data": {
      "text/html": [
       "<div>\n",
       "<style scoped>\n",
       "    .dataframe tbody tr th:only-of-type {\n",
       "        vertical-align: middle;\n",
       "    }\n",
       "\n",
       "    .dataframe tbody tr th {\n",
       "        vertical-align: top;\n",
       "    }\n",
       "\n",
       "    .dataframe thead th {\n",
       "        text-align: right;\n",
       "    }\n",
       "</style>\n",
       "<table border=\"1\" class=\"dataframe\">\n",
       "  <thead>\n",
       "    <tr style=\"text-align: right;\">\n",
       "      <th></th>\n",
       "      <th>date</th>\n",
       "      <th>city</th>\n",
       "      <th>country</th>\n",
       "      <th>avg_temp_c</th>\n",
       "    </tr>\n",
       "  </thead>\n",
       "  <tbody>\n",
       "    <tr>\n",
       "      <th>0</th>\n",
       "      <td>2000-01-01</td>\n",
       "      <td>Abidjan</td>\n",
       "      <td>Côte D'Ivoire</td>\n",
       "      <td>27.293</td>\n",
       "    </tr>\n",
       "    <tr>\n",
       "      <th>1</th>\n",
       "      <td>2000-02-01</td>\n",
       "      <td>Abidjan</td>\n",
       "      <td>Côte D'Ivoire</td>\n",
       "      <td>27.685</td>\n",
       "    </tr>\n",
       "    <tr>\n",
       "      <th>2</th>\n",
       "      <td>2000-03-01</td>\n",
       "      <td>Abidjan</td>\n",
       "      <td>Côte D'Ivoire</td>\n",
       "      <td>29.061</td>\n",
       "    </tr>\n",
       "    <tr>\n",
       "      <th>3</th>\n",
       "      <td>2000-04-01</td>\n",
       "      <td>Abidjan</td>\n",
       "      <td>Côte D'Ivoire</td>\n",
       "      <td>28.162</td>\n",
       "    </tr>\n",
       "    <tr>\n",
       "      <th>4</th>\n",
       "      <td>2000-05-01</td>\n",
       "      <td>Abidjan</td>\n",
       "      <td>Côte D'Ivoire</td>\n",
       "      <td>27.547</td>\n",
       "    </tr>\n",
       "    <tr>\n",
       "      <th>5</th>\n",
       "      <td>2000-06-01</td>\n",
       "      <td>Abidjan</td>\n",
       "      <td>Côte D'Ivoire</td>\n",
       "      <td>25.812</td>\n",
       "    </tr>\n",
       "    <tr>\n",
       "      <th>6</th>\n",
       "      <td>2000-07-01</td>\n",
       "      <td>Abidjan</td>\n",
       "      <td>Côte D'Ivoire</td>\n",
       "      <td>24.870</td>\n",
       "    </tr>\n",
       "    <tr>\n",
       "      <th>7</th>\n",
       "      <td>2000-08-01</td>\n",
       "      <td>Abidjan</td>\n",
       "      <td>Côte D'Ivoire</td>\n",
       "      <td>24.884</td>\n",
       "    </tr>\n",
       "    <tr>\n",
       "      <th>8</th>\n",
       "      <td>2000-09-01</td>\n",
       "      <td>Abidjan</td>\n",
       "      <td>Côte D'Ivoire</td>\n",
       "      <td>25.405</td>\n",
       "    </tr>\n",
       "    <tr>\n",
       "      <th>9</th>\n",
       "      <td>2000-10-01</td>\n",
       "      <td>Abidjan</td>\n",
       "      <td>Côte D'Ivoire</td>\n",
       "      <td>26.074</td>\n",
       "    </tr>\n",
       "    <tr>\n",
       "      <th>10</th>\n",
       "      <td>2000-11-01</td>\n",
       "      <td>Abidjan</td>\n",
       "      <td>Côte D'Ivoire</td>\n",
       "      <td>27.315</td>\n",
       "    </tr>\n",
       "    <tr>\n",
       "      <th>11</th>\n",
       "      <td>2000-12-01</td>\n",
       "      <td>Abidjan</td>\n",
       "      <td>Côte D'Ivoire</td>\n",
       "      <td>26.929</td>\n",
       "    </tr>\n",
       "  </tbody>\n",
       "</table>\n",
       "</div>"
      ],
      "text/plain": [
       "         date     city        country  avg_temp_c\n",
       "0  2000-01-01  Abidjan  Côte D'Ivoire      27.293\n",
       "1  2000-02-01  Abidjan  Côte D'Ivoire      27.685\n",
       "2  2000-03-01  Abidjan  Côte D'Ivoire      29.061\n",
       "3  2000-04-01  Abidjan  Côte D'Ivoire      28.162\n",
       "4  2000-05-01  Abidjan  Côte D'Ivoire      27.547\n",
       "5  2000-06-01  Abidjan  Côte D'Ivoire      25.812\n",
       "6  2000-07-01  Abidjan  Côte D'Ivoire      24.870\n",
       "7  2000-08-01  Abidjan  Côte D'Ivoire      24.884\n",
       "8  2000-09-01  Abidjan  Côte D'Ivoire      25.405\n",
       "9  2000-10-01  Abidjan  Côte D'Ivoire      26.074\n",
       "10 2000-11-01  Abidjan  Côte D'Ivoire      27.315\n",
       "11 2000-12-01  Abidjan  Côte D'Ivoire      26.929"
      ]
     },
     "execution_count": 56,
     "metadata": {},
     "output_type": "execute_result"
    }
   ],
   "source": [
    "# \"Unnamed: 0\" adlı sütunu kaldıralım, o işimize yaramayacak gereksiz bir sütun\n",
    "temperatures.drop('Unnamed: 0', inplace=True, axis=1)\n",
    "\n",
    "# ilk 12 satırı getiriyoruz, parantez içine hiçbir şey yazmazsak ilk 5 satırı getirir\n",
    "temperatures.head(12) "
   ]
  },
  {
   "cell_type": "code",
   "execution_count": 57,
   "id": "037cf8a0",
   "metadata": {
    "execution": {
     "iopub.execute_input": "2022-09-06T06:52:47.349973Z",
     "iopub.status.busy": "2022-09-06T06:52:47.348975Z",
     "iopub.status.idle": "2022-09-06T06:52:47.366524Z",
     "shell.execute_reply": "2022-09-06T06:52:47.365253Z"
    },
    "papermill": {
     "duration": 0.050951,
     "end_time": "2022-09-06T06:52:47.368971",
     "exception": false,
     "start_time": "2022-09-06T06:52:47.318020",
     "status": "completed"
    },
    "tags": []
   },
   "outputs": [
    {
     "data": {
      "text/html": [
       "<div>\n",
       "<style scoped>\n",
       "    .dataframe tbody tr th:only-of-type {\n",
       "        vertical-align: middle;\n",
       "    }\n",
       "\n",
       "    .dataframe tbody tr th {\n",
       "        vertical-align: top;\n",
       "    }\n",
       "\n",
       "    .dataframe thead th {\n",
       "        text-align: right;\n",
       "    }\n",
       "</style>\n",
       "<table border=\"1\" class=\"dataframe\">\n",
       "  <thead>\n",
       "    <tr style=\"text-align: right;\">\n",
       "      <th></th>\n",
       "      <th>date</th>\n",
       "      <th>country</th>\n",
       "      <th>avg_temp_c</th>\n",
       "    </tr>\n",
       "    <tr>\n",
       "      <th>city</th>\n",
       "      <th></th>\n",
       "      <th></th>\n",
       "      <th></th>\n",
       "    </tr>\n",
       "  </thead>\n",
       "  <tbody>\n",
       "    <tr>\n",
       "      <th>Abidjan</th>\n",
       "      <td>2000-01-01</td>\n",
       "      <td>Côte D'Ivoire</td>\n",
       "      <td>27.293</td>\n",
       "    </tr>\n",
       "    <tr>\n",
       "      <th>Abidjan</th>\n",
       "      <td>2000-02-01</td>\n",
       "      <td>Côte D'Ivoire</td>\n",
       "      <td>27.685</td>\n",
       "    </tr>\n",
       "    <tr>\n",
       "      <th>Abidjan</th>\n",
       "      <td>2000-03-01</td>\n",
       "      <td>Côte D'Ivoire</td>\n",
       "      <td>29.061</td>\n",
       "    </tr>\n",
       "    <tr>\n",
       "      <th>Abidjan</th>\n",
       "      <td>2000-04-01</td>\n",
       "      <td>Côte D'Ivoire</td>\n",
       "      <td>28.162</td>\n",
       "    </tr>\n",
       "    <tr>\n",
       "      <th>Abidjan</th>\n",
       "      <td>2000-05-01</td>\n",
       "      <td>Côte D'Ivoire</td>\n",
       "      <td>27.547</td>\n",
       "    </tr>\n",
       "    <tr>\n",
       "      <th>...</th>\n",
       "      <td>...</td>\n",
       "      <td>...</td>\n",
       "      <td>...</td>\n",
       "    </tr>\n",
       "    <tr>\n",
       "      <th>Xian</th>\n",
       "      <td>2013-05-01</td>\n",
       "      <td>China</td>\n",
       "      <td>18.979</td>\n",
       "    </tr>\n",
       "    <tr>\n",
       "      <th>Xian</th>\n",
       "      <td>2013-06-01</td>\n",
       "      <td>China</td>\n",
       "      <td>23.522</td>\n",
       "    </tr>\n",
       "    <tr>\n",
       "      <th>Xian</th>\n",
       "      <td>2013-07-01</td>\n",
       "      <td>China</td>\n",
       "      <td>25.251</td>\n",
       "    </tr>\n",
       "    <tr>\n",
       "      <th>Xian</th>\n",
       "      <td>2013-08-01</td>\n",
       "      <td>China</td>\n",
       "      <td>24.528</td>\n",
       "    </tr>\n",
       "    <tr>\n",
       "      <th>Xian</th>\n",
       "      <td>2013-09-01</td>\n",
       "      <td>China</td>\n",
       "      <td>NaN</td>\n",
       "    </tr>\n",
       "  </tbody>\n",
       "</table>\n",
       "<p>16500 rows × 3 columns</p>\n",
       "</div>"
      ],
      "text/plain": [
       "              date        country  avg_temp_c\n",
       "city                                         \n",
       "Abidjan 2000-01-01  Côte D'Ivoire      27.293\n",
       "Abidjan 2000-02-01  Côte D'Ivoire      27.685\n",
       "Abidjan 2000-03-01  Côte D'Ivoire      29.061\n",
       "Abidjan 2000-04-01  Côte D'Ivoire      28.162\n",
       "Abidjan 2000-05-01  Côte D'Ivoire      27.547\n",
       "...            ...            ...         ...\n",
       "Xian    2013-05-01          China      18.979\n",
       "Xian    2013-06-01          China      23.522\n",
       "Xian    2013-07-01          China      25.251\n",
       "Xian    2013-08-01          China      24.528\n",
       "Xian    2013-09-01          China         NaN\n",
       "\n",
       "[16500 rows x 3 columns]"
      ]
     },
     "execution_count": 57,
     "metadata": {},
     "output_type": "execute_result"
    }
   ],
   "source": [
    "# \"city\" sütun değişkenini yeni index sütunumuz olarak ayarlayalım\n",
    "temperatures_ind = temperatures.set_index(\"city\")\n",
    "\n",
    "temperatures_ind"
   ]
  },
  {
   "cell_type": "code",
   "execution_count": 58,
   "id": "324c8453",
   "metadata": {
    "execution": {
     "iopub.execute_input": "2022-09-06T06:52:47.432062Z",
     "iopub.status.busy": "2022-09-06T06:52:47.431073Z",
     "iopub.status.idle": "2022-09-06T06:52:47.447339Z",
     "shell.execute_reply": "2022-09-06T06:52:47.446535Z"
    },
    "papermill": {
     "duration": 0.050035,
     "end_time": "2022-09-06T06:52:47.449484",
     "exception": false,
     "start_time": "2022-09-06T06:52:47.399449",
     "status": "completed"
    },
    "tags": []
   },
   "outputs": [
    {
     "data": {
      "text/html": [
       "<div>\n",
       "<style scoped>\n",
       "    .dataframe tbody tr th:only-of-type {\n",
       "        vertical-align: middle;\n",
       "    }\n",
       "\n",
       "    .dataframe tbody tr th {\n",
       "        vertical-align: top;\n",
       "    }\n",
       "\n",
       "    .dataframe thead th {\n",
       "        text-align: right;\n",
       "    }\n",
       "</style>\n",
       "<table border=\"1\" class=\"dataframe\">\n",
       "  <thead>\n",
       "    <tr style=\"text-align: right;\">\n",
       "      <th></th>\n",
       "      <th>city</th>\n",
       "      <th>date</th>\n",
       "      <th>country</th>\n",
       "      <th>avg_temp_c</th>\n",
       "    </tr>\n",
       "  </thead>\n",
       "  <tbody>\n",
       "    <tr>\n",
       "      <th>0</th>\n",
       "      <td>Abidjan</td>\n",
       "      <td>2000-01-01</td>\n",
       "      <td>Côte D'Ivoire</td>\n",
       "      <td>27.293</td>\n",
       "    </tr>\n",
       "    <tr>\n",
       "      <th>1</th>\n",
       "      <td>Abidjan</td>\n",
       "      <td>2000-02-01</td>\n",
       "      <td>Côte D'Ivoire</td>\n",
       "      <td>27.685</td>\n",
       "    </tr>\n",
       "    <tr>\n",
       "      <th>2</th>\n",
       "      <td>Abidjan</td>\n",
       "      <td>2000-03-01</td>\n",
       "      <td>Côte D'Ivoire</td>\n",
       "      <td>29.061</td>\n",
       "    </tr>\n",
       "    <tr>\n",
       "      <th>3</th>\n",
       "      <td>Abidjan</td>\n",
       "      <td>2000-04-01</td>\n",
       "      <td>Côte D'Ivoire</td>\n",
       "      <td>28.162</td>\n",
       "    </tr>\n",
       "    <tr>\n",
       "      <th>4</th>\n",
       "      <td>Abidjan</td>\n",
       "      <td>2000-05-01</td>\n",
       "      <td>Côte D'Ivoire</td>\n",
       "      <td>27.547</td>\n",
       "    </tr>\n",
       "    <tr>\n",
       "      <th>...</th>\n",
       "      <td>...</td>\n",
       "      <td>...</td>\n",
       "      <td>...</td>\n",
       "      <td>...</td>\n",
       "    </tr>\n",
       "    <tr>\n",
       "      <th>16495</th>\n",
       "      <td>Xian</td>\n",
       "      <td>2013-05-01</td>\n",
       "      <td>China</td>\n",
       "      <td>18.979</td>\n",
       "    </tr>\n",
       "    <tr>\n",
       "      <th>16496</th>\n",
       "      <td>Xian</td>\n",
       "      <td>2013-06-01</td>\n",
       "      <td>China</td>\n",
       "      <td>23.522</td>\n",
       "    </tr>\n",
       "    <tr>\n",
       "      <th>16497</th>\n",
       "      <td>Xian</td>\n",
       "      <td>2013-07-01</td>\n",
       "      <td>China</td>\n",
       "      <td>25.251</td>\n",
       "    </tr>\n",
       "    <tr>\n",
       "      <th>16498</th>\n",
       "      <td>Xian</td>\n",
       "      <td>2013-08-01</td>\n",
       "      <td>China</td>\n",
       "      <td>24.528</td>\n",
       "    </tr>\n",
       "    <tr>\n",
       "      <th>16499</th>\n",
       "      <td>Xian</td>\n",
       "      <td>2013-09-01</td>\n",
       "      <td>China</td>\n",
       "      <td>NaN</td>\n",
       "    </tr>\n",
       "  </tbody>\n",
       "</table>\n",
       "<p>16500 rows × 4 columns</p>\n",
       "</div>"
      ],
      "text/plain": [
       "          city       date        country  avg_temp_c\n",
       "0      Abidjan 2000-01-01  Côte D'Ivoire      27.293\n",
       "1      Abidjan 2000-02-01  Côte D'Ivoire      27.685\n",
       "2      Abidjan 2000-03-01  Côte D'Ivoire      29.061\n",
       "3      Abidjan 2000-04-01  Côte D'Ivoire      28.162\n",
       "4      Abidjan 2000-05-01  Côte D'Ivoire      27.547\n",
       "...        ...        ...            ...         ...\n",
       "16495     Xian 2013-05-01          China      18.979\n",
       "16496     Xian 2013-06-01          China      23.522\n",
       "16497     Xian 2013-07-01          China      25.251\n",
       "16498     Xian 2013-08-01          China      24.528\n",
       "16499     Xian 2013-09-01          China         NaN\n",
       "\n",
       "[16500 rows x 4 columns]"
      ]
     },
     "execution_count": 58,
     "metadata": {},
     "output_type": "execute_result"
    }
   ],
   "source": [
    "# İçeriğini koruyarak index'i sıfırlayalım ve eski haline getirelim\n",
    "temperatures_ind.reset_index()"
   ]
  },
  {
   "cell_type": "code",
   "execution_count": 59,
   "id": "7db5b849",
   "metadata": {
    "execution": {
     "iopub.execute_input": "2022-09-06T06:52:47.512871Z",
     "iopub.status.busy": "2022-09-06T06:52:47.512056Z",
     "iopub.status.idle": "2022-09-06T06:52:47.531252Z",
     "shell.execute_reply": "2022-09-06T06:52:47.530393Z"
    },
    "papermill": {
     "duration": 0.052994,
     "end_time": "2022-09-06T06:52:47.533294",
     "exception": false,
     "start_time": "2022-09-06T06:52:47.480300",
     "status": "completed"
    },
    "tags": []
   },
   "outputs": [
    {
     "data": {
      "text/html": [
       "<div>\n",
       "<style scoped>\n",
       "    .dataframe tbody tr th:only-of-type {\n",
       "        vertical-align: middle;\n",
       "    }\n",
       "\n",
       "    .dataframe tbody tr th {\n",
       "        vertical-align: top;\n",
       "    }\n",
       "\n",
       "    .dataframe thead th {\n",
       "        text-align: right;\n",
       "    }\n",
       "</style>\n",
       "<table border=\"1\" class=\"dataframe\">\n",
       "  <thead>\n",
       "    <tr style=\"text-align: right;\">\n",
       "      <th></th>\n",
       "      <th>date</th>\n",
       "      <th>city</th>\n",
       "      <th>country</th>\n",
       "      <th>avg_temp_c</th>\n",
       "    </tr>\n",
       "  </thead>\n",
       "  <tbody>\n",
       "    <tr>\n",
       "      <th>10725</th>\n",
       "      <td>2000-01-01</td>\n",
       "      <td>Moscow</td>\n",
       "      <td>Russia</td>\n",
       "      <td>-7.313</td>\n",
       "    </tr>\n",
       "    <tr>\n",
       "      <th>10726</th>\n",
       "      <td>2000-02-01</td>\n",
       "      <td>Moscow</td>\n",
       "      <td>Russia</td>\n",
       "      <td>-3.551</td>\n",
       "    </tr>\n",
       "    <tr>\n",
       "      <th>10727</th>\n",
       "      <td>2000-03-01</td>\n",
       "      <td>Moscow</td>\n",
       "      <td>Russia</td>\n",
       "      <td>-1.661</td>\n",
       "    </tr>\n",
       "    <tr>\n",
       "      <th>10728</th>\n",
       "      <td>2000-04-01</td>\n",
       "      <td>Moscow</td>\n",
       "      <td>Russia</td>\n",
       "      <td>10.096</td>\n",
       "    </tr>\n",
       "    <tr>\n",
       "      <th>10729</th>\n",
       "      <td>2000-05-01</td>\n",
       "      <td>Moscow</td>\n",
       "      <td>Russia</td>\n",
       "      <td>10.357</td>\n",
       "    </tr>\n",
       "    <tr>\n",
       "      <th>...</th>\n",
       "      <td>...</td>\n",
       "      <td>...</td>\n",
       "      <td>...</td>\n",
       "      <td>...</td>\n",
       "    </tr>\n",
       "    <tr>\n",
       "      <th>13360</th>\n",
       "      <td>2013-05-01</td>\n",
       "      <td>Saint Petersburg</td>\n",
       "      <td>Russia</td>\n",
       "      <td>12.355</td>\n",
       "    </tr>\n",
       "    <tr>\n",
       "      <th>13361</th>\n",
       "      <td>2013-06-01</td>\n",
       "      <td>Saint Petersburg</td>\n",
       "      <td>Russia</td>\n",
       "      <td>17.185</td>\n",
       "    </tr>\n",
       "    <tr>\n",
       "      <th>13362</th>\n",
       "      <td>2013-07-01</td>\n",
       "      <td>Saint Petersburg</td>\n",
       "      <td>Russia</td>\n",
       "      <td>17.234</td>\n",
       "    </tr>\n",
       "    <tr>\n",
       "      <th>13363</th>\n",
       "      <td>2013-08-01</td>\n",
       "      <td>Saint Petersburg</td>\n",
       "      <td>Russia</td>\n",
       "      <td>17.153</td>\n",
       "    </tr>\n",
       "    <tr>\n",
       "      <th>13364</th>\n",
       "      <td>2013-09-01</td>\n",
       "      <td>Saint Petersburg</td>\n",
       "      <td>Russia</td>\n",
       "      <td>NaN</td>\n",
       "    </tr>\n",
       "  </tbody>\n",
       "</table>\n",
       "<p>330 rows × 4 columns</p>\n",
       "</div>"
      ],
      "text/plain": [
       "            date              city country  avg_temp_c\n",
       "10725 2000-01-01            Moscow  Russia      -7.313\n",
       "10726 2000-02-01            Moscow  Russia      -3.551\n",
       "10727 2000-03-01            Moscow  Russia      -1.661\n",
       "10728 2000-04-01            Moscow  Russia      10.096\n",
       "10729 2000-05-01            Moscow  Russia      10.357\n",
       "...          ...               ...     ...         ...\n",
       "13360 2013-05-01  Saint Petersburg  Russia      12.355\n",
       "13361 2013-06-01  Saint Petersburg  Russia      17.185\n",
       "13362 2013-07-01  Saint Petersburg  Russia      17.234\n",
       "13363 2013-08-01  Saint Petersburg  Russia      17.153\n",
       "13364 2013-09-01  Saint Petersburg  Russia         NaN\n",
       "\n",
       "[330 rows x 4 columns]"
      ]
     },
     "execution_count": 59,
     "metadata": {},
     "output_type": "execute_result"
    }
   ],
   "source": [
    "# Alt kümelenecek şehirlerin bir listesini yapalım\n",
    "cities = [\"Moscow\", \"Saint Petersburg\"]\n",
    "\n",
    "# cities değişkeni için alt küme oluşturalım. \n",
    "# Bunun için isin() ile filtreleme yapalım\n",
    "temperatures[temperatures[\"city\"].isin(cities)]\n",
    "\n",
    "# isin(): Belirli bir sütunda belirli bir değere sahip satırların seçilmesine yardımcı olur."
   ]
  },
  {
   "cell_type": "code",
   "execution_count": 60,
   "id": "5eaf0de7",
   "metadata": {
    "execution": {
     "iopub.execute_input": "2022-09-06T06:52:47.597643Z",
     "iopub.status.busy": "2022-09-06T06:52:47.596676Z",
     "iopub.status.idle": "2022-09-06T06:52:47.614155Z",
     "shell.execute_reply": "2022-09-06T06:52:47.613253Z"
    },
    "papermill": {
     "duration": 0.052274,
     "end_time": "2022-09-06T06:52:47.616332",
     "exception": false,
     "start_time": "2022-09-06T06:52:47.564058",
     "status": "completed"
    },
    "tags": []
   },
   "outputs": [
    {
     "data": {
      "text/html": [
       "<div>\n",
       "<style scoped>\n",
       "    .dataframe tbody tr th:only-of-type {\n",
       "        vertical-align: middle;\n",
       "    }\n",
       "\n",
       "    .dataframe tbody tr th {\n",
       "        vertical-align: top;\n",
       "    }\n",
       "\n",
       "    .dataframe thead th {\n",
       "        text-align: right;\n",
       "    }\n",
       "</style>\n",
       "<table border=\"1\" class=\"dataframe\">\n",
       "  <thead>\n",
       "    <tr style=\"text-align: right;\">\n",
       "      <th></th>\n",
       "      <th>date</th>\n",
       "      <th>country</th>\n",
       "      <th>avg_temp_c</th>\n",
       "    </tr>\n",
       "    <tr>\n",
       "      <th>city</th>\n",
       "      <th></th>\n",
       "      <th></th>\n",
       "      <th></th>\n",
       "    </tr>\n",
       "  </thead>\n",
       "  <tbody>\n",
       "    <tr>\n",
       "      <th>Moscow</th>\n",
       "      <td>2000-01-01</td>\n",
       "      <td>Russia</td>\n",
       "      <td>-7.313</td>\n",
       "    </tr>\n",
       "    <tr>\n",
       "      <th>Moscow</th>\n",
       "      <td>2000-02-01</td>\n",
       "      <td>Russia</td>\n",
       "      <td>-3.551</td>\n",
       "    </tr>\n",
       "    <tr>\n",
       "      <th>Moscow</th>\n",
       "      <td>2000-03-01</td>\n",
       "      <td>Russia</td>\n",
       "      <td>-1.661</td>\n",
       "    </tr>\n",
       "    <tr>\n",
       "      <th>Moscow</th>\n",
       "      <td>2000-04-01</td>\n",
       "      <td>Russia</td>\n",
       "      <td>10.096</td>\n",
       "    </tr>\n",
       "    <tr>\n",
       "      <th>Moscow</th>\n",
       "      <td>2000-05-01</td>\n",
       "      <td>Russia</td>\n",
       "      <td>10.357</td>\n",
       "    </tr>\n",
       "    <tr>\n",
       "      <th>...</th>\n",
       "      <td>...</td>\n",
       "      <td>...</td>\n",
       "      <td>...</td>\n",
       "    </tr>\n",
       "    <tr>\n",
       "      <th>Saint Petersburg</th>\n",
       "      <td>2013-05-01</td>\n",
       "      <td>Russia</td>\n",
       "      <td>12.355</td>\n",
       "    </tr>\n",
       "    <tr>\n",
       "      <th>Saint Petersburg</th>\n",
       "      <td>2013-06-01</td>\n",
       "      <td>Russia</td>\n",
       "      <td>17.185</td>\n",
       "    </tr>\n",
       "    <tr>\n",
       "      <th>Saint Petersburg</th>\n",
       "      <td>2013-07-01</td>\n",
       "      <td>Russia</td>\n",
       "      <td>17.234</td>\n",
       "    </tr>\n",
       "    <tr>\n",
       "      <th>Saint Petersburg</th>\n",
       "      <td>2013-08-01</td>\n",
       "      <td>Russia</td>\n",
       "      <td>17.153</td>\n",
       "    </tr>\n",
       "    <tr>\n",
       "      <th>Saint Petersburg</th>\n",
       "      <td>2013-09-01</td>\n",
       "      <td>Russia</td>\n",
       "      <td>NaN</td>\n",
       "    </tr>\n",
       "  </tbody>\n",
       "</table>\n",
       "<p>330 rows × 3 columns</p>\n",
       "</div>"
      ],
      "text/plain": [
       "                       date country  avg_temp_c\n",
       "city                                           \n",
       "Moscow           2000-01-01  Russia      -7.313\n",
       "Moscow           2000-02-01  Russia      -3.551\n",
       "Moscow           2000-03-01  Russia      -1.661\n",
       "Moscow           2000-04-01  Russia      10.096\n",
       "Moscow           2000-05-01  Russia      10.357\n",
       "...                     ...     ...         ...\n",
       "Saint Petersburg 2013-05-01  Russia      12.355\n",
       "Saint Petersburg 2013-06-01  Russia      17.185\n",
       "Saint Petersburg 2013-07-01  Russia      17.234\n",
       "Saint Petersburg 2013-08-01  Russia      17.153\n",
       "Saint Petersburg 2013-09-01  Russia         NaN\n",
       "\n",
       "[330 rows x 3 columns]"
      ]
     },
     "execution_count": 60,
     "metadata": {},
     "output_type": "execute_result"
    }
   ],
   "source": [
    "# .loc[] kullanarak temperatures_ind alt kümesini (yani cities'i) çağıralım\n",
    "temperatures_ind.loc[cities]"
   ]
  },
  {
   "cell_type": "code",
   "execution_count": 61,
   "id": "5b60662a",
   "metadata": {
    "execution": {
     "iopub.execute_input": "2022-09-06T06:52:47.679971Z",
     "iopub.status.busy": "2022-09-06T06:52:47.679265Z",
     "iopub.status.idle": "2022-09-06T06:52:47.705327Z",
     "shell.execute_reply": "2022-09-06T06:52:47.704459Z"
    },
    "papermill": {
     "duration": 0.060385,
     "end_time": "2022-09-06T06:52:47.707522",
     "exception": false,
     "start_time": "2022-09-06T06:52:47.647137",
     "status": "completed"
    },
    "tags": []
   },
   "outputs": [
    {
     "data": {
      "text/html": [
       "<div>\n",
       "<style scoped>\n",
       "    .dataframe tbody tr th:only-of-type {\n",
       "        vertical-align: middle;\n",
       "    }\n",
       "\n",
       "    .dataframe tbody tr th {\n",
       "        vertical-align: top;\n",
       "    }\n",
       "\n",
       "    .dataframe thead th {\n",
       "        text-align: right;\n",
       "    }\n",
       "</style>\n",
       "<table border=\"1\" class=\"dataframe\">\n",
       "  <thead>\n",
       "    <tr style=\"text-align: right;\">\n",
       "      <th></th>\n",
       "      <th></th>\n",
       "      <th>date</th>\n",
       "      <th>avg_temp_c</th>\n",
       "    </tr>\n",
       "    <tr>\n",
       "      <th>country</th>\n",
       "      <th>city</th>\n",
       "      <th></th>\n",
       "      <th></th>\n",
       "    </tr>\n",
       "  </thead>\n",
       "  <tbody>\n",
       "    <tr>\n",
       "      <th rowspan=\"5\" valign=\"top\">Brazil</th>\n",
       "      <th>Rio De Janeiro</th>\n",
       "      <td>2000-01-01</td>\n",
       "      <td>25.974</td>\n",
       "    </tr>\n",
       "    <tr>\n",
       "      <th>Rio De Janeiro</th>\n",
       "      <td>2000-02-01</td>\n",
       "      <td>26.699</td>\n",
       "    </tr>\n",
       "    <tr>\n",
       "      <th>Rio De Janeiro</th>\n",
       "      <td>2000-03-01</td>\n",
       "      <td>26.270</td>\n",
       "    </tr>\n",
       "    <tr>\n",
       "      <th>Rio De Janeiro</th>\n",
       "      <td>2000-04-01</td>\n",
       "      <td>25.750</td>\n",
       "    </tr>\n",
       "    <tr>\n",
       "      <th>Rio De Janeiro</th>\n",
       "      <td>2000-05-01</td>\n",
       "      <td>24.356</td>\n",
       "    </tr>\n",
       "    <tr>\n",
       "      <th>...</th>\n",
       "      <th>...</th>\n",
       "      <td>...</td>\n",
       "      <td>...</td>\n",
       "    </tr>\n",
       "    <tr>\n",
       "      <th rowspan=\"5\" valign=\"top\">Pakistan</th>\n",
       "      <th>Lahore</th>\n",
       "      <td>2013-05-01</td>\n",
       "      <td>33.457</td>\n",
       "    </tr>\n",
       "    <tr>\n",
       "      <th>Lahore</th>\n",
       "      <td>2013-06-01</td>\n",
       "      <td>34.456</td>\n",
       "    </tr>\n",
       "    <tr>\n",
       "      <th>Lahore</th>\n",
       "      <td>2013-07-01</td>\n",
       "      <td>33.279</td>\n",
       "    </tr>\n",
       "    <tr>\n",
       "      <th>Lahore</th>\n",
       "      <td>2013-08-01</td>\n",
       "      <td>31.511</td>\n",
       "    </tr>\n",
       "    <tr>\n",
       "      <th>Lahore</th>\n",
       "      <td>2013-09-01</td>\n",
       "      <td>NaN</td>\n",
       "    </tr>\n",
       "  </tbody>\n",
       "</table>\n",
       "<p>330 rows × 2 columns</p>\n",
       "</div>"
      ],
      "text/plain": [
       "                              date  avg_temp_c\n",
       "country  city                                 \n",
       "Brazil   Rio De Janeiro 2000-01-01      25.974\n",
       "         Rio De Janeiro 2000-02-01      26.699\n",
       "         Rio De Janeiro 2000-03-01      26.270\n",
       "         Rio De Janeiro 2000-04-01      25.750\n",
       "         Rio De Janeiro 2000-05-01      24.356\n",
       "...                            ...         ...\n",
       "Pakistan Lahore         2013-05-01      33.457\n",
       "         Lahore         2013-06-01      34.456\n",
       "         Lahore         2013-07-01      33.279\n",
       "         Lahore         2013-08-01      31.511\n",
       "         Lahore         2013-09-01         NaN\n",
       "\n",
       "[330 rows x 2 columns]"
      ]
     },
     "execution_count": 61,
     "metadata": {},
     "output_type": "execute_result"
    }
   ],
   "source": [
    "# Yeni index sütunumuzun \"country\" ve \"city\" olmasını sağlayalım\n",
    "temperatures_ind = temperatures.set_index([\"country\", \"city\"])\n",
    "\n",
    "# Saklanacak iki ülke/şehir çifti belirleyelim ve bunları \"rows_to_keep\" adlı değişkene atalım.\n",
    "# Tuple (demet) listesi: Brazil, Rio De Janeiro & Pakistan, Lahore\n",
    "rows_to_keep = [(\"Brazil\", \"Rio De Janeiro\"), (\"Pakistan\", \"Lahore\")]\n",
    "\n",
    "# Saklanacak satırlar için alt küme\n",
    "temperatures_ind.loc[rows_to_keep]"
   ]
  },
  {
   "cell_type": "markdown",
   "id": "7a864ca4",
   "metadata": {
    "papermill": {
     "duration": 0.03066,
     "end_time": "2022-09-06T06:52:47.769152",
     "exception": false,
     "start_time": "2022-09-06T06:52:47.738492",
     "status": "completed"
    },
    "tags": []
   },
   "source": [
    "> ***Muhteşem çok seviyeli indeksleme! Bir kategori başka bir kategorinin içine yerleştirildiğinde veri kümenizi anlamayı kolaylaştırabilir. (Tıpkı yukarıdaki çıktıda görüldüğü gibi)*** "
   ]
  },
  {
   "cell_type": "code",
   "execution_count": 62,
   "id": "39c9c864",
   "metadata": {
    "execution": {
     "iopub.execute_input": "2022-09-06T06:52:47.832945Z",
     "iopub.status.busy": "2022-09-06T06:52:47.832193Z",
     "iopub.status.idle": "2022-09-06T06:52:47.850718Z",
     "shell.execute_reply": "2022-09-06T06:52:47.849933Z"
    },
    "papermill": {
     "duration": 0.052657,
     "end_time": "2022-09-06T06:52:47.852732",
     "exception": false,
     "start_time": "2022-09-06T06:52:47.800075",
     "status": "completed"
    },
    "tags": []
   },
   "outputs": [
    {
     "data": {
      "text/html": [
       "<div>\n",
       "<style scoped>\n",
       "    .dataframe tbody tr th:only-of-type {\n",
       "        vertical-align: middle;\n",
       "    }\n",
       "\n",
       "    .dataframe tbody tr th {\n",
       "        vertical-align: top;\n",
       "    }\n",
       "\n",
       "    .dataframe thead th {\n",
       "        text-align: right;\n",
       "    }\n",
       "</style>\n",
       "<table border=\"1\" class=\"dataframe\">\n",
       "  <thead>\n",
       "    <tr style=\"text-align: right;\">\n",
       "      <th></th>\n",
       "      <th></th>\n",
       "      <th>date</th>\n",
       "      <th>avg_temp_c</th>\n",
       "    </tr>\n",
       "    <tr>\n",
       "      <th>country</th>\n",
       "      <th>city</th>\n",
       "      <th></th>\n",
       "      <th></th>\n",
       "    </tr>\n",
       "  </thead>\n",
       "  <tbody>\n",
       "    <tr>\n",
       "      <th rowspan=\"5\" valign=\"top\">Afghanistan</th>\n",
       "      <th>Kabul</th>\n",
       "      <td>2000-01-01</td>\n",
       "      <td>3.326</td>\n",
       "    </tr>\n",
       "    <tr>\n",
       "      <th>Kabul</th>\n",
       "      <td>2000-02-01</td>\n",
       "      <td>3.454</td>\n",
       "    </tr>\n",
       "    <tr>\n",
       "      <th>Kabul</th>\n",
       "      <td>2000-03-01</td>\n",
       "      <td>9.612</td>\n",
       "    </tr>\n",
       "    <tr>\n",
       "      <th>Kabul</th>\n",
       "      <td>2000-04-01</td>\n",
       "      <td>17.925</td>\n",
       "    </tr>\n",
       "    <tr>\n",
       "      <th>Kabul</th>\n",
       "      <td>2000-05-01</td>\n",
       "      <td>24.658</td>\n",
       "    </tr>\n",
       "    <tr>\n",
       "      <th>...</th>\n",
       "      <th>...</th>\n",
       "      <td>...</td>\n",
       "      <td>...</td>\n",
       "    </tr>\n",
       "    <tr>\n",
       "      <th rowspan=\"5\" valign=\"top\">Zimbabwe</th>\n",
       "      <th>Harare</th>\n",
       "      <td>2013-05-01</td>\n",
       "      <td>18.298</td>\n",
       "    </tr>\n",
       "    <tr>\n",
       "      <th>Harare</th>\n",
       "      <td>2013-06-01</td>\n",
       "      <td>17.020</td>\n",
       "    </tr>\n",
       "    <tr>\n",
       "      <th>Harare</th>\n",
       "      <td>2013-07-01</td>\n",
       "      <td>16.299</td>\n",
       "    </tr>\n",
       "    <tr>\n",
       "      <th>Harare</th>\n",
       "      <td>2013-08-01</td>\n",
       "      <td>19.232</td>\n",
       "    </tr>\n",
       "    <tr>\n",
       "      <th>Harare</th>\n",
       "      <td>2013-09-01</td>\n",
       "      <td>NaN</td>\n",
       "    </tr>\n",
       "  </tbody>\n",
       "</table>\n",
       "<p>16500 rows × 2 columns</p>\n",
       "</div>"
      ],
      "text/plain": [
       "                         date  avg_temp_c\n",
       "country     city                         \n",
       "Afghanistan Kabul  2000-01-01       3.326\n",
       "            Kabul  2000-02-01       3.454\n",
       "            Kabul  2000-03-01       9.612\n",
       "            Kabul  2000-04-01      17.925\n",
       "            Kabul  2000-05-01      24.658\n",
       "...                       ...         ...\n",
       "Zimbabwe    Harare 2013-05-01      18.298\n",
       "            Harare 2013-06-01      17.020\n",
       "            Harare 2013-07-01      16.299\n",
       "            Harare 2013-08-01      19.232\n",
       "            Harare 2013-09-01         NaN\n",
       "\n",
       "[16500 rows x 2 columns]"
      ]
     },
     "execution_count": 62,
     "metadata": {},
     "output_type": "execute_result"
    }
   ],
   "source": [
    "# .sort_index() ile indexteki değerlerimizi \"country\"e göre sıralayalım\n",
    "temperatures_ind.sort_index()"
   ]
  },
  {
   "cell_type": "code",
   "execution_count": 63,
   "id": "56a9e8aa",
   "metadata": {
    "execution": {
     "iopub.execute_input": "2022-09-06T06:52:47.916924Z",
     "iopub.status.busy": "2022-09-06T06:52:47.916245Z",
     "iopub.status.idle": "2022-09-06T06:52:47.933360Z",
     "shell.execute_reply": "2022-09-06T06:52:47.932591Z"
    },
    "papermill": {
     "duration": 0.051712,
     "end_time": "2022-09-06T06:52:47.935587",
     "exception": false,
     "start_time": "2022-09-06T06:52:47.883875",
     "status": "completed"
    },
    "tags": []
   },
   "outputs": [
    {
     "data": {
      "text/html": [
       "<div>\n",
       "<style scoped>\n",
       "    .dataframe tbody tr th:only-of-type {\n",
       "        vertical-align: middle;\n",
       "    }\n",
       "\n",
       "    .dataframe tbody tr th {\n",
       "        vertical-align: top;\n",
       "    }\n",
       "\n",
       "    .dataframe thead th {\n",
       "        text-align: right;\n",
       "    }\n",
       "</style>\n",
       "<table border=\"1\" class=\"dataframe\">\n",
       "  <thead>\n",
       "    <tr style=\"text-align: right;\">\n",
       "      <th></th>\n",
       "      <th></th>\n",
       "      <th>date</th>\n",
       "      <th>avg_temp_c</th>\n",
       "    </tr>\n",
       "    <tr>\n",
       "      <th>country</th>\n",
       "      <th>city</th>\n",
       "      <th></th>\n",
       "      <th></th>\n",
       "    </tr>\n",
       "  </thead>\n",
       "  <tbody>\n",
       "    <tr>\n",
       "      <th rowspan=\"5\" valign=\"top\">Côte D'Ivoire</th>\n",
       "      <th>Abidjan</th>\n",
       "      <td>2000-01-01</td>\n",
       "      <td>27.293</td>\n",
       "    </tr>\n",
       "    <tr>\n",
       "      <th>Abidjan</th>\n",
       "      <td>2000-02-01</td>\n",
       "      <td>27.685</td>\n",
       "    </tr>\n",
       "    <tr>\n",
       "      <th>Abidjan</th>\n",
       "      <td>2000-03-01</td>\n",
       "      <td>29.061</td>\n",
       "    </tr>\n",
       "    <tr>\n",
       "      <th>Abidjan</th>\n",
       "      <td>2000-04-01</td>\n",
       "      <td>28.162</td>\n",
       "    </tr>\n",
       "    <tr>\n",
       "      <th>Abidjan</th>\n",
       "      <td>2000-05-01</td>\n",
       "      <td>27.547</td>\n",
       "    </tr>\n",
       "    <tr>\n",
       "      <th>...</th>\n",
       "      <th>...</th>\n",
       "      <td>...</td>\n",
       "      <td>...</td>\n",
       "    </tr>\n",
       "    <tr>\n",
       "      <th rowspan=\"5\" valign=\"top\">China</th>\n",
       "      <th>Xian</th>\n",
       "      <td>2013-05-01</td>\n",
       "      <td>18.979</td>\n",
       "    </tr>\n",
       "    <tr>\n",
       "      <th>Xian</th>\n",
       "      <td>2013-06-01</td>\n",
       "      <td>23.522</td>\n",
       "    </tr>\n",
       "    <tr>\n",
       "      <th>Xian</th>\n",
       "      <td>2013-07-01</td>\n",
       "      <td>25.251</td>\n",
       "    </tr>\n",
       "    <tr>\n",
       "      <th>Xian</th>\n",
       "      <td>2013-08-01</td>\n",
       "      <td>24.528</td>\n",
       "    </tr>\n",
       "    <tr>\n",
       "      <th>Xian</th>\n",
       "      <td>2013-09-01</td>\n",
       "      <td>NaN</td>\n",
       "    </tr>\n",
       "  </tbody>\n",
       "</table>\n",
       "<p>16500 rows × 2 columns</p>\n",
       "</div>"
      ],
      "text/plain": [
       "                            date  avg_temp_c\n",
       "country       city                          \n",
       "Côte D'Ivoire Abidjan 2000-01-01      27.293\n",
       "              Abidjan 2000-02-01      27.685\n",
       "              Abidjan 2000-03-01      29.061\n",
       "              Abidjan 2000-04-01      28.162\n",
       "              Abidjan 2000-05-01      27.547\n",
       "...                          ...         ...\n",
       "China         Xian    2013-05-01      18.979\n",
       "              Xian    2013-06-01      23.522\n",
       "              Xian    2013-07-01      25.251\n",
       "              Xian    2013-08-01      24.528\n",
       "              Xian    2013-09-01         NaN\n",
       "\n",
       "[16500 rows x 2 columns]"
      ]
     },
     "execution_count": 63,
     "metadata": {},
     "output_type": "execute_result"
    }
   ],
   "source": [
    "# .sort_index() ile indexteki değerlerimizi \"city\"e göre sıralayalım\n",
    "temperatures_ind.sort_index(level=\"city\")"
   ]
  },
  {
   "cell_type": "code",
   "execution_count": 64,
   "id": "54654c5c",
   "metadata": {
    "execution": {
     "iopub.execute_input": "2022-09-06T06:52:48.002089Z",
     "iopub.status.busy": "2022-09-06T06:52:48.001307Z",
     "iopub.status.idle": "2022-09-06T06:52:48.021133Z",
     "shell.execute_reply": "2022-09-06T06:52:48.020259Z"
    },
    "papermill": {
     "duration": 0.055537,
     "end_time": "2022-09-06T06:52:48.023267",
     "exception": false,
     "start_time": "2022-09-06T06:52:47.967730",
     "status": "completed"
    },
    "tags": []
   },
   "outputs": [
    {
     "data": {
      "text/html": [
       "<div>\n",
       "<style scoped>\n",
       "    .dataframe tbody tr th:only-of-type {\n",
       "        vertical-align: middle;\n",
       "    }\n",
       "\n",
       "    .dataframe tbody tr th {\n",
       "        vertical-align: top;\n",
       "    }\n",
       "\n",
       "    .dataframe thead th {\n",
       "        text-align: right;\n",
       "    }\n",
       "</style>\n",
       "<table border=\"1\" class=\"dataframe\">\n",
       "  <thead>\n",
       "    <tr style=\"text-align: right;\">\n",
       "      <th></th>\n",
       "      <th></th>\n",
       "      <th>date</th>\n",
       "      <th>avg_temp_c</th>\n",
       "    </tr>\n",
       "    <tr>\n",
       "      <th>country</th>\n",
       "      <th>city</th>\n",
       "      <th></th>\n",
       "      <th></th>\n",
       "    </tr>\n",
       "  </thead>\n",
       "  <tbody>\n",
       "    <tr>\n",
       "      <th rowspan=\"5\" valign=\"top\">Afghanistan</th>\n",
       "      <th>Kabul</th>\n",
       "      <td>2000-01-01</td>\n",
       "      <td>3.326</td>\n",
       "    </tr>\n",
       "    <tr>\n",
       "      <th>Kabul</th>\n",
       "      <td>2000-02-01</td>\n",
       "      <td>3.454</td>\n",
       "    </tr>\n",
       "    <tr>\n",
       "      <th>Kabul</th>\n",
       "      <td>2000-03-01</td>\n",
       "      <td>9.612</td>\n",
       "    </tr>\n",
       "    <tr>\n",
       "      <th>Kabul</th>\n",
       "      <td>2000-04-01</td>\n",
       "      <td>17.925</td>\n",
       "    </tr>\n",
       "    <tr>\n",
       "      <th>Kabul</th>\n",
       "      <td>2000-05-01</td>\n",
       "      <td>24.658</td>\n",
       "    </tr>\n",
       "    <tr>\n",
       "      <th>...</th>\n",
       "      <th>...</th>\n",
       "      <td>...</td>\n",
       "      <td>...</td>\n",
       "    </tr>\n",
       "    <tr>\n",
       "      <th rowspan=\"5\" valign=\"top\">Zimbabwe</th>\n",
       "      <th>Harare</th>\n",
       "      <td>2013-05-01</td>\n",
       "      <td>18.298</td>\n",
       "    </tr>\n",
       "    <tr>\n",
       "      <th>Harare</th>\n",
       "      <td>2013-06-01</td>\n",
       "      <td>17.020</td>\n",
       "    </tr>\n",
       "    <tr>\n",
       "      <th>Harare</th>\n",
       "      <td>2013-07-01</td>\n",
       "      <td>16.299</td>\n",
       "    </tr>\n",
       "    <tr>\n",
       "      <th>Harare</th>\n",
       "      <td>2013-08-01</td>\n",
       "      <td>19.232</td>\n",
       "    </tr>\n",
       "    <tr>\n",
       "      <th>Harare</th>\n",
       "      <td>2013-09-01</td>\n",
       "      <td>NaN</td>\n",
       "    </tr>\n",
       "  </tbody>\n",
       "</table>\n",
       "<p>16500 rows × 2 columns</p>\n",
       "</div>"
      ],
      "text/plain": [
       "                         date  avg_temp_c\n",
       "country     city                         \n",
       "Afghanistan Kabul  2000-01-01       3.326\n",
       "            Kabul  2000-02-01       3.454\n",
       "            Kabul  2000-03-01       9.612\n",
       "            Kabul  2000-04-01      17.925\n",
       "            Kabul  2000-05-01      24.658\n",
       "...                       ...         ...\n",
       "Zimbabwe    Harare 2013-05-01      18.298\n",
       "            Harare 2013-06-01      17.020\n",
       "            Harare 2013-07-01      16.299\n",
       "            Harare 2013-08-01      19.232\n",
       "            Harare 2013-09-01         NaN\n",
       "\n",
       "[16500 rows x 2 columns]"
      ]
     },
     "execution_count": 64,
     "metadata": {},
     "output_type": "execute_result"
    }
   ],
   "source": [
    "# Verimizi artan ülkeye ve ardından azalan şehre göre sıralayalım. (yani Alfabetik olarak)\n",
    "# ascending=False: en yüksekten en düşüğe sıralar\n",
    "# ascending=True: en düşükten en yükseğe sıralar\n",
    "temperatures_ind.sort_index(level=[\"country\", \"city\"], ascending = [True, False])"
   ]
  },
  {
   "cell_type": "code",
   "execution_count": 65,
   "id": "10aa6eaa",
   "metadata": {
    "execution": {
     "iopub.execute_input": "2022-09-06T06:52:48.088318Z",
     "iopub.status.busy": "2022-09-06T06:52:48.087615Z",
     "iopub.status.idle": "2022-09-06T06:52:48.103780Z",
     "shell.execute_reply": "2022-09-06T06:52:48.102059Z"
    },
    "papermill": {
     "duration": 0.05129,
     "end_time": "2022-09-06T06:52:48.106158",
     "exception": false,
     "start_time": "2022-09-06T06:52:48.054868",
     "status": "completed"
    },
    "tags": []
   },
   "outputs": [
    {
     "name": "stdout",
     "output_type": "stream",
     "text": [
      "                                date  avg_temp_c\n",
      "country  city                                   \n",
      "Pakistan Faisalabad       2000-01-01      12.792\n",
      "         Faisalabad       2000-02-01      14.339\n",
      "         Faisalabad       2000-03-01      20.309\n",
      "         Faisalabad       2000-04-01      29.072\n",
      "         Faisalabad       2000-05-01      34.845\n",
      "...                              ...         ...\n",
      "Russia   Saint Petersburg 2013-05-01      12.355\n",
      "         Saint Petersburg 2013-06-01      17.185\n",
      "         Saint Petersburg 2013-07-01      17.234\n",
      "         Saint Petersburg 2013-08-01      17.153\n",
      "         Saint Petersburg 2013-09-01         NaN\n",
      "\n",
      "[1155 rows x 2 columns]\n"
     ]
    }
   ],
   "source": [
    "# temperatures_ind dizinini sıralayalım ve bunu \"temperatures_srt\" adlı yeni bir değişkene atalım\n",
    "temperatures_srt = temperatures_ind.sort_index()\n",
    "\n",
    "# Pakistan'dan Rusya'ya alt küme satırlarını yazdıralım\n",
    "print(temperatures_srt.loc[\"Pakistan\":\"Russia\"])"
   ]
  },
  {
   "cell_type": "code",
   "execution_count": 66,
   "id": "d64f2dc9",
   "metadata": {
    "execution": {
     "iopub.execute_input": "2022-09-06T06:52:48.173331Z",
     "iopub.status.busy": "2022-09-06T06:52:48.172685Z",
     "iopub.status.idle": "2022-09-06T06:52:48.185991Z",
     "shell.execute_reply": "2022-09-06T06:52:48.184282Z"
    },
    "papermill": {
     "duration": 0.04959,
     "end_time": "2022-09-06T06:52:48.188335",
     "exception": false,
     "start_time": "2022-09-06T06:52:48.138745",
     "status": "completed"
    },
    "tags": []
   },
   "outputs": [
    {
     "name": "stdout",
     "output_type": "stream",
     "text": [
      "                         date  avg_temp_c\n",
      "country city                             \n",
      "Mexico  Mexico     2000-01-01      12.694\n",
      "        Mexico     2000-02-01      14.677\n",
      "        Mexico     2000-03-01      17.376\n",
      "        Mexico     2000-04-01      18.294\n",
      "        Mexico     2000-05-01      18.562\n",
      "...                       ...         ...\n",
      "Morocco Casablanca 2013-05-01      19.217\n",
      "        Casablanca 2013-06-01      23.649\n",
      "        Casablanca 2013-07-01      27.488\n",
      "        Casablanca 2013-08-01      27.952\n",
      "        Casablanca 2013-09-01         NaN\n",
      "\n",
      "[330 rows x 2 columns]\n"
     ]
    }
   ],
   "source": [
    "# Lahor'dan Moskova'ya satırları alt kümelemeye çalışalım\n",
    "print(temperatures_srt.loc[\"Lahore\":\"Moscow\"])"
   ]
  },
  {
   "cell_type": "code",
   "execution_count": 67,
   "id": "5382ead9",
   "metadata": {
    "execution": {
     "iopub.execute_input": "2022-09-06T06:52:48.255165Z",
     "iopub.status.busy": "2022-09-06T06:52:48.254757Z",
     "iopub.status.idle": "2022-09-06T06:52:48.266500Z",
     "shell.execute_reply": "2022-09-06T06:52:48.265662Z"
    },
    "papermill": {
     "duration": 0.047702,
     "end_time": "2022-09-06T06:52:48.268820",
     "exception": false,
     "start_time": "2022-09-06T06:52:48.221118",
     "status": "completed"
    },
    "tags": []
   },
   "outputs": [
    {
     "name": "stdout",
     "output_type": "stream",
     "text": [
      "                      date  avg_temp_c\n",
      "country  city                         \n",
      "Pakistan Lahore 2000-01-01      12.792\n",
      "         Lahore 2000-02-01      14.339\n",
      "         Lahore 2000-03-01      20.309\n",
      "         Lahore 2000-04-01      29.072\n",
      "         Lahore 2000-05-01      34.845\n",
      "...                    ...         ...\n",
      "Russia   Moscow 2013-05-01      16.152\n",
      "         Moscow 2013-06-01      18.718\n",
      "         Moscow 2013-07-01      18.136\n",
      "         Moscow 2013-08-01      17.485\n",
      "         Moscow 2013-09-01         NaN\n",
      "\n",
      "[660 rows x 2 columns]\n"
     ]
    }
   ],
   "source": [
    "# Yukarıdaki çıktıda gördüğünüz üzere olmadı. İstediğimiz sonuçlara ulaşamadık. Demekki şehirler arasını \n",
    "# direk yapmamıza izin vermiyor. Bunun için önce ülke, sonra şehir ismi belirterek yapmayı deneyelim\n",
    "\n",
    "# Pakistan Lahore'dan Rusya Moskova'ya alt küme satırları\n",
    "print(temperatures_srt.loc[(\"Pakistan\", \"Lahore\"):(\"Russia\", \"Moscow\")]) # Evet bu sefer oldu :)"
   ]
  },
  {
   "cell_type": "code",
   "execution_count": 68,
   "id": "4fdf719f",
   "metadata": {
    "execution": {
     "iopub.execute_input": "2022-09-06T06:52:48.337173Z",
     "iopub.status.busy": "2022-09-06T06:52:48.335992Z",
     "iopub.status.idle": "2022-09-06T06:52:48.348400Z",
     "shell.execute_reply": "2022-09-06T06:52:48.346940Z"
    },
    "papermill": {
     "duration": 0.048534,
     "end_time": "2022-09-06T06:52:48.350922",
     "exception": false,
     "start_time": "2022-09-06T06:52:48.302388",
     "status": "completed"
    },
    "tags": []
   },
   "outputs": [
    {
     "name": "stdout",
     "output_type": "stream",
     "text": [
      "                         date  avg_temp_c\n",
      "country     city                         \n",
      "Afghanistan Kabul  2000-01-01       3.326\n",
      "            Kabul  2000-02-01       3.454\n",
      "            Kabul  2000-03-01       9.612\n",
      "            Kabul  2000-04-01      17.925\n",
      "            Kabul  2000-05-01      24.658\n",
      "...                       ...         ...\n",
      "Zimbabwe    Harare 2013-05-01      18.298\n",
      "            Harare 2013-06-01      17.020\n",
      "            Harare 2013-07-01      16.299\n",
      "            Harare 2013-08-01      19.232\n",
      "            Harare 2013-09-01         NaN\n",
      "\n",
      "[16500 rows x 2 columns]\n"
     ]
    }
   ],
   "source": [
    "# date'den avg_temp_c'ye kadar olan alt küme sütunlarını içeren tüm satırları getirelim\n",
    "print(temperatures_srt.loc[:, \"date\":\"avg_temp_c\"])"
   ]
  },
  {
   "cell_type": "code",
   "execution_count": 69,
   "id": "e7931f79",
   "metadata": {
    "execution": {
     "iopub.execute_input": "2022-09-06T06:52:48.417382Z",
     "iopub.status.busy": "2022-09-06T06:52:48.416874Z",
     "iopub.status.idle": "2022-09-06T06:52:48.430712Z",
     "shell.execute_reply": "2022-09-06T06:52:48.429162Z"
    },
    "papermill": {
     "duration": 0.049663,
     "end_time": "2022-09-06T06:52:48.432767",
     "exception": false,
     "start_time": "2022-09-06T06:52:48.383104",
     "status": "completed"
    },
    "tags": []
   },
   "outputs": [
    {
     "name": "stdout",
     "output_type": "stream",
     "text": [
      "                        date  avg_temp_c\n",
      "country city                            \n",
      "India   Hyderabad 2000-01-01      23.779\n",
      "        Hyderabad 2000-02-01      25.826\n",
      "        Hyderabad 2000-03-01      28.821\n",
      "        Hyderabad 2000-04-01      32.698\n",
      "        Hyderabad 2000-05-01      32.438\n",
      "...                      ...         ...\n",
      "Iraq    Baghdad   2013-05-01      28.673\n",
      "        Baghdad   2013-06-01      33.803\n",
      "        Baghdad   2013-07-01      36.392\n",
      "        Baghdad   2013-08-01      35.463\n",
      "        Baghdad   2013-09-01         NaN\n",
      "\n",
      "[2145 rows x 2 columns]\n"
     ]
    }
   ],
   "source": [
    "# Aynı anda her iki yönde alt küme\n",
    "\n",
    "# Satırlarda Hyderabad'dan Baghdad'a kadar, sütunlarda da  date'den avg_temp_c'e kadar filtreleyelim\n",
    "print(temperatures_srt.loc[(\"India\", \"Hyderabad\"):(\"Iraq\", \"Baghdad\"), \"date\":\"avg_temp_c\"])"
   ]
  },
  {
   "cell_type": "code",
   "execution_count": 70,
   "id": "34264434",
   "metadata": {
    "execution": {
     "iopub.execute_input": "2022-09-06T06:52:48.499608Z",
     "iopub.status.busy": "2022-09-06T06:52:48.498578Z",
     "iopub.status.idle": "2022-09-06T06:52:48.512358Z",
     "shell.execute_reply": "2022-09-06T06:52:48.510653Z"
    },
    "papermill": {
     "duration": 0.049725,
     "end_time": "2022-09-06T06:52:48.514720",
     "exception": false,
     "start_time": "2022-09-06T06:52:48.464995",
     "status": "completed"
    },
    "tags": []
   },
   "outputs": [
    {
     "name": "stdout",
     "output_type": "stream",
     "text": [
      "            date     city        country  avg_temp_c\n",
      "120   2010-01-01  Abidjan  Côte D'Ivoire      28.270\n",
      "121   2010-02-01  Abidjan  Côte D'Ivoire      29.262\n",
      "122   2010-03-01  Abidjan  Côte D'Ivoire      29.596\n",
      "123   2010-04-01  Abidjan  Côte D'Ivoire      29.068\n",
      "124   2010-05-01  Abidjan  Côte D'Ivoire      28.258\n",
      "...          ...      ...            ...         ...\n",
      "16474 2011-08-01     Xian          China      23.069\n",
      "16475 2011-09-01     Xian          China      16.775\n",
      "16476 2011-10-01     Xian          China      12.587\n",
      "16477 2011-11-01     Xian          China       7.543\n",
      "16478 2011-12-01     Xian          China      -0.490\n",
      "\n",
      "[2400 rows x 4 columns]\n"
     ]
    }
   ],
   "source": [
    "# 2010-2011 yılları arasındakileri filtreleyelim ve bunu \"temperatures_bool\" adlı değişkende tutalım\n",
    "temperatures_bool = temperatures[(temperatures[\"date\"] >= \"2010-01-01\") & (temperatures[\"date\"] <= \"2011-12-31\")]\n",
    "print(temperatures_bool)"
   ]
  },
  {
   "cell_type": "code",
   "execution_count": 71,
   "id": "adf27dc7",
   "metadata": {
    "execution": {
     "iopub.execute_input": "2022-09-06T06:52:48.582411Z",
     "iopub.status.busy": "2022-09-06T06:52:48.581506Z",
     "iopub.status.idle": "2022-09-06T06:52:48.588488Z",
     "shell.execute_reply": "2022-09-06T06:52:48.587068Z"
    },
    "papermill": {
     "duration": 0.043105,
     "end_time": "2022-09-06T06:52:48.590921",
     "exception": false,
     "start_time": "2022-09-06T06:52:48.547816",
     "status": "completed"
    },
    "tags": []
   },
   "outputs": [
    {
     "name": "stdout",
     "output_type": "stream",
     "text": [
      "27.547\n"
     ]
    }
   ],
   "source": [
    "# 5. satır 4. sütundaki ifadeyi .iloc[] ile filtreleyip yazdıralım (index numaraları sırasıyla 4, 3)\n",
    "print(temperatures.iloc[4, 3])"
   ]
  },
  {
   "cell_type": "code",
   "execution_count": 72,
   "id": "80268df4",
   "metadata": {
    "execution": {
     "iopub.execute_input": "2022-09-06T06:52:48.656927Z",
     "iopub.status.busy": "2022-09-06T06:52:48.656274Z",
     "iopub.status.idle": "2022-09-06T06:52:48.668222Z",
     "shell.execute_reply": "2022-09-06T06:52:48.666355Z"
    },
    "papermill": {
     "duration": 0.048184,
     "end_time": "2022-09-06T06:52:48.671281",
     "exception": false,
     "start_time": "2022-09-06T06:52:48.623097",
     "status": "completed"
    },
    "tags": []
   },
   "outputs": [
    {
     "name": "stdout",
     "output_type": "stream",
     "text": [
      "        date     city        country  avg_temp_c\n",
      "0 2000-01-01  Abidjan  Côte D'Ivoire      27.293\n",
      "1 2000-02-01  Abidjan  Côte D'Ivoire      27.685\n",
      "2 2000-03-01  Abidjan  Côte D'Ivoire      29.061\n",
      "3 2000-04-01  Abidjan  Côte D'Ivoire      28.162\n",
      "4 2000-05-01  Abidjan  Côte D'Ivoire      27.547\n",
      "_________________________________________________\n",
      "         country  avg_temp_c\n",
      "0  Côte D'Ivoire      27.293\n",
      "1  Côte D'Ivoire      27.685\n",
      "2  Côte D'Ivoire      29.061\n",
      "3  Côte D'Ivoire      28.162\n",
      "4  Côte D'Ivoire      27.547\n"
     ]
    }
   ],
   "source": [
    "# İlk 5 satırı filtreleyip bakalım\n",
    "print(temperatures.iloc[:5]) #0'dan 5.index'e (5.index hariç) kadar getirdi .iloc[]\n",
    "print(\"_________________________________________________\")\n",
    "\n",
    "# .iloc[] ile 0.satırdan 5.satıra kadar (5.satır hariç) ve 2.sütundan 4.sütuna kadar (4.sütun hariç)\n",
    "# olan tüm verileri getiriyoruz\n",
    "print(temperatures.iloc[:5, 2:4]) "
   ]
  },
  {
   "cell_type": "markdown",
   "id": "58389d39",
   "metadata": {
    "papermill": {
     "duration": 0.032296,
     "end_time": "2022-09-06T06:52:48.737468",
     "exception": false,
     "start_time": "2022-09-06T06:52:48.705172",
     "status": "completed"
    },
    "tags": []
   },
   "source": [
    "#### ***.dt anahtar kelimesi***\n",
    "- *Bir tarihin bileşenlerine (yıl, ay ve gün) dataframe[“sütun_ismi”].dt.component formunun kodunu kullanarak erişebilirsiniz.*\n",
    "- *Örneğin;*\n",
    "  - ay bileşeni için --> dataframe[“sütun_ismi”].dt.month\n",
    "  - yıl bileşeni için --> dataframe[“sütun_ismi”].dt.year kullanmak gerekir."
   ]
  },
  {
   "cell_type": "code",
   "execution_count": 73,
   "id": "f3e2c75f",
   "metadata": {
    "execution": {
     "iopub.execute_input": "2022-09-06T06:52:48.816038Z",
     "iopub.status.busy": "2022-09-06T06:52:48.815620Z",
     "iopub.status.idle": "2022-09-06T06:52:48.833943Z",
     "shell.execute_reply": "2022-09-06T06:52:48.832846Z"
    },
    "papermill": {
     "duration": 0.061673,
     "end_time": "2022-09-06T06:52:48.836602",
     "exception": false,
     "start_time": "2022-09-06T06:52:48.774929",
     "status": "completed"
    },
    "tags": []
   },
   "outputs": [
    {
     "data": {
      "text/plain": [
       "0        2000\n",
       "1        2000\n",
       "2        2000\n",
       "3        2000\n",
       "4        2000\n",
       "         ... \n",
       "16495    2013\n",
       "16496    2013\n",
       "16497    2013\n",
       "16498    2013\n",
       "16499    2013\n",
       "Name: year, Length: 16500, dtype: int64"
      ]
     },
     "execution_count": 73,
     "metadata": {},
     "output_type": "execute_result"
    }
   ],
   "source": [
    "# temperatures verimize bir \"year\" sütunu ekleyelim\n",
    "temperatures[\"year\"] = (temperatures[\"date\"].dt).year\n",
    "\n",
    "temperatures[\"year\"]"
   ]
  },
  {
   "cell_type": "code",
   "execution_count": 74,
   "id": "391eb4cb",
   "metadata": {
    "execution": {
     "iopub.execute_input": "2022-09-06T06:52:48.909017Z",
     "iopub.status.busy": "2022-09-06T06:52:48.907762Z",
     "iopub.status.idle": "2022-09-06T06:52:48.955733Z",
     "shell.execute_reply": "2022-09-06T06:52:48.954600Z"
    },
    "papermill": {
     "duration": 0.084271,
     "end_time": "2022-09-06T06:52:48.958204",
     "exception": false,
     "start_time": "2022-09-06T06:52:48.873933",
     "status": "completed"
    },
    "tags": []
   },
   "outputs": [
    {
     "data": {
      "text/html": [
       "<div>\n",
       "<style scoped>\n",
       "    .dataframe tbody tr th:only-of-type {\n",
       "        vertical-align: middle;\n",
       "    }\n",
       "\n",
       "    .dataframe tbody tr th {\n",
       "        vertical-align: top;\n",
       "    }\n",
       "\n",
       "    .dataframe thead th {\n",
       "        text-align: right;\n",
       "    }\n",
       "</style>\n",
       "<table border=\"1\" class=\"dataframe\">\n",
       "  <thead>\n",
       "    <tr style=\"text-align: right;\">\n",
       "      <th></th>\n",
       "      <th>year</th>\n",
       "      <th>2000</th>\n",
       "      <th>2001</th>\n",
       "      <th>2002</th>\n",
       "      <th>2003</th>\n",
       "      <th>2004</th>\n",
       "      <th>2005</th>\n",
       "      <th>2006</th>\n",
       "      <th>2007</th>\n",
       "      <th>2008</th>\n",
       "      <th>2009</th>\n",
       "      <th>2010</th>\n",
       "      <th>2011</th>\n",
       "      <th>2012</th>\n",
       "      <th>2013</th>\n",
       "    </tr>\n",
       "    <tr>\n",
       "      <th>country</th>\n",
       "      <th>city</th>\n",
       "      <th></th>\n",
       "      <th></th>\n",
       "      <th></th>\n",
       "      <th></th>\n",
       "      <th></th>\n",
       "      <th></th>\n",
       "      <th></th>\n",
       "      <th></th>\n",
       "      <th></th>\n",
       "      <th></th>\n",
       "      <th></th>\n",
       "      <th></th>\n",
       "      <th></th>\n",
       "      <th></th>\n",
       "    </tr>\n",
       "  </thead>\n",
       "  <tbody>\n",
       "    <tr>\n",
       "      <th>Afghanistan</th>\n",
       "      <th>Kabul</th>\n",
       "      <td>15.822667</td>\n",
       "      <td>15.847917</td>\n",
       "      <td>15.714583</td>\n",
       "      <td>15.132583</td>\n",
       "      <td>16.128417</td>\n",
       "      <td>14.847500</td>\n",
       "      <td>15.798500</td>\n",
       "      <td>15.518000</td>\n",
       "      <td>15.479250</td>\n",
       "      <td>15.093333</td>\n",
       "      <td>15.676000</td>\n",
       "      <td>15.812167</td>\n",
       "      <td>14.510333</td>\n",
       "      <td>16.206125</td>\n",
       "    </tr>\n",
       "    <tr>\n",
       "      <th>Angola</th>\n",
       "      <th>Luanda</th>\n",
       "      <td>24.410333</td>\n",
       "      <td>24.427083</td>\n",
       "      <td>24.790917</td>\n",
       "      <td>24.867167</td>\n",
       "      <td>24.216167</td>\n",
       "      <td>24.414583</td>\n",
       "      <td>24.138417</td>\n",
       "      <td>24.241583</td>\n",
       "      <td>24.266333</td>\n",
       "      <td>24.325083</td>\n",
       "      <td>24.440250</td>\n",
       "      <td>24.150750</td>\n",
       "      <td>24.240083</td>\n",
       "      <td>24.553875</td>\n",
       "    </tr>\n",
       "    <tr>\n",
       "      <th rowspan=\"2\" valign=\"top\">Australia</th>\n",
       "      <th>Melbourne</th>\n",
       "      <td>14.320083</td>\n",
       "      <td>14.180000</td>\n",
       "      <td>14.075833</td>\n",
       "      <td>13.985583</td>\n",
       "      <td>13.742083</td>\n",
       "      <td>14.378500</td>\n",
       "      <td>13.991083</td>\n",
       "      <td>14.991833</td>\n",
       "      <td>14.110583</td>\n",
       "      <td>14.647417</td>\n",
       "      <td>14.231667</td>\n",
       "      <td>14.190917</td>\n",
       "      <td>14.268667</td>\n",
       "      <td>14.741500</td>\n",
       "    </tr>\n",
       "    <tr>\n",
       "      <th>Sydney</th>\n",
       "      <td>17.567417</td>\n",
       "      <td>17.854500</td>\n",
       "      <td>17.733833</td>\n",
       "      <td>17.592333</td>\n",
       "      <td>17.869667</td>\n",
       "      <td>18.028083</td>\n",
       "      <td>17.749500</td>\n",
       "      <td>18.020833</td>\n",
       "      <td>17.321083</td>\n",
       "      <td>18.175833</td>\n",
       "      <td>17.999000</td>\n",
       "      <td>17.713333</td>\n",
       "      <td>17.474333</td>\n",
       "      <td>18.089750</td>\n",
       "    </tr>\n",
       "    <tr>\n",
       "      <th>Bangladesh</th>\n",
       "      <th>Dhaka</th>\n",
       "      <td>25.905250</td>\n",
       "      <td>25.931250</td>\n",
       "      <td>26.095000</td>\n",
       "      <td>25.927417</td>\n",
       "      <td>26.136083</td>\n",
       "      <td>26.193333</td>\n",
       "      <td>26.440417</td>\n",
       "      <td>25.951333</td>\n",
       "      <td>26.004500</td>\n",
       "      <td>26.535583</td>\n",
       "      <td>26.648167</td>\n",
       "      <td>25.803250</td>\n",
       "      <td>26.283583</td>\n",
       "      <td>26.587000</td>\n",
       "    </tr>\n",
       "    <tr>\n",
       "      <th>...</th>\n",
       "      <th>...</th>\n",
       "      <td>...</td>\n",
       "      <td>...</td>\n",
       "      <td>...</td>\n",
       "      <td>...</td>\n",
       "      <td>...</td>\n",
       "      <td>...</td>\n",
       "      <td>...</td>\n",
       "      <td>...</td>\n",
       "      <td>...</td>\n",
       "      <td>...</td>\n",
       "      <td>...</td>\n",
       "      <td>...</td>\n",
       "      <td>...</td>\n",
       "      <td>...</td>\n",
       "    </tr>\n",
       "    <tr>\n",
       "      <th rowspan=\"3\" valign=\"top\">United States</th>\n",
       "      <th>Chicago</th>\n",
       "      <td>11.089667</td>\n",
       "      <td>11.703083</td>\n",
       "      <td>11.532083</td>\n",
       "      <td>10.481583</td>\n",
       "      <td>10.943417</td>\n",
       "      <td>11.583833</td>\n",
       "      <td>11.870500</td>\n",
       "      <td>11.448333</td>\n",
       "      <td>10.242417</td>\n",
       "      <td>10.298333</td>\n",
       "      <td>11.815917</td>\n",
       "      <td>11.214250</td>\n",
       "      <td>12.821250</td>\n",
       "      <td>11.586889</td>\n",
       "    </tr>\n",
       "    <tr>\n",
       "      <th>Los Angeles</th>\n",
       "      <td>16.643333</td>\n",
       "      <td>16.466250</td>\n",
       "      <td>16.430250</td>\n",
       "      <td>16.944667</td>\n",
       "      <td>16.552833</td>\n",
       "      <td>16.431417</td>\n",
       "      <td>16.623083</td>\n",
       "      <td>16.699917</td>\n",
       "      <td>17.014750</td>\n",
       "      <td>16.677000</td>\n",
       "      <td>15.887000</td>\n",
       "      <td>15.874833</td>\n",
       "      <td>17.089583</td>\n",
       "      <td>18.120667</td>\n",
       "    </tr>\n",
       "    <tr>\n",
       "      <th>New York</th>\n",
       "      <td>9.969083</td>\n",
       "      <td>10.931000</td>\n",
       "      <td>11.252167</td>\n",
       "      <td>9.836000</td>\n",
       "      <td>10.389500</td>\n",
       "      <td>10.681417</td>\n",
       "      <td>11.519250</td>\n",
       "      <td>10.627333</td>\n",
       "      <td>10.641667</td>\n",
       "      <td>10.141833</td>\n",
       "      <td>11.357583</td>\n",
       "      <td>11.272250</td>\n",
       "      <td>11.971500</td>\n",
       "      <td>12.163889</td>\n",
       "    </tr>\n",
       "    <tr>\n",
       "      <th>Vietnam</th>\n",
       "      <th>Ho Chi Minh City</th>\n",
       "      <td>27.588917</td>\n",
       "      <td>27.831750</td>\n",
       "      <td>28.064750</td>\n",
       "      <td>27.827667</td>\n",
       "      <td>27.686583</td>\n",
       "      <td>27.884000</td>\n",
       "      <td>28.044000</td>\n",
       "      <td>27.866667</td>\n",
       "      <td>27.611417</td>\n",
       "      <td>27.853333</td>\n",
       "      <td>28.281750</td>\n",
       "      <td>27.675417</td>\n",
       "      <td>28.248750</td>\n",
       "      <td>28.455000</td>\n",
       "    </tr>\n",
       "    <tr>\n",
       "      <th>Zimbabwe</th>\n",
       "      <th>Harare</th>\n",
       "      <td>20.283667</td>\n",
       "      <td>20.861000</td>\n",
       "      <td>21.079333</td>\n",
       "      <td>20.889167</td>\n",
       "      <td>20.307667</td>\n",
       "      <td>21.487417</td>\n",
       "      <td>20.699750</td>\n",
       "      <td>20.746250</td>\n",
       "      <td>20.680500</td>\n",
       "      <td>20.523833</td>\n",
       "      <td>21.165833</td>\n",
       "      <td>20.781750</td>\n",
       "      <td>20.523333</td>\n",
       "      <td>19.756500</td>\n",
       "    </tr>\n",
       "  </tbody>\n",
       "</table>\n",
       "<p>100 rows × 14 columns</p>\n",
       "</div>"
      ],
      "text/plain": [
       "year                                 2000       2001       2002       2003  \\\n",
       "country       city                                                           \n",
       "Afghanistan   Kabul             15.822667  15.847917  15.714583  15.132583   \n",
       "Angola        Luanda            24.410333  24.427083  24.790917  24.867167   \n",
       "Australia     Melbourne         14.320083  14.180000  14.075833  13.985583   \n",
       "              Sydney            17.567417  17.854500  17.733833  17.592333   \n",
       "Bangladesh    Dhaka             25.905250  25.931250  26.095000  25.927417   \n",
       "...                                   ...        ...        ...        ...   \n",
       "United States Chicago           11.089667  11.703083  11.532083  10.481583   \n",
       "              Los Angeles       16.643333  16.466250  16.430250  16.944667   \n",
       "              New York           9.969083  10.931000  11.252167   9.836000   \n",
       "Vietnam       Ho Chi Minh City  27.588917  27.831750  28.064750  27.827667   \n",
       "Zimbabwe      Harare            20.283667  20.861000  21.079333  20.889167   \n",
       "\n",
       "year                                 2004       2005       2006       2007  \\\n",
       "country       city                                                           \n",
       "Afghanistan   Kabul             16.128417  14.847500  15.798500  15.518000   \n",
       "Angola        Luanda            24.216167  24.414583  24.138417  24.241583   \n",
       "Australia     Melbourne         13.742083  14.378500  13.991083  14.991833   \n",
       "              Sydney            17.869667  18.028083  17.749500  18.020833   \n",
       "Bangladesh    Dhaka             26.136083  26.193333  26.440417  25.951333   \n",
       "...                                   ...        ...        ...        ...   \n",
       "United States Chicago           10.943417  11.583833  11.870500  11.448333   \n",
       "              Los Angeles       16.552833  16.431417  16.623083  16.699917   \n",
       "              New York          10.389500  10.681417  11.519250  10.627333   \n",
       "Vietnam       Ho Chi Minh City  27.686583  27.884000  28.044000  27.866667   \n",
       "Zimbabwe      Harare            20.307667  21.487417  20.699750  20.746250   \n",
       "\n",
       "year                                 2008       2009       2010       2011  \\\n",
       "country       city                                                           \n",
       "Afghanistan   Kabul             15.479250  15.093333  15.676000  15.812167   \n",
       "Angola        Luanda            24.266333  24.325083  24.440250  24.150750   \n",
       "Australia     Melbourne         14.110583  14.647417  14.231667  14.190917   \n",
       "              Sydney            17.321083  18.175833  17.999000  17.713333   \n",
       "Bangladesh    Dhaka             26.004500  26.535583  26.648167  25.803250   \n",
       "...                                   ...        ...        ...        ...   \n",
       "United States Chicago           10.242417  10.298333  11.815917  11.214250   \n",
       "              Los Angeles       17.014750  16.677000  15.887000  15.874833   \n",
       "              New York          10.641667  10.141833  11.357583  11.272250   \n",
       "Vietnam       Ho Chi Minh City  27.611417  27.853333  28.281750  27.675417   \n",
       "Zimbabwe      Harare            20.680500  20.523833  21.165833  20.781750   \n",
       "\n",
       "year                                 2012       2013  \n",
       "country       city                                    \n",
       "Afghanistan   Kabul             14.510333  16.206125  \n",
       "Angola        Luanda            24.240083  24.553875  \n",
       "Australia     Melbourne         14.268667  14.741500  \n",
       "              Sydney            17.474333  18.089750  \n",
       "Bangladesh    Dhaka             26.283583  26.587000  \n",
       "...                                   ...        ...  \n",
       "United States Chicago           12.821250  11.586889  \n",
       "              Los Angeles       17.089583  18.120667  \n",
       "              New York          11.971500  12.163889  \n",
       "Vietnam       Ho Chi Minh City  28.248750  28.455000  \n",
       "Zimbabwe      Harare            20.523333  19.756500  \n",
       "\n",
       "[100 rows x 14 columns]"
      ]
     },
     "execution_count": 74,
     "metadata": {},
     "output_type": "execute_result"
    }
   ],
   "source": [
    "# avg_temp_c sütununun değerlerini alalım, satırlarda ülke ve şehir isimleri, sütunlarda yıllar olacak şekilde bir pivot tablosu yapalım. \n",
    "temp_by_country_city_vs_year = temperatures.pivot_table(\"avg_temp_c\", index = [\"country\", \"city\"], columns = \"year\")\n",
    "#pivot table'da herhangi bir parametre belirtmediğimiz için değerlerimizin ortalamasını alacak\n",
    "\n",
    "# Sonucu görelim\n",
    "temp_by_country_city_vs_year"
   ]
  },
  {
   "cell_type": "code",
   "execution_count": 75,
   "id": "e7f79281",
   "metadata": {
    "execution": {
     "iopub.execute_input": "2022-09-06T06:52:49.030109Z",
     "iopub.status.busy": "2022-09-06T06:52:49.029324Z",
     "iopub.status.idle": "2022-09-06T06:52:49.048018Z",
     "shell.execute_reply": "2022-09-06T06:52:49.046973Z"
    },
    "papermill": {
     "duration": 0.059046,
     "end_time": "2022-09-06T06:52:49.051300",
     "exception": false,
     "start_time": "2022-09-06T06:52:48.992254",
     "status": "completed"
    },
    "tags": []
   },
   "outputs": [
    {
     "data": {
      "text/html": [
       "<div>\n",
       "<style scoped>\n",
       "    .dataframe tbody tr th:only-of-type {\n",
       "        vertical-align: middle;\n",
       "    }\n",
       "\n",
       "    .dataframe tbody tr th {\n",
       "        vertical-align: top;\n",
       "    }\n",
       "\n",
       "    .dataframe thead th {\n",
       "        text-align: right;\n",
       "    }\n",
       "</style>\n",
       "<table border=\"1\" class=\"dataframe\">\n",
       "  <thead>\n",
       "    <tr style=\"text-align: right;\">\n",
       "      <th></th>\n",
       "      <th>year</th>\n",
       "      <th>2005</th>\n",
       "      <th>2006</th>\n",
       "      <th>2007</th>\n",
       "      <th>2008</th>\n",
       "      <th>2009</th>\n",
       "      <th>2010</th>\n",
       "    </tr>\n",
       "    <tr>\n",
       "      <th>country</th>\n",
       "      <th>city</th>\n",
       "      <th></th>\n",
       "      <th></th>\n",
       "      <th></th>\n",
       "      <th></th>\n",
       "      <th></th>\n",
       "      <th></th>\n",
       "    </tr>\n",
       "  </thead>\n",
       "  <tbody>\n",
       "    <tr>\n",
       "      <th rowspan=\"2\" valign=\"top\">Egypt</th>\n",
       "      <th>Cairo</th>\n",
       "      <td>22.006500</td>\n",
       "      <td>22.050000</td>\n",
       "      <td>22.361000</td>\n",
       "      <td>22.644500</td>\n",
       "      <td>22.625000</td>\n",
       "      <td>23.718250</td>\n",
       "    </tr>\n",
       "    <tr>\n",
       "      <th>Gizeh</th>\n",
       "      <td>22.006500</td>\n",
       "      <td>22.050000</td>\n",
       "      <td>22.361000</td>\n",
       "      <td>22.644500</td>\n",
       "      <td>22.625000</td>\n",
       "      <td>23.718250</td>\n",
       "    </tr>\n",
       "    <tr>\n",
       "      <th>Ethiopia</th>\n",
       "      <th>Addis Abeba</th>\n",
       "      <td>18.312833</td>\n",
       "      <td>18.427083</td>\n",
       "      <td>18.142583</td>\n",
       "      <td>18.165000</td>\n",
       "      <td>18.765333</td>\n",
       "      <td>18.298250</td>\n",
       "    </tr>\n",
       "    <tr>\n",
       "      <th>France</th>\n",
       "      <th>Paris</th>\n",
       "      <td>11.552917</td>\n",
       "      <td>11.788500</td>\n",
       "      <td>11.750833</td>\n",
       "      <td>11.278250</td>\n",
       "      <td>11.464083</td>\n",
       "      <td>10.409833</td>\n",
       "    </tr>\n",
       "    <tr>\n",
       "      <th>Germany</th>\n",
       "      <th>Berlin</th>\n",
       "      <td>9.919083</td>\n",
       "      <td>10.545333</td>\n",
       "      <td>10.883167</td>\n",
       "      <td>10.657750</td>\n",
       "      <td>10.062500</td>\n",
       "      <td>8.606833</td>\n",
       "    </tr>\n",
       "    <tr>\n",
       "      <th rowspan=\"5\" valign=\"top\">India</th>\n",
       "      <th>Ahmadabad</th>\n",
       "      <td>26.828083</td>\n",
       "      <td>27.282833</td>\n",
       "      <td>27.511167</td>\n",
       "      <td>27.048500</td>\n",
       "      <td>28.095833</td>\n",
       "      <td>28.017833</td>\n",
       "    </tr>\n",
       "    <tr>\n",
       "      <th>Bangalore</th>\n",
       "      <td>25.476500</td>\n",
       "      <td>25.418250</td>\n",
       "      <td>25.464333</td>\n",
       "      <td>25.352583</td>\n",
       "      <td>25.725750</td>\n",
       "      <td>25.705250</td>\n",
       "    </tr>\n",
       "    <tr>\n",
       "      <th>Bombay</th>\n",
       "      <td>27.035750</td>\n",
       "      <td>27.381500</td>\n",
       "      <td>27.634667</td>\n",
       "      <td>27.177750</td>\n",
       "      <td>27.844500</td>\n",
       "      <td>27.765417</td>\n",
       "    </tr>\n",
       "    <tr>\n",
       "      <th>Calcutta</th>\n",
       "      <td>26.729167</td>\n",
       "      <td>26.986250</td>\n",
       "      <td>26.584583</td>\n",
       "      <td>26.522333</td>\n",
       "      <td>27.153250</td>\n",
       "      <td>27.288833</td>\n",
       "    </tr>\n",
       "    <tr>\n",
       "      <th>Delhi</th>\n",
       "      <td>25.716083</td>\n",
       "      <td>26.365917</td>\n",
       "      <td>26.145667</td>\n",
       "      <td>25.675000</td>\n",
       "      <td>26.554250</td>\n",
       "      <td>26.520250</td>\n",
       "    </tr>\n",
       "  </tbody>\n",
       "</table>\n",
       "</div>"
      ],
      "text/plain": [
       "year                       2005       2006       2007       2008       2009  \\\n",
       "country  city                                                                 \n",
       "Egypt    Cairo        22.006500  22.050000  22.361000  22.644500  22.625000   \n",
       "         Gizeh        22.006500  22.050000  22.361000  22.644500  22.625000   \n",
       "Ethiopia Addis Abeba  18.312833  18.427083  18.142583  18.165000  18.765333   \n",
       "France   Paris        11.552917  11.788500  11.750833  11.278250  11.464083   \n",
       "Germany  Berlin        9.919083  10.545333  10.883167  10.657750  10.062500   \n",
       "India    Ahmadabad    26.828083  27.282833  27.511167  27.048500  28.095833   \n",
       "         Bangalore    25.476500  25.418250  25.464333  25.352583  25.725750   \n",
       "         Bombay       27.035750  27.381500  27.634667  27.177750  27.844500   \n",
       "         Calcutta     26.729167  26.986250  26.584583  26.522333  27.153250   \n",
       "         Delhi        25.716083  26.365917  26.145667  25.675000  26.554250   \n",
       "\n",
       "year                       2010  \n",
       "country  city                    \n",
       "Egypt    Cairo        23.718250  \n",
       "         Gizeh        23.718250  \n",
       "Ethiopia Addis Abeba  18.298250  \n",
       "France   Paris        10.409833  \n",
       "Germany  Berlin        8.606833  \n",
       "India    Ahmadabad    28.017833  \n",
       "         Bangalore    25.705250  \n",
       "         Bombay       27.765417  \n",
       "         Calcutta     27.288833  \n",
       "         Delhi        26.520250  "
      ]
     },
     "execution_count": 75,
     "metadata": {},
     "output_type": "execute_result"
    }
   ],
   "source": [
    "# Belirli ülkeler arasındakileri, belirli şehirler arasındakileri ve belirli tarihler arasındakileri \n",
    "# filtreleyip buna bakalım\n",
    "temp_by_country_city_vs_year.loc[(\"Egypt\", \"Cairo\"):(\"India\", \"Delhi\"), \"2005\":\"2010\"]"
   ]
  },
  {
   "cell_type": "code",
   "execution_count": 76,
   "id": "c0e6d066",
   "metadata": {
    "execution": {
     "iopub.execute_input": "2022-09-06T06:52:49.132974Z",
     "iopub.status.busy": "2022-09-06T06:52:49.132553Z",
     "iopub.status.idle": "2022-09-06T06:52:49.143164Z",
     "shell.execute_reply": "2022-09-06T06:52:49.141741Z"
    },
    "papermill": {
     "duration": 0.056493,
     "end_time": "2022-09-06T06:52:49.146054",
     "exception": false,
     "start_time": "2022-09-06T06:52:49.089561",
     "status": "completed"
    },
    "tags": []
   },
   "outputs": [
    {
     "data": {
      "text/plain": [
       "year\n",
       "2000    19.506243\n",
       "2001    19.679352\n",
       "2002    19.855685\n",
       "2003    19.630197\n",
       "2004    19.672204\n",
       "2005    19.607239\n",
       "2006    19.793993\n",
       "2007    19.854270\n",
       "2008    19.608778\n",
       "2009    19.833752\n",
       "2010    19.911734\n",
       "2011    19.549197\n",
       "2012    19.668239\n",
       "2013    20.312285\n",
       "dtype: float64"
      ]
     },
     "execution_count": 76,
     "metadata": {},
     "output_type": "execute_result"
    }
   ],
   "source": [
    "# Her yıl için dünya çapındaki ortalama sıcaklığı hesaplayalım ve bunu \"mean_temp_by_year\" adlı değişkende tutalım\n",
    "mean_temp_by_year = temp_by_country_city_vs_year.mean()\n",
    "\n",
    "mean_temp_by_year"
   ]
  },
  {
   "cell_type": "code",
   "execution_count": 77,
   "id": "8b03f486",
   "metadata": {
    "execution": {
     "iopub.execute_input": "2022-09-06T06:52:49.219796Z",
     "iopub.status.busy": "2022-09-06T06:52:49.218948Z",
     "iopub.status.idle": "2022-09-06T06:52:49.227112Z",
     "shell.execute_reply": "2022-09-06T06:52:49.225779Z"
    },
    "papermill": {
     "duration": 0.047798,
     "end_time": "2022-09-06T06:52:49.230337",
     "exception": false,
     "start_time": "2022-09-06T06:52:49.182539",
     "status": "completed"
    },
    "tags": []
   },
   "outputs": [
    {
     "name": "stdout",
     "output_type": "stream",
     "text": [
      "year\n",
      "2013    20.312285\n",
      "dtype: float64\n"
     ]
    }
   ],
   "source": [
    "# En yüksek ortalama sıcaklığa sahip yılı filtreleyip yazdıralım\n",
    "print(mean_temp_by_year[mean_temp_by_year == mean_temp_by_year.max()])"
   ]
  },
  {
   "cell_type": "code",
   "execution_count": 78,
   "id": "4c2031a8",
   "metadata": {
    "execution": {
     "iopub.execute_input": "2022-09-06T06:52:49.301443Z",
     "iopub.status.busy": "2022-09-06T06:52:49.301071Z",
     "iopub.status.idle": "2022-09-06T06:52:49.311107Z",
     "shell.execute_reply": "2022-09-06T06:52:49.309396Z"
    },
    "papermill": {
     "duration": 0.049075,
     "end_time": "2022-09-06T06:52:49.314777",
     "exception": false,
     "start_time": "2022-09-06T06:52:49.265702",
     "status": "completed"
    },
    "tags": []
   },
   "outputs": [
    {
     "name": "stdout",
     "output_type": "stream",
     "text": [
      "country  city  \n",
      "China    Harbin    4.876551\n",
      "dtype: float64\n"
     ]
    }
   ],
   "source": [
    "# Şehre göre ortalama sıcaklığı alalım\n",
    "mean_temp_by_city = temp_by_country_city_vs_year.mean(axis=\"columns\")\n",
    "\n",
    "# En düşük ortalama sıcaklığa sahip yılı filtreleyip yazdıralım\n",
    "print(mean_temp_by_city[mean_temp_by_city == mean_temp_by_city.min()])"
   ]
  },
  {
   "cell_type": "markdown",
   "id": "9f2f6e0e",
   "metadata": {
    "papermill": {
     "duration": 0.033667,
     "end_time": "2022-09-06T06:52:49.382715",
     "exception": false,
     "start_time": "2022-09-06T06:52:49.349048",
     "status": "completed"
    },
    "tags": []
   },
   "source": [
    "#### ***Toronto ve Roma için bir sıcaklık çizgisi grafiği oluşturalım***"
   ]
  },
  {
   "cell_type": "code",
   "execution_count": 79,
   "id": "29ea8a1b",
   "metadata": {
    "execution": {
     "iopub.execute_input": "2022-09-06T06:52:49.451719Z",
     "iopub.status.busy": "2022-09-06T06:52:49.451197Z",
     "iopub.status.idle": "2022-09-06T06:52:49.765822Z",
     "shell.execute_reply": "2022-09-06T06:52:49.764874Z"
    },
    "papermill": {
     "duration": 0.351595,
     "end_time": "2022-09-06T06:52:49.767989",
     "exception": false,
     "start_time": "2022-09-06T06:52:49.416394",
     "status": "completed"
    },
    "tags": []
   },
   "outputs": [
    {
     "data": {
      "image/png": "[encoded data removed]",
      "text/plain": [
       "<Figure size 864x360 with 1 Axes>"
      ]
     },
     "metadata": {
      "needs_background": "light"
     },
     "output_type": "display_data"
    }
   ],
   "source": [
    "plt.figure(figsize= (12, 5))\n",
    "\n",
    "# temperatures verimizden Toronto ve Rome olanları ayrı ayrı filtreleyip bu isimde yeni \n",
    "# oluşturacağımız değişkenlere atalım\n",
    "toronto = temperatures[temperatures.city == \"Toronto\"]\n",
    "rome = temperatures[temperatures.city == \"Rome\"]\n",
    "\n",
    "# verimizi \"date\" olarak gruplayalım bunların ortalama sıcaklık değerlerinin ortalamasını mean() ile alalım \n",
    "toronto.groupby(\"date\")[\"avg_temp_c\"].mean().plot(kind=\"line\", color=\"dodgerblue\", label=\"Toronto\")\n",
    "rome.groupby(\"date\")[\"avg_temp_c\"].mean().plot(kind=\"line\", color=\"darkviolet\", label=\"Rome\")\n",
    "\n",
    "plt.title(\"Toronto ve Roma Ortalama Sıcaklık (C°) Karşılaştırması\")\n",
    "plt.xlabel(\"Tarih\")\n",
    "plt.ylabel(\"Ortalama Sıcaklık\")\n",
    "#plt.legend(labels=[\"Toronto\", \"Rome\"])\n",
    "plt.legend()\n",
    "plt.show()"
   ]
  },
  {
   "cell_type": "markdown",
   "id": "4e71167b",
   "metadata": {
    "papermill": {
     "duration": 0.034855,
     "end_time": "2022-09-06T06:52:49.838812",
     "exception": false,
     "start_time": "2022-09-06T06:52:49.803957",
     "status": "completed"
    },
    "tags": []
   },
   "source": [
    "---\n",
    "#### *Evet dördüncü yani son alt başlığımız olan \"Creating and Visualizing DataFrames\" ile devam edelim. Bu konu için \"avocado\" adlı veri setini kullanacağız.*\n",
    "---"
   ]
  },
  {
   "cell_type": "markdown",
   "id": "288a2adc",
   "metadata": {
    "papermill": {
     "duration": 0.03515,
     "end_time": "2022-09-06T06:52:49.974956",
     "exception": false,
     "start_time": "2022-09-06T06:52:49.939806",
     "status": "completed"
    },
    "tags": []
   },
   "source": [
    "> *The Hass Avocado Kurulu, üç farklı boyutta avokado satışı da dahil olmak üzere ABD genelinde avokado arz ve talebini takip ediyor. Bu alıştırmada, hangi boyutun en popüler olduğunu bulmak için bir çubuk grafiği (bar plot) kullanacağız*"
   ]
  },
  {
   "cell_type": "code",
   "execution_count": 80,
   "id": "8c7f5b45",
   "metadata": {
    "execution": {
     "iopub.execute_input": "2022-09-06T06:52:50.047566Z",
     "iopub.status.busy": "2022-09-06T06:52:50.046435Z",
     "iopub.status.idle": "2022-09-06T06:52:50.059664Z",
     "shell.execute_reply": "2022-09-06T06:52:50.058784Z"
    },
    "papermill": {
     "duration": 0.051545,
     "end_time": "2022-09-06T06:52:50.061760",
     "exception": false,
     "start_time": "2022-09-06T06:52:50.010215",
     "status": "completed"
    },
    "tags": []
   },
   "outputs": [
    {
     "data": {
      "text/html": [
       "<div>\n",
       "<style scoped>\n",
       "    .dataframe tbody tr th:only-of-type {\n",
       "        vertical-align: middle;\n",
       "    }\n",
       "\n",
       "    .dataframe tbody tr th {\n",
       "        vertical-align: top;\n",
       "    }\n",
       "\n",
       "    .dataframe thead th {\n",
       "        text-align: right;\n",
       "    }\n",
       "</style>\n",
       "<table border=\"1\" class=\"dataframe\">\n",
       "  <thead>\n",
       "    <tr style=\"text-align: right;\">\n",
       "      <th></th>\n",
       "      <th>date</th>\n",
       "      <th>type</th>\n",
       "      <th>year</th>\n",
       "      <th>avg_price</th>\n",
       "      <th>size</th>\n",
       "      <th>nb_sold</th>\n",
       "    </tr>\n",
       "  </thead>\n",
       "  <tbody>\n",
       "    <tr>\n",
       "      <th>0</th>\n",
       "      <td>2015-12-27</td>\n",
       "      <td>conventional</td>\n",
       "      <td>2015</td>\n",
       "      <td>0.95</td>\n",
       "      <td>small</td>\n",
       "      <td>9626901.09</td>\n",
       "    </tr>\n",
       "    <tr>\n",
       "      <th>1</th>\n",
       "      <td>2015-12-20</td>\n",
       "      <td>conventional</td>\n",
       "      <td>2015</td>\n",
       "      <td>0.98</td>\n",
       "      <td>small</td>\n",
       "      <td>8710021.76</td>\n",
       "    </tr>\n",
       "    <tr>\n",
       "      <th>2</th>\n",
       "      <td>2015-12-13</td>\n",
       "      <td>conventional</td>\n",
       "      <td>2015</td>\n",
       "      <td>0.93</td>\n",
       "      <td>small</td>\n",
       "      <td>9855053.66</td>\n",
       "    </tr>\n",
       "    <tr>\n",
       "      <th>3</th>\n",
       "      <td>2015-12-06</td>\n",
       "      <td>conventional</td>\n",
       "      <td>2015</td>\n",
       "      <td>0.89</td>\n",
       "      <td>small</td>\n",
       "      <td>9405464.36</td>\n",
       "    </tr>\n",
       "    <tr>\n",
       "      <th>4</th>\n",
       "      <td>2015-11-29</td>\n",
       "      <td>conventional</td>\n",
       "      <td>2015</td>\n",
       "      <td>0.99</td>\n",
       "      <td>small</td>\n",
       "      <td>8094803.56</td>\n",
       "    </tr>\n",
       "  </tbody>\n",
       "</table>\n",
       "</div>"
      ],
      "text/plain": [
       "         date          type  year  avg_price   size     nb_sold\n",
       "0  2015-12-27  conventional  2015       0.95  small  9626901.09\n",
       "1  2015-12-20  conventional  2015       0.98  small  8710021.76\n",
       "2  2015-12-13  conventional  2015       0.93  small  9855053.66\n",
       "3  2015-12-06  conventional  2015       0.89  small  9405464.36\n",
       "4  2015-11-29  conventional  2015       0.99  small  8094803.56"
      ]
     },
     "execution_count": 80,
     "metadata": {},
     "output_type": "execute_result"
    }
   ],
   "source": [
    "# İlk birkaç veri satırına bakın\n",
    "avocado.head()"
   ]
  },
  {
   "cell_type": "code",
   "execution_count": 81,
   "id": "97d0032b",
   "metadata": {
    "execution": {
     "iopub.execute_input": "2022-09-06T06:52:50.134945Z",
     "iopub.status.busy": "2022-09-06T06:52:50.134203Z",
     "iopub.status.idle": "2022-09-06T06:52:50.362331Z",
     "shell.execute_reply": "2022-09-06T06:52:50.361325Z"
    },
    "papermill": {
     "duration": 0.267178,
     "end_time": "2022-09-06T06:52:50.364652",
     "exception": false,
     "start_time": "2022-09-06T06:52:50.097474",
     "status": "completed"
    },
    "tags": []
   },
   "outputs": [
    {
     "data": {
      "image/png": "[encoded data removed]",
      "text/plain": [
       "<Figure size 720x360 with 1 Axes>"
      ]
     },
     "metadata": {
      "needs_background": "light"
     },
     "output_type": "display_data"
    }
   ],
   "source": [
    "plt.figure(figsize= (10, 5))\n",
    "\n",
    "# Her boyutta satılan toplam avokado sayısını hesaplayalım\n",
    "nb_sold_by_size = avocado.groupby(\"size\")[\"nb_sold\"].sum()\n",
    "\n",
    "# Boyuta göre satılan avokado sayısını gösteren bir çubuk grafik (bar plot) oluşturalım\n",
    "nb_sold_by_size.plot(kind=\"bar\", rot=0, title=\"Boyuta Göre Satılan Avokado Sayıları\", xlabel=\"Avokado Boyutları\", \n",
    "                     ylabel=\"Toplam Satılan Miktarlar\", color=\"yellowgreen\", label=\"Avokado Sayısı\", legend=\"label\",) \n",
    "\n",
    "# rot anahtar kelimesi rotation (döndürme) için kullanılıyor\n",
    "# rot= 0 : yatay yapar\n",
    "# rot= 90 : dikey yapar\n",
    "# rot= 45 : 45 derece döndürür\n",
    "\n",
    "plt.show()"
   ]
  },
  {
   "cell_type": "code",
   "execution_count": 82,
   "id": "2491b0bb",
   "metadata": {
    "execution": {
     "iopub.execute_input": "2022-09-06T06:52:50.438232Z",
     "iopub.status.busy": "2022-09-06T06:52:50.437521Z",
     "iopub.status.idle": "2022-09-06T06:52:50.680025Z",
     "shell.execute_reply": "2022-09-06T06:52:50.678881Z"
    },
    "papermill": {
     "duration": 0.282353,
     "end_time": "2022-09-06T06:52:50.682935",
     "exception": false,
     "start_time": "2022-09-06T06:52:50.400582",
     "status": "completed"
    },
    "tags": []
   },
   "outputs": [
    {
     "data": {
      "image/png": "[encoded data removed]",
      "text/plain": [
       "<Figure size 864x360 with 1 Axes>"
      ]
     },
     "metadata": {
      "needs_background": "light"
     },
     "output_type": "display_data"
    }
   ],
   "source": [
    "plt.figure(figsize= (12, 5))\n",
    "\n",
    "# Her tarihte satılan toplam avokado sayısını hesaplayalım\n",
    "nb_sold_by_date = avocado.groupby(\"date\")[\"nb_sold\"].sum()\n",
    "\n",
    "# Tarihe göre satılan avokado sayısını gösteren bir çizgi grafiği (line plot) oluşturalım\n",
    "nb_sold_by_date.plot(kind=\"line\", rot=0, title=\"Yıllara Göre Satılan Avokado Sayıları\", xlabel=\"Tarihler\", \n",
    "                     ylabel=\"Toplam Satılan Miktarlar\", label=\"Avokado Sayısı\", legend=\"label\", color=\"yellowgreen\") \n",
    "\n",
    "plt.show()"
   ]
  },
  {
   "cell_type": "code",
   "execution_count": 83,
   "id": "ac77dcec",
   "metadata": {
    "execution": {
     "iopub.execute_input": "2022-09-06T06:52:50.759555Z",
     "iopub.status.busy": "2022-09-06T06:52:50.759134Z",
     "iopub.status.idle": "2022-09-06T06:52:51.090071Z",
     "shell.execute_reply": "2022-09-06T06:52:51.089026Z"
    },
    "papermill": {
     "duration": 0.372316,
     "end_time": "2022-09-06T06:52:51.092510",
     "exception": false,
     "start_time": "2022-09-06T06:52:50.720194",
     "status": "completed"
    },
    "tags": []
   },
   "outputs": [
    {
     "data": {
      "image/png": "[encoded data removed]",
      "text/plain": [
       "<Figure size 432x288 with 1 Axes>"
      ]
     },
     "metadata": {
      "needs_background": "light"
     },
     "output_type": "display_data"
    }
   ],
   "source": [
    "# avg_price ve nb_sold'un dağılım grafiğini (scatter) oluşturup karşılaştırmasını yapalım\n",
    "avocado.plot(x=\"nb_sold\", y=\"avg_price\", kind=\"scatter\", title=\"Satılan avokado sayısı ile ortalama fiyat karşılaştırması\", c=\"#0343DF\")\n",
    "\n",
    "plt.xlabel(\"Satılan Avokado Sayısı\")\n",
    "plt.ylabel(\"Ortalama Fiyatları\")\n",
    "plt.show()"
   ]
  },
  {
   "cell_type": "code",
   "execution_count": 84,
   "id": "0170fa3f",
   "metadata": {
    "execution": {
     "iopub.execute_input": "2022-09-06T06:52:51.171270Z",
     "iopub.status.busy": "2022-09-06T06:52:51.170237Z",
     "iopub.status.idle": "2022-09-06T06:52:51.453470Z",
     "shell.execute_reply": "2022-09-06T06:52:51.452526Z"
    },
    "papermill": {
     "duration": 0.325524,
     "end_time": "2022-09-06T06:52:51.455800",
     "exception": false,
     "start_time": "2022-09-06T06:52:51.130276",
     "status": "completed"
    },
    "tags": []
   },
   "outputs": [
    {
     "data": {
      "image/png": "[encoded data removed]",
      "text/plain": [
       "<Figure size 864x360 with 1 Axes>"
      ]
     },
     "metadata": {
      "needs_background": "light"
     },
     "output_type": "display_data"
    }
   ],
   "source": [
    "plt.figure(figsize= (12, 5))\n",
    "\n",
    "# Geleneksel(Konvansiyonel) olanların ortalama fiyatlarını alıp bunun histogram grafiğini oluşturalım\n",
    "avocado[avocado[\"type\"] == \"conventional\"][\"avg_price\"].hist(color=\"#9A0EEA\")\n",
    "\n",
    "# Organik olanların ortalama fiyatlarını alıp bunun histogram grafiğini oluşturalım\n",
    "avocado[avocado[\"type\"] == \"organic\"][\"avg_price\"].hist(color=\"#9ACD32\")\n",
    "\n",
    "plt.title(\"Organik ve Geleneksel Olanların Ortalama Fiyat Karşılaştırması\")\n",
    "plt.xlabel(\"Ortalama Fiyatlar\")\n",
    "plt.ylabel(\"Sayıları\")\n",
    "plt.legend([\"Geleneksel\", \"Organik\"])\n",
    "\n",
    "# Her ikisini tek bir grafik üzerinde görelim şimdi de\n",
    "plt.show()"
   ]
  },
  {
   "cell_type": "markdown",
   "id": "0e1b8b51",
   "metadata": {
    "papermill": {
     "duration": 0.038177,
     "end_time": "2022-09-06T06:52:51.533264",
     "exception": false,
     "start_time": "2022-09-06T06:52:51.495087",
     "status": "completed"
    },
    "tags": []
   },
   "source": [
    "#### *İki dağılım arasında ne kadar örtüşme olduğunu görmek için her iki histogramın saydamlığını 0,5'e ayarlamak için kodumuzu değiştirelim.*"
   ]
  },
  {
   "cell_type": "code",
   "execution_count": 85,
   "id": "5c61b1f7",
   "metadata": {
    "execution": {
     "iopub.execute_input": "2022-09-06T06:52:51.612073Z",
     "iopub.status.busy": "2022-09-06T06:52:51.611377Z",
     "iopub.status.idle": "2022-09-06T06:52:51.894089Z",
     "shell.execute_reply": "2022-09-06T06:52:51.892792Z"
    },
    "papermill": {
     "duration": 0.32514,
     "end_time": "2022-09-06T06:52:51.896739",
     "exception": false,
     "start_time": "2022-09-06T06:52:51.571599",
     "status": "completed"
    },
    "tags": []
   },
   "outputs": [
    {
     "data": {
      "image/png": "[encoded data removed]",
      "text/plain": [
       "<Figure size 864x360 with 1 Axes>"
      ]
     },
     "metadata": {
      "needs_background": "light"
     },
     "output_type": "display_data"
    }
   ],
   "source": [
    "plt.figure(figsize= (12, 5))\n",
    "\n",
    "# Histogram saydamlığını 0,5 olarak değiştirelim\n",
    "avocado[avocado[\"type\"] == \"conventional\"][\"avg_price\"].hist(alpha=0.5, color=\"#9A0EEA\")\n",
    "\n",
    "# Histogram saydamlığını 0,5 olarak değiştirelim\n",
    "avocado[avocado[\"type\"] == \"organic\"][\"avg_price\"].hist(alpha=0.5, color=\"#9ACD32\")\n",
    "\n",
    "plt.title(\"Organik ve Geleneksel Olanların Ortalama Fiyat Karşılaştırması\")\n",
    "plt.xlabel(\"Ortalama Fiyatlar\")\n",
    "plt.ylabel(\"Sayıları\")\n",
    "plt.legend([\"Geleneksel\", \"Organik\"])\n",
    "\n",
    "plt.show()"
   ]
  },
  {
   "cell_type": "markdown",
   "id": "3bfb8c5f",
   "metadata": {
    "papermill": {
     "duration": 0.038274,
     "end_time": "2022-09-06T06:52:51.973514",
     "exception": false,
     "start_time": "2022-09-06T06:52:51.935240",
     "status": "completed"
    },
    "tags": []
   },
   "source": [
    "#### *Her iki histogramda da 20 kutu kullanmak için kodumuzu değiştirelim.*\n",
    "- bins: Histogramdaki kutu sayısı diyebiliriz.\"auto\" değer vererek otomatik olarak da görebilirsiniz."
   ]
  },
  {
   "cell_type": "code",
   "execution_count": 86,
   "id": "079fa091",
   "metadata": {
    "execution": {
     "iopub.execute_input": "2022-09-06T06:52:52.067559Z",
     "iopub.status.busy": "2022-09-06T06:52:52.066921Z",
     "iopub.status.idle": "2022-09-06T06:52:52.388481Z",
     "shell.execute_reply": "2022-09-06T06:52:52.387467Z"
    },
    "papermill": {
     "duration": 0.378812,
     "end_time": "2022-09-06T06:52:52.391001",
     "exception": false,
     "start_time": "2022-09-06T06:52:52.012189",
     "status": "completed"
    },
    "tags": []
   },
   "outputs": [
    {
     "data": {
      "image/png": "[encoded data removed]",
      "text/plain": [
       "<Figure size 864x360 with 1 Axes>"
      ]
     },
     "metadata": {
      "needs_background": "light"
     },
     "output_type": "display_data"
    }
   ],
   "source": [
    "plt.figure(figsize= (12, 5))\n",
    "\n",
    "# Kutuları 20 olarak değiştirelim\n",
    "avocado[avocado[\"type\"] == \"conventional\"][\"avg_price\"].hist(bins=20, alpha=0.5, color=\"#9A0EEA\")\n",
    "\n",
    "# Kutuları 20 olarak değiştirelim\n",
    "avocado[avocado[\"type\"] == \"organic\"][\"avg_price\"].hist(bins= 20, alpha=0.5, color=\"#9ACD32\")\n",
    "\n",
    "plt.title(\"Organik ve Geleneksel Olanların Ortalama Fiyat Karşılaştırması\")\n",
    "plt.xlabel(\"Ortalama Fiyatlar\")\n",
    "plt.ylabel(\"Sayıları\")\n",
    "plt.legend([\"Geleneksel\", \"Organik\"])\n",
    "\n",
    "plt.show()"
   ]
  },
  {
   "cell_type": "markdown",
   "id": "a5f24b62",
   "metadata": {
    "papermill": {
     "duration": 0.038583,
     "end_time": "2022-09-06T06:52:52.468522",
     "exception": false,
     "start_time": "2022-09-06T06:52:52.429939",
     "status": "completed"
    },
    "tags": []
   },
   "source": [
    "### 2017'de satılan toplam organik avokado sayısı ne kadardı? buna bir bakalım"
   ]
  },
  {
   "cell_type": "code",
   "execution_count": 87,
   "id": "91cf677e",
   "metadata": {
    "execution": {
     "iopub.execute_input": "2022-09-06T06:52:52.548915Z",
     "iopub.status.busy": "2022-09-06T06:52:52.547966Z",
     "iopub.status.idle": "2022-09-06T06:52:52.560101Z",
     "shell.execute_reply": "2022-09-06T06:52:52.559212Z"
    },
    "papermill": {
     "duration": 0.054957,
     "end_time": "2022-09-06T06:52:52.562392",
     "exception": false,
     "start_time": "2022-09-06T06:52:52.507435",
     "status": "completed"
    },
    "tags": []
   },
   "outputs": [
    {
     "data": {
      "text/plain": [
       "23321281.07"
      ]
     },
     "execution_count": 87,
     "metadata": {},
     "output_type": "execute_result"
    }
   ],
   "source": [
    "# set_index ile \"date\" adlı sütun ismini yeni index'imiz olarak ayarlıyoruz. \n",
    "# sort_index() ile sıralamasını yapıyoruz verimizin\n",
    "# loc[] ile 2017 yılı ile 2018 yılı arasındakileri getiriyoruz\n",
    "avocado_2017 = avocado.set_index(\"date\").sort_index().loc[\"2017\":\"2018\"]\n",
    "\n",
    "# loc[] ile türü organik olanları alıyoruz sadece.\n",
    "avocado_organic_2017 = avocado_2017.loc[(avocado_2017[\"type\"] == \"organic\")]\n",
    "\n",
    "# Satılan toplam organik avokado sayısına bakalım\n",
    "avocado_organic_2017[\"nb_sold\"].sum()"
   ]
  }
 ],
 "metadata": {
  "kernelspec": {
   "display_name": "Python 3.9.12 ('base')",
   "language": "python",
   "name": "python3"
  },
  "language_info": {
   "codemirror_mode": {
    "name": "ipython",
    "version": 3
   },
   "file_extension": ".py",
   "mimetype": "text/x-python",
   "name": "python",
   "nbconvert_exporter": "python",
   "pygments_lexer": "ipython3",
   "version": "3.9.12"
  },
  "papermill": {
   "default_parameters": {},
   "duration": 20.29181,
   "end_time": "2022-09-06T06:52:53.323445",
   "environment_variables": {},
   "exception": null,
   "input_path": "__notebook__.ipynb",
   "output_path": "__notebook__.ipynb",
   "parameters": {},
   "start_time": "2022-09-06T06:52:33.031635",
   "version": "2.3.4"
  },
  "vscode": {
   "interpreter": {
    "hash": "62164c8fb3cdc29ac6a738f2969b51adce5d9cfcd257e47b742b1ba3a188c6d5"
   }
  }
 },
 "nbformat": 4,
 "nbformat_minor": 5
}
